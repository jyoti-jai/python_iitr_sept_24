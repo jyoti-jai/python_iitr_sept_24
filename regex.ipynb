{
 "cells": [
  {
   "cell_type": "code",
   "execution_count": 1,
   "metadata": {},
   "outputs": [
    {
     "name": "stdout",
     "output_type": "stream",
     "text": [
      "Maximum: 0.9907\n"
     ]
    }
   ],
   "source": [
    "import re\n",
    "hand = open('mbox-short.txt')\n",
    "numlist = list()\n",
    "for line in hand:\n",
    "    line = line.rstrip()\n",
    "    stuff = re.findall('^X-DSPAM-Confidence: ([0-9.]+)', line)\n",
    "    if len(stuff) != 1 :  continue\n",
    "    num = float(stuff[0])\n",
    "    numlist.append(num)\n",
    "print('Maximum:', max(numlist))\n"
   ]
  },
  {
   "cell_type": "code",
   "execution_count": 5,
   "metadata": {},
   "outputs": [
    {
     "data": {
      "text/plain": [
       "[0.8475,\n",
       " 0.6178,\n",
       " 0.6961,\n",
       " 0.7565,\n",
       " 0.7626,\n",
       " 0.7556,\n",
       " 0.7002,\n",
       " 0.7615,\n",
       " 0.7601,\n",
       " 0.7605,\n",
       " 0.6959,\n",
       " 0.7606,\n",
       " 0.7559,\n",
       " 0.7605,\n",
       " 0.6932,\n",
       " 0.7558,\n",
       " 0.6526,\n",
       " 0.6948,\n",
       " 0.6528,\n",
       " 0.7002,\n",
       " 0.7554,\n",
       " 0.6956,\n",
       " 0.6959,\n",
       " 0.7556,\n",
       " 0.9846,\n",
       " 0.8509,\n",
       " 0.9907]"
      ]
     },
     "execution_count": 5,
     "metadata": {},
     "output_type": "execute_result"
    }
   ],
   "source": [
    "numlist"
   ]
  },
  {
   "cell_type": "code",
   "execution_count": 2,
   "metadata": {},
   "outputs": [
    {
     "name": "stdout",
     "output_type": "stream",
     "text": [
      "big.txt\t\t\t\t\t      Nov24.ipynb\r\n",
      "Binary Search.ipynb\t\t\t      Nov2.ipynb\r\n",
      "Distance between 2 points.ipynb\t\t      nov3.ipynb\r\n",
      "img_Distance2points\t\t\t      nov6.ipynb\r\n",
      "istockphoto-2155904673-1024x1024.jpg\t      oct5_2024_classnotes.txt\r\n",
      "Linear Regression.xlsx\t\t\t      oct 6.ipynb\r\n",
      "mbox-short.txt\t\t\t\t      README.md\r\n",
      "mbox.txt\t\t\t\t      resources.txt\r\n",
      "MultipleVariableEquationsSoln_Explained.xlsx  Sort.ipynb\r\n",
      "MultipleVariableEquationsSoln.ipynb\t      test_file.txt\r\n",
      "nov 10.ipynb\t\t\t\t      txt.json\r\n",
      "nov16_2024.ipynb\t\t\t      Untitled1.ipynb\r\n",
      "nov23.ipynb\t\t\t\t      Untitled.ipynb\r\n"
     ]
    }
   ],
   "source": [
    "!ls "
   ]
  },
  {
   "cell_type": "code",
   "execution_count": 4,
   "metadata": {},
   "outputs": [
    {
     "name": "stdout",
     "output_type": "stream",
     "text": [
      "X-DSPAM-Confidence: 0.8475\r\n",
      "X-DSPAM-Confidence: 0.6178\r\n",
      "X-DSPAM-Confidence: 0.6961\r\n",
      "X-DSPAM-Confidence: 0.7565\r\n",
      "X-DSPAM-Confidence: 0.7626\r\n",
      "X-DSPAM-Confidence: 0.7556\r\n",
      "X-DSPAM-Confidence: 0.7002\r\n",
      "X-DSPAM-Confidence: 0.7615\r\n",
      "X-DSPAM-Confidence: 0.7601\r\n",
      "X-DSPAM-Confidence: 0.7605\r\n",
      "X-DSPAM-Confidence: 0.6959\r\n",
      "X-DSPAM-Confidence: 0.7606\r\n",
      "X-DSPAM-Confidence: 0.7559\r\n",
      "X-DSPAM-Confidence: 0.7605\r\n",
      "X-DSPAM-Confidence: 0.6932\r\n",
      "X-DSPAM-Confidence: 0.7558\r\n",
      "X-DSPAM-Confidence: 0.6526\r\n",
      "X-DSPAM-Confidence: 0.6948\r\n",
      "X-DSPAM-Confidence: 0.6528\r\n",
      "X-DSPAM-Confidence: 0.7002\r\n",
      "X-DSPAM-Confidence: 0.7554\r\n",
      "X-DSPAM-Confidence: 0.6956\r\n",
      "X-DSPAM-Confidence: 0.6959\r\n",
      "X-DSPAM-Confidence: 0.7556\r\n",
      "X-DSPAM-Confidence: 0.9846\r\n",
      "X-DSPAM-Confidence: 0.8509\r\n",
      "X-DSPAM-Confidence: 0.9907\r\n"
     ]
    }
   ],
   "source": [
    "!cat mbox-short.txt|grep -E '^X-DSPAM-Confidence: ([0-9.]+)'"
   ]
  },
  {
   "cell_type": "code",
   "execution_count": 7,
   "metadata": {},
   "outputs": [],
   "source": [
    "# Exercise: Write a regular expression to match email address.\n",
    "# And use it to extract all email addresses from mbox-short.txt"
   ]
  },
  {
   "cell_type": "code",
   "execution_count": null,
   "metadata": {},
   "outputs": [],
   "source": []
  }
 ],
 "metadata": {
  "kernelspec": {
   "display_name": "Python 3",
   "language": "python",
   "name": "python3"
  },
  "language_info": {
   "codemirror_mode": {
    "name": "ipython",
    "version": 3
   },
   "file_extension": ".py",
   "mimetype": "text/x-python",
   "name": "python",
   "nbconvert_exporter": "python",
   "pygments_lexer": "ipython3",
   "version": "3.6.8"
  },
  "toc": {
   "base_numbering": 1,
   "nav_menu": {},
   "number_sections": true,
   "sideBar": true,
   "skip_h1_title": false,
   "title_cell": "Table of Contents",
   "title_sidebar": "Contents",
   "toc_cell": false,
   "toc_position": {},
   "toc_section_display": true,
   "toc_window_display": false
  }
 },
 "nbformat": 4,
 "nbformat_minor": 2
}
