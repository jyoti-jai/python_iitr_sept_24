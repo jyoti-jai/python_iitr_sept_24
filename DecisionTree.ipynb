{
 "cells": [
  {
   "cell_type": "code",
   "execution_count": 35,
   "id": "384aff59-9069-4d55-983d-cf0a43a3e9e1",
   "metadata": {},
   "outputs": [],
   "source": [
    "class Node:\n",
    "    def __init__(self, feature=None, boundary=None, decision_node=False, answer=None, leftnode=None,rightnode=None ):\n",
    "        self.feature = feature\n",
    "        self.boundary = boundary\n",
    "        self.leftnode = leftnode\n",
    "        self.rightnode = rightnode\n",
    "        self.decision_node = decision_node\n",
    "        self.answer = answer\n",
    "        \n",
    "    def __repr__(self): \n",
    "        # return f\"Node(feature={self.feature!r}, boundary={self.boundary!r},leftnode={self.leftnode!r},rightnode={self.rightnode!r}, decision_node={self.decision_node!r},  answer={self.answer!r})\"\n",
    "        return f\"Node(feature={self.feature}, boundary={self.boundary},leftnode={self.leftnode},rightnode={self.rightnode}, decision_node={self.decision_node},  answer={self.answer})\"\n",
    "    def take_decision(self, job):\n",
    "        if (self.decision_node):\n",
    "            return self.answer\n",
    "        else:\n",
    "            #print(self)\n",
    "            job_val = job[self.feature]\n",
    "            if (job_val) >= self.boundary:\n",
    "                ans_node = self.rightnode\n",
    "            else:\n",
    "                ans_node=self.leftnode\n",
    "            return ans_node.take_decision(job)\n",
    "    "
   ]
  },
  {
   "cell_type": "code",
   "execution_count": 36,
   "id": "893639f7-cd82-4068-80a3-b52c7e2f8c9d",
   "metadata": {},
   "outputs": [],
   "source": [
    "def createdecisiontree():\n",
    "    ans_yes = Node(decision_node=True, answer='yes')\n",
    "    ans_no = Node(decision_node=True, answer='no')\n",
    "    parttime = Node(feature='parttime', boundary = 1, leftnode=ans_no,rightnode=ans_yes)\n",
    "    root = Node(feature='salary', boundary = 200000, leftnode=parttime,rightnode=ans_yes)\n",
    "    return root"
   ]
  },
  {
   "cell_type": "code",
   "execution_count": 37,
   "id": "8a9e24e1-f133-4d23-b884-e98ed31c5a68",
   "metadata": {},
   "outputs": [],
   "source": [
    "dt = createdecisiontree()"
   ]
  },
  {
   "cell_type": "code",
   "execution_count": 33,
   "id": "68d6716d-de2a-46a9-97a8-73ed86bd5e19",
   "metadata": {},
   "outputs": [
    {
     "name": "stdout",
     "output_type": "stream",
     "text": [
      "no\n"
     ]
    }
   ],
   "source": [
    "job={\n",
    "    'salary':20000,\n",
    "    'parttime':0\n",
    "}\n",
    "result = dt.take_decision(job)\n",
    "print(result)"
   ]
  },
  {
   "cell_type": "code",
   "execution_count": 34,
   "id": "44371684-541c-4479-9f54-d0888fec7c47",
   "metadata": {},
   "outputs": [
    {
     "name": "stdout",
     "output_type": "stream",
     "text": [
      "Node(feature='salary', boundary=200000,leftnode=Node(feature='parttime', boundary=1,leftnode=Node(feature=None, boundary=None,leftnode=None,rightnode=None, decision_node=True,  answer='no'),rightnode=Node(feature=None, boundary=None,leftnode=None,rightnode=None, decision_node=True,  answer='yes'), decision_node=False,  answer=None),rightnode=Node(feature=None, boundary=None,leftnode=None,rightnode=None, decision_node=True,  answer='yes'), decision_node=False,  answer=None)\n"
     ]
    }
   ],
   "source": [
    "print(dt)"
   ]
  },
  {
   "cell_type": "code",
   "execution_count": 38,
   "id": "76337108-0d09-44f8-bbf2-67036f2587e7",
   "metadata": {},
   "outputs": [
    {
     "name": "stdout",
     "output_type": "stream",
     "text": [
      "Node(feature=salary, boundary=200000,leftnode=Node(feature=parttime, boundary=1,leftnode=Node(feature=None, boundary=None,leftnode=None,rightnode=None, decision_node=True,  answer=no),rightnode=Node(feature=None, boundary=None,leftnode=None,rightnode=None, decision_node=True,  answer=yes), decision_node=False,  answer=None),rightnode=Node(feature=None, boundary=None,leftnode=None,rightnode=None, decision_node=True,  answer=yes), decision_node=False,  answer=None)\n"
     ]
    }
   ],
   "source": [
    "print(dt)"
   ]
  },
  {
   "cell_type": "markdown",
   "id": "54f04967-1e5b-44d2-9f59-30ab816a3cdc",
   "metadata": {},
   "source": [
    "Problem statement : Solve for x using Binary search such as -\n",
    "2^x + x = 5"
   ]
  },
  {
   "cell_type": "code",
   "execution_count": 50,
   "id": "c658166d-36e4-44b2-9375-7068aa6cfd42",
   "metadata": {},
   "outputs": [
    {
     "name": "stdout",
     "output_type": "stream",
     "text": [
      "4.999999998658713\n"
     ]
    }
   ],
   "source": [
    "target = 5\n",
    "left = 0\n",
    "right = target\n",
    "\n",
    "mid = (left + right)/2\n",
    "mid = 1.7156207328662276\n",
    "result = (2 ** mid)+mid\n",
    "print (result)"
   ]
  },
  {
   "cell_type": "code",
   "execution_count": 51,
   "id": "d4913f75-d91b-4e78-adbb-e2cdceb0562a",
   "metadata": {},
   "outputs": [],
   "source": [
    "#2^x + x = y\n",
    "def solveforx(target):\n",
    "    left = 0\n",
    "    right = 5\n",
    "    i = 0\n",
    "    while True:\n",
    "        i+=1\n",
    "        mid = (left + right)/2\n",
    "        result = (2 ** mid) + mid\n",
    "        if (abs(result - target) < 1e-8):\n",
    "            return mid\n",
    "        elif (result > target):\n",
    "            right = mid\n",
    "        else:\n",
    "            left = mid\n",
    "        if (i > 100):\n",
    "            break\n",
    "    return None\n",
    "        \n",
    "    \n",
    "    "
   ]
  },
  {
   "cell_type": "code",
   "execution_count": 52,
   "id": "254820f1-ff76-4b09-92b7-3ceba61b0fed",
   "metadata": {},
   "outputs": [
    {
     "name": "stdout",
     "output_type": "stream",
     "text": [
      "2.839966365136206\n"
     ]
    }
   ],
   "source": [
    "r = solveforx(10)\n",
    "print(r)"
   ]
  },
  {
   "cell_type": "code",
   "execution_count": 53,
   "id": "93ebe191-e7a1-4788-af7e-1e5643817036",
   "metadata": {},
   "outputs": [
    {
     "data": {
      "text/plain": [
       "10.00000000222707"
      ]
     },
     "execution_count": 53,
     "metadata": {},
     "output_type": "execute_result"
    }
   ],
   "source": [
    "(2 ** 2.839966365136206)+2.839966365136206"
   ]
  },
  {
   "cell_type": "code",
   "execution_count": 57,
   "id": "c26cdb6c-1ed9-49b9-8c7b-3519da9d5999",
   "metadata": {},
   "outputs": [],
   "source": [
    "class Solution(object):\n",
    "    def searchRange(self, nums, target):\n",
    "        left = 0\n",
    "        right = len(nums) - 1\n",
    "        index0=-1\n",
    "        index1=-1\n",
    "        index2=-1\n",
    "       \n",
    "        while left<=right:\n",
    "            mid = (left + right)//2\n",
    "            val = nums[mid]\n",
    "            if (val==target):\n",
    "                index0=mid\n",
    "               \n",
    "                if (mid==0):\n",
    "                    index1=mid\n",
    "                elif (nums[mid-1]!=target):\n",
    "                    index1=mid\n",
    "                elif (nums[left]==target):\n",
    "                    index1=left\n",
    "    \n",
    "                if (mid==len(nums)-1):\n",
    "                    index2=mid\n",
    "                elif (nums[mid+1]!=target):\n",
    "                    index2=mid\n",
    "                elif (nums[right]==target):\n",
    "                    index2=right\n",
    "                    \n",
    "                break\n",
    "            elif (val < target):\n",
    "                left = mid + 1\n",
    "            else:\n",
    "                right= mid - 1\n",
    "                \n",
    "        if (index0!=-1):\n",
    "            #Check Left\n",
    "            if(index1==-1):\n",
    "                newarr=nums[:index0]\n",
    "                result = searchRange(newarr,target)\n",
    "                index1=result[0]\n",
    "            #Check Right\n",
    "            if(index2==-1):\n",
    "                newarr=nums[index0:]\n",
    "                result = searchRange(newarr,target)\n",
    "                index2=index0+result[1]\n",
    "                \n",
    "        return ([index1,index2])\n",
    "        "
   ]
  },
  {
   "cell_type": "code",
   "execution_count": 58,
   "id": "b65b73dd-fda6-4762-9b99-a13131901bca",
   "metadata": {},
   "outputs": [
    {
     "name": "stdout",
     "output_type": "stream",
     "text": [
      "[-1, -1]\n"
     ]
    }
   ],
   "source": [
    "solution = Solution()\n",
    "nums = [6,7,7,7,7,7,7,7,7,7,7,9,9,10,11,11,11,11,12]\n",
    "\n",
    "print(solution.searchRange(nums, 8)) "
   ]
  },
  {
   "cell_type": "code",
   "execution_count": null,
   "id": "2d2228f3-ff17-4917-ac03-9cdbe2156f87",
   "metadata": {},
   "outputs": [],
   "source": []
  }
 ],
 "metadata": {
  "kernelspec": {
   "display_name": "Python 3 (ipykernel)",
   "language": "python",
   "name": "python3"
  },
  "language_info": {
   "codemirror_mode": {
    "name": "ipython",
    "version": 3
   },
   "file_extension": ".py",
   "mimetype": "text/x-python",
   "name": "python",
   "nbconvert_exporter": "python",
   "pygments_lexer": "ipython3",
   "version": "3.12.3"
  }
 },
 "nbformat": 4,
 "nbformat_minor": 5
}
