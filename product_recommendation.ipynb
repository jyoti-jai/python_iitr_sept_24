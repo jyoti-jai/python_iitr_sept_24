{
 "cells": [
  {
   "cell_type": "markdown",
   "id": "a68a0973-3993-4c3d-9a88-88adac70a3d6",
   "metadata": {},
   "source": [
    "# Product recommendations using embeddings "
   ]
  },
  {
   "cell_type": "code",
   "execution_count": null,
   "id": "c0a27024-aee3-44f3-bfd9-bb6fc1e606f5",
   "metadata": {},
   "outputs": [],
   "source": [
    "!pip3 install openai"
   ]
  },
  {
   "cell_type": "code",
   "execution_count": null,
   "id": "32c951c8-2655-4214-9ca1-0810ca0cb5f6",
   "metadata": {},
   "outputs": [],
   "source": [
    "import openai\n",
    "import urllib"
   ]
  },
  {
   "cell_type": "markdown",
   "id": "84a9bba3-1149-4647-8a05-694107729db0",
   "metadata": {},
   "source": [
    "## loading OpenAI API key and setting it as environmental variable"
   ]
  },
  {
   "cell_type": "code",
   "execution_count": null,
   "id": "cc60ede8-547f-4379-b175-9cad32fccb54",
   "metadata": {},
   "outputs": [],
   "source": [
    "with open(\"../openai_key.txt\", \"r\") as file:\n",
    "    openai_key = file.read()"
   ]
  },
  {
   "cell_type": "code",
   "execution_count": null,
   "id": "34ef6f4e-d906-40e0-bc46-b336080bf741",
   "metadata": {},
   "outputs": [],
   "source": [
    "import os\n",
    "os.environ[\"OPENAI_KEY\"] = openai_key"
   ]
  },
  {
   "cell_type": "markdown",
   "id": "8c02804f-c749-47e2-a638-9ae087282f1a",
   "metadata": {},
   "source": [
    "## Requesting OpenAI to generate Embedding "
   ]
  },
  {
   "cell_type": "code",
   "execution_count": null,
   "id": "8988d3f6-b427-4f6e-8fd7-6e86d168a117",
   "metadata": {},
   "outputs": [],
   "source": [
    "import json\n",
    "\n",
    "# Define the endpoint URL\n",
    "url = 'https://api.openai.com/v1/embeddings'\n",
    "\n",
    "# Create a function to make the API request\n",
    "def get_openai_embedding(prompt):\n",
    "    headers = {\n",
    "        'Authorization': f'Bearer {openai_key}',\n",
    "        'Content-Type': 'application/json',\n",
    "    }\n",
    "    data = {\n",
    "        \"input\": prompt,    \n",
    "        \"model\": \"text-embedding-ada-002\"\n",
    "    }\n",
    "    \n",
    "    # Encode the data and make the POST request\n",
    "    data = json.dumps(data).encode('utf-8')\n",
    "    req = urllib.request.Request(url, data=data, headers=headers, method='POST')\n",
    "    \n",
    "    try:\n",
    "        response = urllib.request.urlopen(req)\n",
    "        response_data = json.loads(response.read().decode('utf-8'))\n",
    "        return response_data['data'][0]['embedding']\n",
    "    except urllib.error.HTTPError as e:\n",
    "        print(f\"HTTP Error: {e}\")\n",
    "        return None"
   ]
  },
  {
   "cell_type": "code",
   "execution_count": null,
   "id": "e6735ef3-2a5c-4336-8d4a-265658b397a4",
   "metadata": {},
   "outputs": [],
   "source": [
    "cat = get_openai_embedding(\"cat\")\n",
    "dog = get_openai_embedding(\"dog\")"
   ]
  },
  {
   "cell_type": "markdown",
   "id": "de1bc907-952d-463c-9765-97540c45cdf8",
   "metadata": {},
   "source": [
    "## Finding Cosine Similarity between 2 embeddings"
   ]
  },
  {
   "cell_type": "code",
   "execution_count": null,
   "id": "bff701e0-f5d3-4f0f-917e-cbe9a4c13195",
   "metadata": {},
   "outputs": [],
   "source": [
    "def cosine_similarity(a, b):\n",
    "    similarity = 0\n",
    "    for i,j in zip(a,b):\n",
    "        similarity += i*j\n",
    "    return similarity"
   ]
  },
  {
   "cell_type": "code",
   "execution_count": null,
   "id": "b14814ab-2008-481f-b986-bfb79b5b9648",
   "metadata": {},
   "outputs": [],
   "source": [
    "car = get_openai_embedding(\"car\")"
   ]
  },
  {
   "cell_type": "code",
   "execution_count": null,
   "id": "4017138d-4f44-4f15-8ecb-4d24cd612a5d",
   "metadata": {},
   "outputs": [],
   "source": [
    "cosine_similarity(cat,dog)"
   ]
  },
  {
   "cell_type": "code",
   "execution_count": null,
   "id": "e50d0b94-75be-4a01-b47e-7cd372ef7d6a",
   "metadata": {},
   "outputs": [],
   "source": [
    "cosine_similarity(cat,car)"
   ]
  },
  {
   "cell_type": "markdown",
   "id": "cf7908e1-23e7-48cb-98f7-238bf29417a1",
   "metadata": {},
   "source": [
    "## Initalizing Data"
   ]
  },
  {
   "cell_type": "code",
   "execution_count": null,
   "id": "6a3c6d2e-5dc4-4e92-a651-73287587fcd8",
   "metadata": {},
   "outputs": [],
   "source": [
    "product_data = {\n",
    "# Wireless Earbuds\n",
    "    0: [\"Wireless Earbuds\", \"High-quality sound with noise cancellation, Bluetooth 5.0, and 24-hour battery life.\"],\n",
    "    1: [\"Wireless Earbuds Pro\", \"Enhanced bass, active noise canceling, sweatproof, and touch controls.\"],\n",
    "    2: [\"Sports Wireless Earbuds\", \"Water-resistant, secure fit for workouts, 12-hour battery life.\"],\n",
    "    3: [\"Budget Wireless Earbuds\", \"Affordable, good sound quality, compact design, and 8-hour battery life.\"],\n",
    "    4: [\"Gaming Wireless Earbuds\", \"Low latency, surround sound effects, perfect for gaming sessions.\"],\n",
    "    5: [\"Luxury Wireless Earbuds\", \"Premium build, active noise cancellation, 36-hour battery life.\"],\n",
    "    6: [\"Mini Wireless Earbuds\", \"Ultra-compact design, noise isolation, and USB-C charging.\"],\n",
    "    7: [\"True Wireless Earbuds\", \"Dual-mic setup for clear calls, IPX5 water resistance.\"],\n",
    "    8: [\"Eco-Friendly Wireless Earbuds\", \"Made from recycled materials, biodegradable packaging.\"],\n",
    "\n",
    "# Gaming Laptops\n",
    "    9: [\"Gaming Laptop\", \"15.6-inch display, Intel i7 processor, NVIDIA RTX 3060, 16GB RAM, 512GB SSD.\"],\n",
    "    10: [\"Gaming Laptop Ultra\", \"17-inch 4K screen, AMD Ryzen 9, RTX 4080, 32GB RAM, 1TB SSD.\"],\n",
    "    11: [\"Budget Gaming Laptop\", \"14-inch screen, Intel i5 processor, GTX 1650, 8GB RAM, 256GB SSD.\"],\n",
    "    12: [\"Portable Gaming Laptop\", \"Lightweight, 15-inch screen, RTX 3050, and 10-hour battery life.\"],\n",
    "    13: [\"High-End Gaming Laptop\", \"QHD display, 240Hz refresh rate, RTX 4090, and vapor chamber cooling.\"],\n",
    "    14: [\"Entry-Level Gaming Laptop\", \"Intel i3, GTX 1050, 4GB RAM, suitable for casual gaming.\"],\n",
    "    15: [\"VR-Ready Gaming Laptop\", \"Powerful GPU, optimized for virtual reality experiences.\"],\n",
    "\n",
    "# Smartwatches\n",
    "    16: [\"Smartwatch\", \"Fitness tracking, notifications, waterproof, customizable watch faces.\"],\n",
    "    17: [\"Luxury Smartwatch\", \"Premium design, AMOLED screen, ECG monitor, and 14-day battery life.\"],\n",
    "    18: [\"Kids Smartwatch\", \"GPS tracking, parental controls, and fun games for kids.\"],\n",
    "    19: [\"Sports Smartwatch\", \"Heart rate monitor, built-in GPS, and rugged design for outdoor use.\"],\n",
    "    20: [\"Hybrid Smartwatch\", \"Classic analog design with fitness tracking and notifications.\"],\n",
    "    21: [\"Budget Smartwatch\", \"Affordable, basic fitness tracking, and long-lasting battery.\"],\n",
    "\n",
    "# Fitness Trackers\n",
    "    22: [\"Fitness Tracker\", \"Heart rate monitor, step counter, sleep analysis, waterproof, 7-day battery life.\"],\n",
    "    23: [\"Advanced Fitness Tracker\", \"Built-in GPS, SpO2 monitor, and AI-based fitness insights.\"],\n",
    "    24: [\"Budget Fitness Tracker\", \"Affordable price, basic fitness tracking, and 10-day battery.\"],\n",
    "    25: [\"Premium Fitness Tracker\", \"Luxury design, ECG monitor, and water resistance up to 50m.\"],\n",
    "    26: [\"Compact Fitness Tracker\", \"Slim and lightweight, perfect for 24/7 wear.\"],\n",
    "    27: [\"Kids Fitness Tracker\", \"Bright colors, parental tracking, and interactive activity challenges.\"],\n",
    "    28: [\"Rugged Fitness Tracker\", \"Shockproof and waterproof, designed for extreme sports.\"],\n",
    "    29: [\"Fashion Fitness Tracker\", \"Stylish design, customizable bands, and accurate fitness data.\"],\n",
    "    30: [\"Multi-Sport Fitness Tracker\", \"Track swimming, cycling, running, and more with precise metrics.\"],\n",
    "    31: [\"Eco-Friendly Fitness Tracker\", \"Solar-powered, biodegradable materials, and energy-efficient sensors.\"],\n",
    "\n",
    "# Drones\n",
    "    32: [\"Drone with Camera\", \"4K UHD camera, GPS, 30-minute flight time, foldable design for easy transport.\"],\n",
    "    33: [\"Mini Drone with Camera\", \"Compact size, 1080p camera, 20-minute flight, and headless mode.\"],\n",
    "    34: [\"Professional Drone\", \"Long-range control, high-resolution camera, and obstacle avoidance.\"],\n",
    "    35: [\"Beginner Drone\", \"Easy controls, lightweight, and suitable for first-time users.\"],\n",
    "    36: [\"Racing Drone\", \"High-speed performance, aerodynamic design, and first-person view mode.\"],\n",
    "\n",
    "# Bluetooth Speakers\n",
    "    37: [\"Bluetooth Speaker\", \"Portable, waterproof, 10-hour battery life, high-quality sound.\"],\n",
    "    38: [\"Party Bluetooth Speaker\", \"Built-in mic, colorful LED lights, 24-hour battery, and deep bass.\"],\n",
    "    39: [\"Compact Bluetooth Speaker\", \"Pocket-sized, clear sound, and wireless pairing.\"],\n",
    "    40: [\"Premium Bluetooth Speaker\", \"360-degree sound, rich bass, and sleek aluminum design.\"],\n",
    "    41: [\"Outdoor Bluetooth Speaker\", \"Rugged design, waterproof, and long-range Bluetooth connectivity.\"],\n",
    "}"
   ]
  },
  {
   "cell_type": "markdown",
   "id": "77c44715-aa2d-4d10-8e73-10351d917f6d",
   "metadata": {},
   "source": [
    "## Generating embeddings on data & storing it"
   ]
  },
  {
   "cell_type": "code",
   "execution_count": null,
   "id": "767c8858-ec72-4675-8862-e402dff6a8af",
   "metadata": {
    "scrolled": true
   },
   "outputs": [],
   "source": [
    "for i in product_data.values():\n",
    "    print(f\"{i[0]}: {i[1]}\")"
   ]
  },
  {
   "cell_type": "code",
   "execution_count": null,
   "id": "c672a91b-eaba-4471-a401-f27ab1827180",
   "metadata": {},
   "outputs": [],
   "source": [
    "for i in product_data.values():\n",
    "    embd = get_openai_embedding(f\"{i[0]}: {i[1]}\")\n",
    "    i.append(embd)"
   ]
  },
  {
   "cell_type": "code",
   "execution_count": null,
   "id": "8b1569ee-dd47-4b87-94f2-7bf681be80ce",
   "metadata": {
    "scrolled": true
   },
   "outputs": [],
   "source": [
    "product_data[0]"
   ]
  },
  {
   "cell_type": "markdown",
   "id": "b1e60630-34f1-496c-8db5-c00d8d142711",
   "metadata": {},
   "source": [
    "## Getting user prompt and recommendations accordingly"
   ]
  },
  {
   "cell_type": "code",
   "execution_count": null,
   "id": "1b2d2d11-d33b-498f-a621-010fa215df3b",
   "metadata": {},
   "outputs": [],
   "source": [
    "def recommend(prompt):\n",
    "    user_embd = get_openai_embedding(prompt)\n",
    "    similarity_scores = []\n",
    "\n",
    "    for product_id, product_info in product_data.items():\n",
    "        product_embd = product_info[2]\n",
    "        similarity = cosine_similarity(user_embd, product_embd)\n",
    "        similarity_scores.append((similarity, product_id))\n",
    "\n",
    "    similarity_scores.sort(key=lambda x: x[0], reverse=True)\n",
    "\n",
    "    result = []\n",
    "    for i in range(3):\n",
    "        product_id = similarity_scores[i][1]\n",
    "        product_info = product_data[product_id]\n",
    "        result.append({\n",
    "            \"title\": product_info[0],\n",
    "            \"description\": product_info[1]\n",
    "        })\n",
    "\n",
    "    return result"
   ]
  },
  {
   "cell_type": "code",
   "execution_count": null,
   "id": "11c398e4-f946-4cc8-b8bb-e8e25895d805",
   "metadata": {},
   "outputs": [],
   "source": [
    "prompt = \"fitness tracker for childrens\"\n",
    "recommendations = recommend(prompt)\n",
    "for product in recommendations:\n",
    "    print(f\"\\n{product['title']}: {product['description']}\")"
   ]
  },
  {
   "cell_type": "markdown",
   "id": "f9361bfb-5a52-4f4d-b227-9c852c06ebc7",
   "metadata": {},
   "source": [
    "## Creating Vector Database and creating a collection inside it"
   ]
  },
  {
   "cell_type": "markdown",
   "id": "02c27ee5-9fd3-4b03-a4d7-be6d909353fc",
   "metadata": {},
   "source": [
    "We are using Vector Database because the for loop iterate over the whole database and thus its ineffecient besause the complexity will be 0(n). The vector database uses a Tree-Like structure o store the data according to cosine-simillarity allowing us to to search in 0(log n) complexity."
   ]
  },
  {
   "cell_type": "code",
   "execution_count": null,
   "id": "77a8fbcb-8a48-4898-be26-f136b876385b",
   "metadata": {
    "scrolled": true
   },
   "outputs": [],
   "source": [
    "!pip3 install -U pymilvus"
   ]
  },
  {
   "cell_type": "code",
   "execution_count": null,
   "id": "fafaa8f7-8243-40ab-b309-33f5f84b5d1b",
   "metadata": {},
   "outputs": [],
   "source": [
    "from pymilvus import MilvusClient\n",
    "\n",
    "client = MilvusClient(\"milvus_demo.db\")"
   ]
  },
  {
   "cell_type": "code",
   "execution_count": null,
   "id": "7942d673-1d33-4b07-873f-268f2dcb83ac",
   "metadata": {},
   "outputs": [],
   "source": [
    "if client.has_collection(collection_name=\"demo_collection\"):\n",
    "    client.drop_collection(collection_name=\"demo_collection\")\n",
    "client.create_collection(\n",
    "    collection_name=\"demo_collection\",\n",
    "    dimension=1536,\n",
    ")"
   ]
  },
  {
   "cell_type": "markdown",
   "id": "d50893f1-e6da-4b3c-8008-a2f9ed8f02c8",
   "metadata": {},
   "source": [
    "## Inserting our data into collection created"
   ]
  },
  {
   "cell_type": "code",
   "execution_count": null,
   "id": "b90ae5d3-099c-42c3-a21c-8803d7403fb6",
   "metadata": {
    "scrolled": true
   },
   "outputs": [],
   "source": [
    "data = []\n",
    "for id, prd in product_data.items():\n",
    "    doc = {}\n",
    "    doc[\"id\"]=id\n",
    "    doc[\"vector\"]=prd[2]\n",
    "    doc[\"text\"]=prd[0]+\": \"+prd[1]\n",
    "    doc[\"subject\"]=prd[0]\n",
    "    data.append(doc)"
   ]
  },
  {
   "cell_type": "code",
   "execution_count": null,
   "id": "96dbba7a-b931-4dac-8271-e5a0d6ddf99d",
   "metadata": {
    "scrolled": true
   },
   "outputs": [],
   "source": [
    "data"
   ]
  },
  {
   "cell_type": "code",
   "execution_count": null,
   "id": "67d3dfc7-c124-40e6-831e-3ce81402bc09",
   "metadata": {},
   "outputs": [],
   "source": [
    "res = client.insert(collection_name=\"demo_collection\", data=data)\n",
    "\n",
    "print(res)"
   ]
  },
  {
   "cell_type": "markdown",
   "id": "f393457d-a173-48b8-a173-0b99dc3fe58a",
   "metadata": {},
   "source": [
    "## Getting user prompt and search on Vector Database to get recommendations accordingly"
   ]
  },
  {
   "cell_type": "code",
   "execution_count": null,
   "id": "1f318874-827b-4c9e-aa62-e30a209baca1",
   "metadata": {},
   "outputs": [],
   "source": [
    "def search(prompt):\n",
    "    query_vectors = get_openai_embedding(prompt)\n",
    "    res = client.search(\n",
    "        collection_name=\"demo_collection\",\n",
    "        data=[query_vectors],\n",
    "        limit=3,\n",
    "        output_fields=[\"text\", \"subject\"],\n",
    "    )\n",
    "\n",
    "    result = []\n",
    "    \n",
    "    for i in range(3):\n",
    "        recm = res[0][i]\n",
    "        p_id = recm['id']\n",
    "        prod = product_data[p_id]\n",
    "        result.append(f\"{prod[0]}: {prod[1]}\")\n",
    "\n",
    "    return result"
   ]
  },
  {
   "cell_type": "code",
   "execution_count": null,
   "id": "d7b16e95-5942-402e-a4ff-e6851de8ed47",
   "metadata": {},
   "outputs": [],
   "source": [
    "res = search(\"i am looking for a device to moniter health of my kid\")\n",
    "for product in res:\n",
    "    print(\"\\n\"+str(product))"
   ]
  }
 ],
 "metadata": {
  "kernelspec": {
   "display_name": "Python 3 (ipykernel)",
   "language": "python",
   "name": "python3"
  },
  "language_info": {
   "codemirror_mode": {
    "name": "ipython",
    "version": 3
   },
   "file_extension": ".py",
   "mimetype": "text/x-python",
   "name": "python",
   "nbconvert_exporter": "python",
   "pygments_lexer": "ipython3",
   "version": "3.9.6"
  }
 },
 "nbformat": 4,
 "nbformat_minor": 5
}
