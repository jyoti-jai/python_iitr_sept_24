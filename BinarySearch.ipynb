{
 "cells": [
  {
   "cell_type": "markdown",
   "id": "72bdcf61-000e-47fe-b0d6-b9e304431fe1",
   "metadata": {},
   "source": [
    "1. Problem statement : Solve for x using Binary search such as - 2^x + x = 5"
   ]
  },
  {
   "cell_type": "code",
   "execution_count": 57,
   "id": "a2333112-25dd-4d5f-8adb-cadda54a70f6",
   "metadata": {},
   "outputs": [],
   "source": [
    "#2^x + x = y\n",
    "def solveforx(target):\n",
    "    left = 0\n",
    "    right = target\n",
    "    i = 0\n",
    "    while True:\n",
    "        i+=1\n",
    "        mid = (left + right)/2\n",
    "        result = (2 ** mid) + mid\n",
    "        if (abs(result - target) < 1e-8):\n",
    "            return mid\n",
    "        elif (result > target):\n",
    "            right = mid\n",
    "        else:\n",
    "            left = mid\n",
    "    return None"
   ]
  },
  {
   "cell_type": "code",
   "execution_count": 62,
   "id": "30ccf7c1-03df-4c54-ab8d-e783e410d41e",
   "metadata": {},
   "outputs": [
    {
     "name": "stdout",
     "output_type": "stream",
     "text": [
      "1.7156207328662276\n",
      "4.999999998658713\n"
     ]
    }
   ],
   "source": [
    "x=solveforx(5)\n",
    "print(x)\n",
    "y = (2 ** x) + x\n",
    "print(y)"
   ]
  },
  {
   "cell_type": "markdown",
   "id": "9e603014-7838-44e4-a980-372c0c931a85",
   "metadata": {},
   "source": [
    "2. Problem statement : \n",
    "There is an integer array nums sorted in ascending order (with distinct values).\n",
    "\n",
    "Prior to being passed to your function, nums is possibly rotated at an unknown pivot index k (1 <= k < nums.length) such that the resulting array is [nums[k], nums[k+1], ..., nums[n-1], nums[0], nums[1], ..., nums[k-1]] (0-indexed). For example, [0,1,2,4,5,6,7] might be rotated at pivot index 3 and become [4,5,6,7,0,1,2].\n",
    "\n",
    "Given the array nums after the possible rotation and an integer target, return the index of target if it is in nums, or -1 if it is not in nums.\n",
    "\n",
    "You must write an algorithm with O(log n) runtime complexity.\n",
    "\n",
    " \n",
    "\n",
    "Example 1:\n",
    "\n",
    "Input: nums = [4,5,6,7,0,1,2], target = 0\n",
    "Output: 4\n",
    "Example 2:\n",
    "\n",
    "Input: nums = [4,5,6,7,0,1,2], target = 3\n",
    "Output: -1\n",
    "Example 3:\n",
    "\n",
    "Input: nums = [1], target = 0\n",
    "Output: -1"
   ]
  },
  {
   "cell_type": "code",
   "execution_count": 54,
   "id": "c79c2869-9d8e-4bca-983b-c1880b5d18a0",
   "metadata": {},
   "outputs": [],
   "source": [
    "class Solution3(object):\n",
    "    def search(self, nums, target):\n",
    "        left = 0\n",
    "        right=len(nums) - 1\n",
    "        firstval=nums[left]\n",
    "        lastval=nums[right]\n",
    "        pivot = -1\n",
    "        found = -1\n",
    "        if (target==firstval):\n",
    "            return 0\n",
    "        if target==lastval :\n",
    "            return right\n",
    "\n",
    "        i=0\n",
    "        if (lastval < firstval):\n",
    "            while left<=right:\n",
    "                i+=1\n",
    "                mid = (left+right)//2\n",
    "                midval = nums[mid]\n",
    "                print(f\"{i}. Begining Left:{left}, Right:{right}, Mid{mid}\")\n",
    "                leftofmid=nums[mid-1]\n",
    "                # if (mid < len(nums) -1):\n",
    "                rightofmid=nums[mid+1]\n",
    "                # else:\n",
    "                #rightofmid=midval\n",
    "                \n",
    "                if (midval == target):\n",
    "                    return mid\n",
    "                elif (leftofmid == target):\n",
    "                    return (mid - 1)\n",
    "                elif (rightofmid == target):\n",
    "                    return (mid + 1)\n",
    "                if (leftofmid < midval > rightofmid):\n",
    "                    pivot = mid\n",
    "                    break\n",
    "                elif (midval < lastval):\n",
    "                    #pivot is on left\n",
    "                    right = mid - 1\n",
    "                else:\n",
    "                    #pivot is on right\n",
    "                    left = mid + 1\n",
    "        else:\n",
    "            pivot = -1\n",
    "            \n",
    "        print(f\"Pivot:{pivot}\")  \n",
    "        if (pivot > -1):\n",
    "            pivotval = nums[pivot]\n",
    "            if (nums[pivot+1] <=target<=lastval):\n",
    "                left = pivot + 1\n",
    "                right = len(nums)\n",
    "            elif (firstval <= target <= pivotval):\n",
    "                left = 0\n",
    "                right = pivot\n",
    "            else:\n",
    "                return -1\n",
    "        else:\n",
    "            left = 0\n",
    "            right = len(nums) - 1\n",
    "            \n",
    "                 \n",
    "        while (left<=right):\n",
    "            mid = (left+right)//2\n",
    "            midval = nums[mid]\n",
    "            if (midval==target):\n",
    "                found=mid\n",
    "                break\n",
    "            elif ( midval < target):\n",
    "                left = mid + 1\n",
    "            else:\n",
    "                right = mid - 1\n",
    "        return found\n",
    "                "
   ]
  },
  {
   "cell_type": "code",
   "execution_count": 55,
   "id": "c983a4bf-6916-4c7e-9bd0-c2fc26d1843d",
   "metadata": {},
   "outputs": [
    {
     "name": "stdout",
     "output_type": "stream",
     "text": [
      "1. Begining Left:0, Right:7, Mid3\n",
      "2. Begining Left:4, Right:7, Mid5\n",
      "6\n"
     ]
    }
   ],
   "source": [
    "nums=[4,5,6,7,8,1,2,3]\n",
    "target = 2\n",
    "solution = Solution3()\n",
    "print(solution.search(nums,target))"
   ]
  },
  {
   "cell_type": "markdown",
   "id": "391be009-5dec-46a6-a2cc-67d0a05939eb",
   "metadata": {},
   "source": [
    "3. ROBLEM STATEMENT:\n",
    "Given an array of integers nums sorted in non-decreasing order, find the starting and ending position of a given target value.\n",
    "\n",
    "If target is not found in the array, return [-1, -1].\n",
    "\n",
    "You must write an algorithm with O(log n) runtime complexity.\n",
    "\n",
    " \n",
    "\n",
    "Example 1:\n",
    "\n",
    "Input: nums = [5,7,7,8,8,10], target = 8\n",
    "Output: [3,4]\n",
    "Example 2:\n",
    "\n",
    "Input: nums = [5,7,7,8,8,10], target = 6\n",
    "Output: [-1,-1]\n",
    "Example 3:\n",
    "\n",
    "Input: nums = [], target = 0\n",
    "Output: [-1,-1]"
   ]
  },
  {
   "cell_type": "code",
   "execution_count": 104,
   "id": "decb19c3-9977-40cd-b9a7-7c5dc740fa42",
   "metadata": {},
   "outputs": [],
   "source": [
    "class Solution(object):\n",
    "    def searchRange(self, nums, target):\n",
    "\n",
    "        left = 0\n",
    "        right = len(nums) - 1\n",
    "        index0=-1\n",
    "        index1=-1\n",
    "        index2=-1\n",
    "        lastleft = left\n",
    "        lastright=right\n",
    "       \n",
    "        while left<=right:\n",
    "            mid = (left + right)//2\n",
    "            val = nums[mid]\n",
    "            if (val==target):\n",
    "                index0=mid\n",
    "               \n",
    "                if (mid==0):\n",
    "                    index1=mid\n",
    "                elif (nums[mid-1]!=target):\n",
    "                    index1=mid\n",
    "                elif (nums[left]==target):\n",
    "                    index1=left\n",
    "    \n",
    "                if (mid==len(nums)-1):\n",
    "                    index2=mid\n",
    "                elif (nums[mid+1]!=target):\n",
    "                    index2=mid\n",
    "                elif (nums[right]==target):\n",
    "                    index2=right\n",
    "                break\n",
    "            elif (val < target):\n",
    "                lastleft=left\n",
    "                left = mid + 1\n",
    "            else:\n",
    "                lastright=right\n",
    "                right= mid - 1\n",
    "                \n",
    "        if (index0!=-1):\n",
    "            #Check Left\n",
    "            if(index1==-1):\n",
    "                newarr=nums[lastleft:index0]\n",
    "                result = self.searchRange(newarr,target)\n",
    "                index1 = lastleft+result[0]\n",
    "            #Check Right\n",
    "            if(index2==-1):\n",
    "                newarr=nums[index0:lastright]\n",
    "                result = self.searchRange(newarr,target)\n",
    "                index2=index0+result[1]\n",
    "                \n",
    "        return ([index1,index2])"
   ]
  },
  {
   "cell_type": "code",
   "execution_count": 80,
   "id": "e50614ac-5c53-4ef8-940b-2b12222e3832",
   "metadata": {},
   "outputs": [],
   "source": [
    "class Solution2(object):\n",
    "    def searchRange(self, nums, target):\n",
    "        \"\"\"\n",
    "        :type nums: List[int]\n",
    "        :type target: int\n",
    "        :rtype: List[int]\n",
    "        \"\"\"\n",
    "        def findFirst(nums, target):\n",
    "            left, right = 0, len(nums) - 1\n",
    "            while left <= right:\n",
    "                mid = (left + right) // 2\n",
    "                if nums[mid] >= target:\n",
    "                    right = mid - 1\n",
    "                else:\n",
    "                    left = mid + 1\n",
    "            return left if left < len(nums) and nums[left] == target else -1\n",
    "        \n",
    "        def findLast(nums, target):\n",
    "            left, right = 0, len(nums) - 1\n",
    "            while left <= right:\n",
    "                mid = (left + right) // 2\n",
    "                if nums[mid] <= target:\n",
    "                    left = mid + 1\n",
    "                else:\n",
    "                    right = mid - 1\n",
    "            return right if right >= 0 and nums[right] == target else -1\n",
    "\n",
    "        first = findFirst(nums, target)\n",
    "        last = findLast(nums, target)\n",
    "        \n",
    "        return [first, last] if first != -1 else [-1, -1]\n",
    "\n"
   ]
  },
  {
   "cell_type": "code",
   "execution_count": 81,
   "id": "2e6ed4e9-d6e1-4771-b0dd-6e00f287e77a",
   "metadata": {},
   "outputs": [
    {
     "name": "stdout",
     "output_type": "stream",
     "text": [
      "[-1, -1]\n",
      "[0, 0]\n",
      "[1, 10]\n",
      "[11, 12]\n",
      "[13, 13]\n",
      "[14, 17]\n",
      "[18, 18]\n",
      "[-1, -1]\n"
     ]
    }
   ],
   "source": [
    "# Example usage:\n",
    "solution = Solution2()\n",
    "nums = [6,7,7,7,7,7,7,7,7,7,7,9,9,10,11,11,11,11,12]\n",
    "\n",
    "print(solution.searchRange(nums, 8)) \n",
    "print(solution.searchRange(nums, 6))\n",
    "print(solution.searchRange(nums, 7))\n",
    "print(solution.searchRange(nums, 9))\n",
    "print(solution.searchRange(nums, 10))\n",
    "print(solution.searchRange(nums, 11))\n",
    "print(solution.searchRange(nums, 12))\n",
    "print(solution.searchRange(nums, 15))"
   ]
  },
  {
   "cell_type": "code",
   "execution_count": 105,
   "id": "dff1a913-9b69-4b56-9e02-5352a6c05df3",
   "metadata": {},
   "outputs": [
    {
     "name": "stdout",
     "output_type": "stream",
     "text": [
      "[19, 22]\n"
     ]
    }
   ],
   "source": [
    "solution = Solution()\n",
    "\n",
    "nums = [0,1,2,3,3,4,4,5,5,6,6,7,7,7,9,9,11,11,11,12,12,12,12]\n",
    "target = 12\n",
    "print(solution.searchRange(nums,12)) "
   ]
  },
  {
   "cell_type": "code",
   "execution_count": null,
   "id": "9d02ff6f-c06c-4c91-b8aa-be2b089312e7",
   "metadata": {},
   "outputs": [],
   "source": []
  }
 ],
 "metadata": {
  "kernelspec": {
   "display_name": "Python 3 (ipykernel)",
   "language": "python",
   "name": "python3"
  },
  "language_info": {
   "codemirror_mode": {
    "name": "ipython",
    "version": 3
   },
   "file_extension": ".py",
   "mimetype": "text/x-python",
   "name": "python",
   "nbconvert_exporter": "python",
   "pygments_lexer": "ipython3",
   "version": "3.12.3"
  }
 },
 "nbformat": 4,
 "nbformat_minor": 5
}
