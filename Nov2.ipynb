{
 "cells": [
  {
   "cell_type": "code",
   "execution_count": 3,
   "metadata": {},
   "outputs": [],
   "source": [
    "# Problem1:\n",
    "# 2y = 40 -> [2, 40]\n",
    "# y = 40/2 -> [20]\n",
    "\n",
    "def solve1(arr):\n",
    "    # TODO:\n",
    "    returns [x]\n",
    "\n",
    "# Input: [3, 15]\n",
    "# Expected: [5]"
   ]
  },
  {
   "cell_type": "code",
   "execution_count": 4,
   "metadata": {},
   "outputs": [
    {
     "data": {
      "text/plain": [
       "34.0"
      ]
     },
     "execution_count": 4,
     "metadata": {},
     "output_type": "execute_result"
    }
   ],
   "source": [
    "(78 - 5*2)/2"
   ]
  },
  {
   "cell_type": "code",
   "execution_count": 6,
   "metadata": {},
   "outputs": [
    {
     "data": {
      "text/plain": [
       "15.0"
      ]
     },
     "execution_count": 6,
     "metadata": {},
     "output_type": "execute_result"
    }
   ],
   "source": [
    "(30 - (5*1 - 10*2))/3"
   ]
  },
  {
   "cell_type": "markdown",
   "metadata": {},
   "source": [
    "```\n",
    "# Problem 2\n",
    "\n",
    "#2x + 5y = 78, y=2\n",
    "#x = (78 - 5*2)/2\n",
    "\n",
    "def solve_substitute(eqn, prev_ans):\n",
    "    return []\n",
    "\n",
    "#Example 1:\n",
    "solve_substitute([2, 5, 78], [2])\n",
    "expected_answer: [34, 2]\n",
    "\n",
    "#Example 2:\n",
    "# 3x + 5y - 10z = 30\n",
    "# y, z = [1, 2]\n",
    "# 3*x + 5*1 - 10*2 = 30\n",
    "# x = (30 - (5*1 - 10*2))/3\n",
    "\n",
    "solve_substitute([3, 5, -10, 30], [1, 2]), \n",
    "Expected_answer: [15, 1, 2]\n",
    "\n",
    "```"
   ]
  },
  {
   "cell_type": "markdown",
   "metadata": {},
   "source": [
    "```\n",
    "# Problem 3\n",
    "A. 2x + 3y = 10\n",
    "B. 4x - 5y = 50\n",
    "---\n",
    "\n",
    "Multiplier = 4/2\n",
    "C. B - 2*A\n",
    "C. -11y = 30\n",
    "\n",
    "def reduce(arr):\n",
    "    return arr\n",
    "\n",
    "input = [[2, 3, 10],\n",
    "    [4, -5, 50]]\n",
    "result = reduce(input)\n",
    "result = [-11, 30]\n",
    "\n",
    "result = reduce([\n",
    "    [1, 2, 3, 4], #x + 2y + 3z = 4\n",
    "    [2, 2, 4, 10],\n",
    "    [3, 4, 2, 30],\n",
    "])\n",
    "result: [\n",
    "    [ -2, -2, 2], #eqn2 - 2*eqn1\n",
    "    [-2, -7, 18],  #eqn3 - 2*eqn1\n",
    "]\n",
    "```"
   ]
  },
  {
   "cell_type": "code",
   "execution_count": 20,
   "metadata": {},
   "outputs": [],
   "source": [
    "x = \"This is line\""
   ]
  },
  {
   "cell_type": "code",
   "execution_count": 21,
   "metadata": {},
   "outputs": [
    {
     "name": "stdout",
     "output_type": "stream",
     "text": [
      "This is line\n"
     ]
    }
   ],
   "source": [
    "print(x)"
   ]
  },
  {
   "cell_type": "code",
   "execution_count": 24,
   "metadata": {},
   "outputs": [
    {
     "data": {
      "text/plain": [
       "'his is line'"
      ]
     },
     "execution_count": 24,
     "metadata": {},
     "output_type": "execute_result"
    }
   ],
   "source": [
    "x[1:]"
   ]
  },
  {
   "cell_type": "code",
   "execution_count": 25,
   "metadata": {},
   "outputs": [
    {
     "data": {
      "text/plain": [
       "'is'"
      ]
     },
     "execution_count": 25,
     "metadata": {},
     "output_type": "execute_result"
    }
   ],
   "source": [
    "x[2:4]"
   ]
  },
  {
   "cell_type": "code",
   "execution_count": 26,
   "metadata": {},
   "outputs": [
    {
     "data": {
      "text/plain": [
       "'This '"
      ]
     },
     "execution_count": 26,
     "metadata": {},
     "output_type": "execute_result"
    }
   ],
   "source": [
    "x[:5]"
   ]
  },
  {
   "cell_type": "code",
   "execution_count": 27,
   "metadata": {},
   "outputs": [
    {
     "data": {
      "text/plain": [
       "84"
      ]
     },
     "execution_count": 27,
     "metadata": {},
     "output_type": "execute_result"
    }
   ],
   "source": [
    "ord(x[0])"
   ]
  },
  {
   "cell_type": "code",
   "execution_count": 28,
   "metadata": {},
   "outputs": [
    {
     "data": {
      "text/plain": [
       "'T'"
      ]
     },
     "execution_count": 28,
     "metadata": {},
     "output_type": "execute_result"
    }
   ],
   "source": [
    "chr(84)"
   ]
  },
  {
   "cell_type": "code",
   "execution_count": 29,
   "metadata": {},
   "outputs": [
    {
     "data": {
      "text/plain": [
       "(65, 97)"
      ]
     },
     "execution_count": 29,
     "metadata": {},
     "output_type": "execute_result"
    }
   ],
   "source": [
    "ord('A'), ord('a')"
   ]
  },
  {
   "cell_type": "code",
   "execution_count": 33,
   "metadata": {},
   "outputs": [
    {
     "data": {
      "text/plain": [
       "'´'"
      ]
     },
     "execution_count": 33,
     "metadata": {},
     "output_type": "execute_result"
    }
   ],
   "source": [
    "chr(180)"
   ]
  },
  {
   "cell_type": "code",
   "execution_count": 34,
   "metadata": {},
   "outputs": [],
   "source": [
    "hindi_characters = ['नमस्ते', 'कैसे हैं', 'धन्यवाद']"
   ]
  },
  {
   "cell_type": "code",
   "execution_count": 36,
   "metadata": {},
   "outputs": [],
   "source": [
    "nam = hindi_characters[0]"
   ]
  },
  {
   "cell_type": "code",
   "execution_count": 39,
   "metadata": {},
   "outputs": [
    {
     "data": {
      "text/plain": [
       "2344"
      ]
     },
     "execution_count": 39,
     "metadata": {},
     "output_type": "execute_result"
    }
   ],
   "source": [
    "ord(nam[0])"
   ]
  },
  {
   "cell_type": "code",
   "execution_count": 40,
   "metadata": {},
   "outputs": [
    {
     "data": {
      "text/plain": [
       "'न'"
      ]
     },
     "execution_count": 40,
     "metadata": {},
     "output_type": "execute_result"
    }
   ],
   "source": [
    "chr(2344)"
   ]
  },
  {
   "cell_type": "code",
   "execution_count": 49,
   "metadata": {},
   "outputs": [],
   "source": [
    "sentence = 'नमस्ते कैसे हैं धन्यवाद'"
   ]
  },
  {
   "cell_type": "code",
   "execution_count": 46,
   "metadata": {},
   "outputs": [
    {
     "data": {
      "text/plain": [
       "'कैसे हैं'"
      ]
     },
     "execution_count": 46,
     "metadata": {},
     "output_type": "execute_result"
    }
   ],
   "source": [
    "kaise = hindi_characters[1]\n",
    "kaise"
   ]
  },
  {
   "cell_type": "code",
   "execution_count": 51,
   "metadata": {},
   "outputs": [
    {
     "name": "stdout",
     "output_type": "stream",
     "text": [
      "0 न 2344\n",
      "1 म 2350\n",
      "2 स 2360\n",
      "3 ् 2381\n",
      "4 त 2340\n",
      "5 े 2375\n",
      "6   32\n",
      "7 क 2325\n",
      "8 ै 2376\n",
      "9 स 2360\n",
      "10 े 2375\n",
      "11   32\n",
      "12 ह 2361\n",
      "13 ै 2376\n",
      "14 ं 2306\n",
      "15   32\n",
      "16 ध 2343\n",
      "17 न 2344\n",
      "18 ् 2381\n",
      "19 य 2351\n",
      "20 व 2357\n",
      "21 ा 2366\n",
      "22 द 2342\n"
     ]
    }
   ],
   "source": [
    "for i in range(len(sentence)):\n",
    "    ch = sentence[i]\n",
    "    print(i, ch, ord(ch))"
   ]
  },
  {
   "cell_type": "code",
   "execution_count": 57,
   "metadata": {},
   "outputs": [
    {
     "data": {
      "text/plain": [
       "'नमस्ते कैसे हैं धन्'"
      ]
     },
     "execution_count": 57,
     "metadata": {},
     "output_type": "execute_result"
    }
   ],
   "source": [
    "sentence[:-4]"
   ]
  },
  {
   "cell_type": "code",
   "execution_count": 58,
   "metadata": {},
   "outputs": [
    {
     "data": {
      "text/plain": [
       "'नमस्ते कैसे हैं धन'"
      ]
     },
     "execution_count": 58,
     "metadata": {},
     "output_type": "execute_result"
    }
   ],
   "source": [
    "sentence[:-5]"
   ]
  },
  {
   "cell_type": "code",
   "execution_count": 59,
   "metadata": {},
   "outputs": [],
   "source": [
    "p = '''\n",
    "this is a paragraph\n",
    "this is another\n",
    "'''"
   ]
  },
  {
   "cell_type": "code",
   "execution_count": 60,
   "metadata": {},
   "outputs": [
    {
     "data": {
      "text/plain": [
       "'\\nthis is a paragraph\\nthis is another\\n'"
      ]
     },
     "execution_count": 60,
     "metadata": {},
     "output_type": "execute_result"
    }
   ],
   "source": [
    "p"
   ]
  },
  {
   "cell_type": "code",
   "execution_count": 62,
   "metadata": {},
   "outputs": [
    {
     "data": {
      "text/plain": [
       "\"this 'isa single quote\""
      ]
     },
     "execution_count": 62,
     "metadata": {},
     "output_type": "execute_result"
    }
   ],
   "source": [
    "\"this 'isa single quote\""
   ]
  },
  {
   "cell_type": "code",
   "execution_count": 64,
   "metadata": {},
   "outputs": [
    {
     "data": {
      "text/plain": [
       "'this \" is a double quote'"
      ]
     },
     "execution_count": 64,
     "metadata": {},
     "output_type": "execute_result"
    }
   ],
   "source": [
    "'this \" is a double quote'"
   ]
  },
  {
   "cell_type": "code",
   "execution_count": 66,
   "metadata": {},
   "outputs": [
    {
     "name": "stdout",
     "output_type": "stream",
     "text": [
      "\"\n"
     ]
    }
   ],
   "source": [
    "print(\"\\\"\")"
   ]
  },
  {
   "cell_type": "code",
   "execution_count": 67,
   "metadata": {},
   "outputs": [
    {
     "name": "stdout",
     "output_type": "stream",
     "text": [
      "\\\n"
     ]
    }
   ],
   "source": [
    "print(\"\\\\\")"
   ]
  },
  {
   "cell_type": "code",
   "execution_count": 68,
   "metadata": {},
   "outputs": [
    {
     "data": {
      "text/plain": [
       "123"
      ]
     },
     "execution_count": 68,
     "metadata": {},
     "output_type": "execute_result"
    }
   ],
   "source": [
    "int('123')"
   ]
  },
  {
   "cell_type": "code",
   "execution_count": 95,
   "metadata": {},
   "outputs": [
    {
     "name": "stdout",
     "output_type": "stream",
     "text": [
      "1\n",
      "12\n",
      "123\n"
     ]
    }
   ],
   "source": [
    "num = \"123\"\n",
    "result = 0\n",
    "for c in num:\n",
    "    n = ord(c) - ord('0')\n",
    "    result = result*10 + n\n",
    "    print(result)"
   ]
  },
  {
   "cell_type": "code",
   "execution_count": 96,
   "metadata": {},
   "outputs": [
    {
     "name": "stdout",
     "output_type": "stream",
     "text": [
      "1\n",
      "13\n",
      "137\n"
     ]
    }
   ],
   "source": [
    "num = \"१३७\"\n",
    "result = 0\n",
    "for c in num:\n",
    "    n = ord(c) - ord('०')\n",
    "    result = result*10 + n\n",
    "    print(result)"
   ]
  },
  {
   "cell_type": "code",
   "execution_count": 100,
   "metadata": {},
   "outputs": [],
   "source": [
    "# Code convert to number a decimal numbers\n",
    "# Problem 4: \n",
    "num = \"१३७.७\"\n",
    "def convert(num):\n",
    "    # print(137.7)\n",
    "    pass"
   ]
  },
  {
   "cell_type": "code",
   "execution_count": null,
   "metadata": {},
   "outputs": [],
   "source": []
  },
  {
   "cell_type": "code",
   "execution_count": 73,
   "metadata": {},
   "outputs": [
    {
     "data": {
      "text/plain": [
       "(49, 48)"
      ]
     },
     "execution_count": 73,
     "metadata": {},
     "output_type": "execute_result"
    }
   ],
   "source": [
    "ord('1'), ord('0')"
   ]
  },
  {
   "cell_type": "code",
   "execution_count": 72,
   "metadata": {},
   "outputs": [
    {
     "data": {
      "text/plain": [
       "1"
      ]
     },
     "execution_count": 72,
     "metadata": {},
     "output_type": "execute_result"
    }
   ],
   "source": [
    "ord('1')-ord('0')"
   ]
  },
  {
   "cell_type": "code",
   "execution_count": 74,
   "metadata": {},
   "outputs": [
    {
     "data": {
      "text/plain": [
       "2"
      ]
     },
     "execution_count": 74,
     "metadata": {},
     "output_type": "execute_result"
    }
   ],
   "source": [
    "ord('2')-ord('0')"
   ]
  },
  {
   "cell_type": "code",
   "execution_count": 75,
   "metadata": {},
   "outputs": [
    {
     "data": {
      "text/plain": [
       "9"
      ]
     },
     "execution_count": 75,
     "metadata": {},
     "output_type": "execute_result"
    }
   ],
   "source": [
    "ord('9')-ord('0')"
   ]
  },
  {
   "cell_type": "code",
   "execution_count": 86,
   "metadata": {},
   "outputs": [
    {
     "ename": "SyntaxError",
     "evalue": "invalid token (<ipython-input-86-8a314188c408>, line 1)",
     "output_type": "error",
     "traceback": [
      "\u001b[0;36m  File \u001b[0;32m\"<ipython-input-86-8a314188c408>\"\u001b[0;36m, line \u001b[0;32m1\u001b[0m\n\u001b[0;31m    chr(U+0976)\u001b[0m\n\u001b[0m             ^\u001b[0m\n\u001b[0;31mSyntaxError\u001b[0m\u001b[0;31m:\u001b[0m invalid token\n"
     ]
    }
   ],
   "source": [
    "chr(+0976)"
   ]
  },
  {
   "cell_type": "code",
   "execution_count": 94,
   "metadata": {},
   "outputs": [
    {
     "data": {
      "text/plain": [
       "'१'"
      ]
     },
     "execution_count": 94,
     "metadata": {},
     "output_type": "execute_result"
    }
   ],
   "source": [
    "chr(0x0967)"
   ]
  },
  {
   "cell_type": "code",
   "execution_count": 92,
   "metadata": {
    "scrolled": true
   },
   "outputs": [
    {
     "name": "stdout",
     "output_type": "stream",
     "text": [
      "2406 ०\n",
      "2407 १\n",
      "2408 २\n",
      "2409 ३\n",
      "2410 ४\n",
      "2411 ५\n",
      "2412 ६\n",
      "2413 ७\n",
      "2414 ८\n",
      "2415 ९\n",
      "2416 ॰\n",
      "2417 ॱ\n",
      "2418 ॲ\n",
      "2419 ॳ\n",
      "2420 ॴ\n",
      "2421 ॵ\n",
      "2422 ॶ\n",
      "2423 ॷ\n",
      "2424 ॸ\n",
      "2425 ॹ\n",
      "2426 ॺ\n",
      "2427 ॻ\n",
      "2428 ॼ\n",
      "2429 ॽ\n",
      "2430 ॾ\n",
      "2431 ॿ\n",
      "2432 ঀ\n",
      "2433 ঁ\n",
      "2434 ং\n",
      "2435 ঃ\n",
      "2436 ঄\n",
      "2437 অ\n",
      "2438 আ\n",
      "2439 ই\n",
      "2440 ঈ\n",
      "2441 উ\n",
      "2442 ঊ\n",
      "2443 ঋ\n",
      "2444 ঌ\n",
      "2445 ঍\n",
      "2446 ঎\n",
      "2447 এ\n",
      "2448 ঐ\n",
      "2449 ঑\n",
      "2450 ঒\n",
      "2451 ও\n",
      "2452 ঔ\n",
      "2453 ক\n",
      "2454 খ\n",
      "2455 গ\n",
      "2456 ঘ\n",
      "2457 ঙ\n",
      "2458 চ\n",
      "2459 ছ\n",
      "2460 জ\n",
      "2461 ঝ\n",
      "2462 ঞ\n",
      "2463 ট\n",
      "2464 ঠ\n",
      "2465 ড\n",
      "2466 ঢ\n",
      "2467 ণ\n",
      "2468 ত\n",
      "2469 থ\n",
      "2470 দ\n",
      "2471 ধ\n",
      "2472 ন\n",
      "2473 ঩\n",
      "2474 প\n",
      "2475 ফ\n",
      "2476 ব\n",
      "2477 ভ\n",
      "2478 ম\n",
      "2479 য\n",
      "2480 র\n",
      "2481 ঱\n",
      "2482 ল\n",
      "2483 ঳\n",
      "2484 ঴\n",
      "2485 ঵\n",
      "2486 শ\n",
      "2487 ষ\n",
      "2488 স\n",
      "2489 হ\n",
      "2490 ঺\n",
      "2491 ঻\n",
      "2492 ়\n",
      "2493 ঽ\n",
      "2494 া\n",
      "2495 ি\n",
      "2496 ী\n",
      "2497 ু\n",
      "2498 ূ\n",
      "2499 ৃ\n",
      "2500 ৄ\n",
      "2501 ৅\n",
      "2502 ৆\n",
      "2503 ে\n",
      "2504 ৈ\n",
      "2505 ৉\n",
      "2506 ৊\n",
      "2507 ো\n",
      "2508 ৌ\n",
      "2509 ্\n",
      "2510 ৎ\n",
      "2511 ৏\n",
      "2512 ৐\n",
      "2513 ৑\n",
      "2514 ৒\n",
      "2515 ৓\n",
      "2516 ৔\n",
      "2517 ৕\n",
      "2518 ৖\n",
      "2519 ৗ\n",
      "2520 ৘\n",
      "2521 ৙\n",
      "2522 ৚\n",
      "2523 ৛\n",
      "2524 ড়\n",
      "2525 ঢ়\n",
      "2526 ৞\n",
      "2527 য়\n",
      "2528 ৠ\n",
      "2529 ৡ\n",
      "2530 ৢ\n",
      "2531 ৣ\n",
      "2532 ৤\n",
      "2533 ৥\n",
      "2534 ০\n",
      "2535 ১\n",
      "2536 ২\n",
      "2537 ৩\n",
      "2538 ৪\n",
      "2539 ৫\n",
      "2540 ৬\n",
      "2541 ৭\n",
      "2542 ৮\n",
      "2543 ৯\n",
      "2544 ৰ\n",
      "2545 ৱ\n",
      "2546 ৲\n",
      "2547 ৳\n",
      "2548 ৴\n",
      "2549 ৵\n",
      "2550 ৶\n",
      "2551 ৷\n",
      "2552 ৸\n",
      "2553 ৹\n",
      "2554 ৺\n",
      "2555 ৻\n",
      "2556 ৼ\n",
      "2557 ৽\n",
      "2558 ৾\n",
      "2559 ৿\n",
      "2560 ਀\n",
      "2561 ਁ\n",
      "2562 ਂ\n",
      "2563 ਃ\n",
      "2564 ਄\n",
      "2565 ਅ\n",
      "2566 ਆ\n",
      "2567 ਇ\n",
      "2568 ਈ\n",
      "2569 ਉ\n",
      "2570 ਊ\n",
      "2571 ਋\n",
      "2572 ਌\n",
      "2573 ਍\n",
      "2574 ਎\n",
      "2575 ਏ\n",
      "2576 ਐ\n",
      "2577 ਑\n",
      "2578 ਒\n",
      "2579 ਓ\n",
      "2580 ਔ\n",
      "2581 ਕ\n",
      "2582 ਖ\n",
      "2583 ਗ\n",
      "2584 ਘ\n",
      "2585 ਙ\n",
      "2586 ਚ\n",
      "2587 ਛ\n",
      "2588 ਜ\n",
      "2589 ਝ\n",
      "2590 ਞ\n",
      "2591 ਟ\n",
      "2592 ਠ\n",
      "2593 ਡ\n",
      "2594 ਢ\n",
      "2595 ਣ\n",
      "2596 ਤ\n",
      "2597 ਥ\n",
      "2598 ਦ\n",
      "2599 ਧ\n",
      "2600 ਨ\n",
      "2601 ਩\n",
      "2602 ਪ\n",
      "2603 ਫ\n",
      "2604 ਬ\n",
      "2605 ਭ\n"
     ]
    }
   ],
   "source": [
    "for i in range(200):\n",
    "    print(2406+i, chr(2406+i))"
   ]
  },
  {
   "cell_type": "code",
   "execution_count": null,
   "metadata": {},
   "outputs": [],
   "source": []
  }
 ],
 "metadata": {
  "kernelspec": {
   "display_name": "Python 3",
   "language": "python",
   "name": "python3"
  },
  "language_info": {
   "codemirror_mode": {
    "name": "ipython",
    "version": 3
   },
   "file_extension": ".py",
   "mimetype": "text/x-python",
   "name": "python",
   "nbconvert_exporter": "python",
   "pygments_lexer": "ipython3",
   "version": "3.6.8"
  },
  "toc": {
   "base_numbering": 1,
   "nav_menu": {},
   "number_sections": true,
   "sideBar": true,
   "skip_h1_title": false,
   "title_cell": "Table of Contents",
   "title_sidebar": "Contents",
   "toc_cell": false,
   "toc_position": {},
   "toc_section_display": true,
   "toc_window_display": false
  }
 },
 "nbformat": 4,
 "nbformat_minor": 2
}
