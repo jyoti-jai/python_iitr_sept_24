{
 "cells": [
  {
   "cell_type": "markdown",
   "metadata": {},
   "source": [
    "Q: Find the minima\n",
    "You have a list of number which first decrease and then increase, you have to find the minimum value:\n",
    "[10, 5, -2, -3, 1, 2, 3, 4,9]\n",
    "\n"
   ]
  },
  {
   "cell_type": "markdown",
   "metadata": {},
   "source": [
    "Input: [10, 5, -2, -3, 1, 2, 3, 4,9]\n",
    "\n",
    "Answer: -3"
   ]
  },
  {
   "cell_type": "code",
   "execution_count": 1,
   "metadata": {},
   "outputs": [],
   "source": [
    "def find_min(data):\n",
    "    if len(data) == 0:\n",
    "        return None\n",
    "    mymin = data[0]\n",
    "    for i in data[1:]:\n",
    "        if i < mymin:\n",
    "            mymin = i\n",
    "    return mymin"
   ]
  },
  {
   "cell_type": "code",
   "execution_count": 9,
   "metadata": {},
   "outputs": [
    {
     "data": {
      "text/plain": [
       "-3"
      ]
     },
     "execution_count": 9,
     "metadata": {},
     "output_type": "execute_result"
    }
   ],
   "source": [
    "find_min([10, 5, -2, -3, 1, 2, 3, 4,9])"
   ]
  },
  {
   "cell_type": "markdown",
   "metadata": {},
   "source": [
    "Complexity: O(n)"
   ]
  },
  {
   "cell_type": "code",
   "execution_count": 8,
   "metadata": {},
   "outputs": [
    {
     "data": {
      "text/plain": [
       "10"
      ]
     },
     "execution_count": 8,
     "metadata": {},
     "output_type": "execute_result"
    }
   ],
   "source": [
    "find_min([10.5, 10, 11, 12, 12.5])"
   ]
  },
  {
   "cell_type": "code",
   "execution_count": 7,
   "metadata": {},
   "outputs": [
    {
     "data": {
      "text/plain": [
       "1"
      ]
     },
     "execution_count": 7,
     "metadata": {},
     "output_type": "execute_result"
    }
   ],
   "source": [
    "find_min([10.5, 10.1, 10.05, 10, 1])"
   ]
  },
  {
   "cell_type": "code",
   "execution_count": 6,
   "metadata": {},
   "outputs": [
    {
     "data": {
      "text/plain": [
       "1"
      ]
     },
     "execution_count": 6,
     "metadata": {},
     "output_type": "execute_result"
    }
   ],
   "source": [
    "find_min([1, 10, 11, 12])"
   ]
  },
  {
   "cell_type": "code",
   "execution_count": 3,
   "metadata": {},
   "outputs": [],
   "source": [
    "# Binary Search"
   ]
  },
  {
   "cell_type": "markdown",
   "metadata": {},
   "source": [
    "1. Go to middle - look to the left, if that is greater "
   ]
  },
  {
   "cell_type": "code",
   "execution_count": 19,
   "metadata": {},
   "outputs": [],
   "source": [
    "def find_min_convex(data):\n",
    "    left = 0\n",
    "    right = len(data) - 1\n",
    "    \n",
    "    while left != right:\n",
    "        mid = (left + right)//2 # middle index\n",
    "        midval = data[mid]\n",
    "        print(f\"mid: {mid} of {left}, {right}, midvalue = {midval}\")\n",
    "        if mid == 0:\n",
    "            print(\"mid is zero.\")\n",
    "            left = mid\n",
    "        else:\n",
    "            leftofmidv = data[mid - 1]\n",
    "            if leftofmidv < midval:\n",
    "                print(f\"Left value {leftofmidv} is less. Going left\")\n",
    "                right = mid\n",
    "            else:\n",
    "                print(f\"Left value {leftofmidv} is more. Going right\")\n",
    "                left = mid\n",
    "    return data[left]"
   ]
  },
  {
   "cell_type": "code",
   "execution_count": 32,
   "metadata": {},
   "outputs": [],
   "source": [
    "testcases = [\n",
    "    ([10, 5, -2, -3, 1, 2, 3, 4,9], -3),\n",
    "    ([10.5, 10, 11, 12, 12.5], 10),\n",
    "    ([10.5, 10.1, 10.05, 10, 1], 1),\n",
    "    ([1, 10, 11, 12], 1),\n",
    "    ([1,2], 1),\n",
    "    ([2,1], 1),\n",
    "    ([1], 1)\n",
    "]"
   ]
  },
  {
   "cell_type": "code",
   "execution_count": 33,
   "metadata": {},
   "outputs": [
    {
     "name": "stdout",
     "output_type": "stream",
     "text": [
      "Testing:  [10, 5, -2, -3, 1, 2, 3, 4, 9]\n",
      "mid: 4 of 0, 8, midvalue = 1\n",
      "mid: 2 of 0, 4, midvalue = -2\n",
      "mid: 3 of 3, 4, midvalue = -3\n",
      "Success!!\n",
      "Testing:  [10.5, 10, 11, 12, 12.5]\n",
      "mid: 2 of 0, 4, midvalue = 11\n",
      "mid: 1 of 0, 2, midvalue = 10\n",
      "Success!!\n",
      "Testing:  [10.5, 10.1, 10.05, 10, 1]\n",
      "mid: 2 of 0, 4, midvalue = 10.05\n",
      "mid: 3 of 3, 4, midvalue = 10\n",
      "Success!!\n",
      "Testing:  [1, 10, 11, 12]\n",
      "mid: 1 of 0, 3, midvalue = 10\n",
      "mid: 0 of 0, 1, midvalue = 1\n",
      "Success!!\n",
      "Testing:  [1, 2]\n",
      "mid: 0 of 0, 1, midvalue = 1\n",
      "Success!!\n",
      "Testing:  [2, 1]\n",
      "mid: 0 of 0, 1, midvalue = 2\n",
      "Success!!\n",
      "Testing:  [1]\n",
      "Success!!\n"
     ]
    }
   ],
   "source": [
    "for data, exp in testcases:\n",
    "    print(\"Testing: \", data)\n",
    "    actual = find_min_convex(data)\n",
    "    if exp != actual:\n",
    "        print(f\"Failed: Expected {exp} but got {actual}\")\n",
    "    else:\n",
    "        print(\"Success!!\")"
   ]
  },
  {
   "cell_type": "code",
   "execution_count": 30,
   "metadata": {
    "scrolled": false
   },
   "outputs": [
    {
     "name": "stdout",
     "output_type": "stream",
     "text": [
      "mid: 4 of 0, 8, midvalue = 1\n",
      "mid: 2 of 0, 4, midvalue = -2\n",
      "mid: 3 of 3, 4, midvalue = -3\n"
     ]
    },
    {
     "data": {
      "text/plain": [
       "-3"
      ]
     },
     "execution_count": 30,
     "metadata": {},
     "output_type": "execute_result"
    }
   ],
   "source": [
    "find_min_convex([10, 5, -2, -3, 1, 2, 3, 4, 9])"
   ]
  },
  {
   "cell_type": "code",
   "execution_count": 5,
   "metadata": {},
   "outputs": [],
   "source": [
    "def find_min_convex(data):\n",
    "    left = 0\n",
    "    right = len(data) - 1\n",
    "    \n",
    "    while left != right:\n",
    "        mid = (left + right)//2 # middle index\n",
    "        midval = data[mid]\n",
    "#         print(f\"mid: {mid} of {left}, {right}, midvalue = {midval}\")\n",
    "        \n",
    "        # Check adjl\n",
    "        if mid > 0:\n",
    "            if data[mid - 1] < midval:\n",
    "                right = mid - 1\n",
    "            else:\n",
    "                left = mid\n",
    "        \n",
    "        # Check adj right\n",
    "        if mid < len(data) - 1:\n",
    "            if data[mid + 1] > midval: #adj right is bigger\n",
    "                right = mid # go left\n",
    "            else:\n",
    "                left = mid+1\n",
    "            \n",
    "    return data[left]"
   ]
  },
  {
   "cell_type": "code",
   "execution_count": 4,
   "metadata": {},
   "outputs": [
    {
     "data": {
      "text/plain": [
       "1"
      ]
     },
     "execution_count": 4,
     "metadata": {},
     "output_type": "execute_result"
    }
   ],
   "source": [
    "find_min_convex([10.5, 10.1, 10.05, 10, 1])"
   ]
  },
  {
   "cell_type": "markdown",
   "metadata": {},
   "source": [
    "O(log(n)), complexity is log(n)\n",
    "Because everytime we are dividing the array into half.\n",
    "After k, 1 which is basically same n/(2**k) and k is log2(n)"
   ]
  },
  {
   "cell_type": "code",
   "execution_count": 6,
   "metadata": {},
   "outputs": [],
   "source": [
    "N = 100000000\n",
    "data = list(range(N)) + list(range(N, 0, -1))"
   ]
  },
  {
   "cell_type": "code",
   "execution_count": 46,
   "metadata": {},
   "outputs": [
    {
     "name": "stdout",
     "output_type": "stream",
     "text": [
      "9.24 s ± 250 ms per loop (mean ± std. dev. of 7 runs, 1 loop each)\n"
     ]
    }
   ],
   "source": [
    "%timeit find_min(data)"
   ]
  },
  {
   "cell_type": "code",
   "execution_count": 7,
   "metadata": {},
   "outputs": [
    {
     "name": "stdout",
     "output_type": "stream",
     "text": [
      "12.9 µs ± 160 ns per loop (mean ± std. dev. of 7 runs, 100000 loops each)\n"
     ]
    }
   ],
   "source": [
    "%timeit find_min_convex(data)"
   ]
  },
  {
   "cell_type": "markdown",
   "metadata": {},
   "source": [
    "Q: Find any minima\n",
    "\n",
    "Example: [10, 2, 3, 4, 5, 0, 7, 8, 9]\n",
    "Ans: 2 or 0\n"
   ]
  },
  {
   "cell_type": "markdown",
   "metadata": {},
   "source": [
    "Q: You have a sequence starting from 0, find the missing number:\n",
    "Example: [0, 1, 2, 3, 4, 6]\n",
    "Answer: 5\n",
    "\n",
    "Example: [1, 2, 3,4]\n",
    "Answer: 0\n",
    "\n",
    "Exammple: [0, 1, 2, 3, 4, 5, 6, 7, 8, 9, 10, 12]\n",
    "Answer: 11"
   ]
  },
  {
   "cell_type": "markdown",
   "metadata": {},
   "source": [
    "Q: You have an array of 0s followed by 1s.\n",
    "    arr = [0, 0,0, 0, 1, 1]\n",
    "    Cound how many zeros are there.\n",
    "\n",
    "Example: [0, 0,0, 0, 1, 1]\n",
    "Answer: 4\n",
    "    \n",
    "Example: [0, 0,1, 1]\n",
    "Answer: 2\n",
    "\n",
    "Example: [1, 1, 1]\n",
    "Answer: 0\n",
    "\n",
    "Example: [0, 0, 0]\n",
    "Answer: 3"
   ]
  },
  {
   "cell_type": "markdown",
   "metadata": {},
   "source": [
    "Q: You have an array of 0s followed by 1s and then twos.\n",
    "    arr = [0, 0,0, 0, 1, 1, 2, 2]\n",
    "    Find the sum of the array\n",
    "\n",
    "Example: [0, 0,0, 0, 1, 1, 2, 2]\n",
    "Answer: 6\n",
    "    \n",
    "Example: [0, 0,1, 1]\n",
    "Answer: 2\n",
    "\n",
    "Example: [1, 1, 1]\n",
    "Answer: 3\n",
    "\n",
    "Example: [0, 0, 0]\n",
    "Answer: 0"
   ]
  },
  {
   "cell_type": "markdown",
   "metadata": {},
   "source": [
    "https://leetcode.com/problem-list/binary-search/"
   ]
  },
  {
   "cell_type": "markdown",
   "metadata": {},
   "source": [
    "Try : https://docs.google.com/spreadsheets/d/1zTAcYiStMF1ioo9hE2cy7KSTSHF0-dLrn-Mwl79XgzQ/edit?usp=sharing"
   ]
  },
  {
   "cell_type": "code",
   "execution_count": null,
   "metadata": {},
   "outputs": [],
   "source": []
  }
 ],
 "metadata": {
  "kernelspec": {
   "display_name": "Python 3",
   "language": "python",
   "name": "python3"
  },
  "language_info": {
   "codemirror_mode": {
    "name": "ipython",
    "version": 3
   },
   "file_extension": ".py",
   "mimetype": "text/x-python",
   "name": "python",
   "nbconvert_exporter": "python",
   "pygments_lexer": "ipython3",
   "version": "3.6.8"
  },
  "toc": {
   "base_numbering": 1,
   "nav_menu": {},
   "number_sections": true,
   "sideBar": true,
   "skip_h1_title": false,
   "title_cell": "Table of Contents",
   "title_sidebar": "Contents",
   "toc_cell": false,
   "toc_position": {},
   "toc_section_display": true,
   "toc_window_display": false
  }
 },
 "nbformat": 4,
 "nbformat_minor": 2
}
