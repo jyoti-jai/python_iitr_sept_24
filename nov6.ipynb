{
 "cells": [
  {
   "cell_type": "code",
   "execution_count": 27,
   "metadata": {},
   "outputs": [],
   "source": [
    "# Print outliers\n",
    "import math\n",
    "def print_outliers(nums):\n",
    "    # value = (num - mean(nums))/sd\n",
    "    # if value >= 2: print(the number)\n",
    "    #[1000, -1000, 1,2,3,4, 5]\n",
    "    \n",
    "    #sum function\n",
    "    sm = 0\n",
    "    for n in nums:\n",
    "        sm += n\n",
    "    \n",
    "    # Find mean\n",
    "    mean = sm/len(nums)\n",
    "    print(\"Mu: \", mean)\n",
    "    \n",
    "    # Compute SD\n",
    "    total_diff_sq = 0\n",
    "    for xi in nums:\n",
    "        diff = xi - mean\n",
    "        total_diff_sq += diff*diff\n",
    "    sd = math.sqrt(total_diff_sq/len(nums))\n",
    "    print(\"SD: \", sd)\n",
    "    \n",
    "    # outliers\n",
    "    for num in nums:\n",
    "        value = (num - mean)/sd\n",
    "        print(f\"num: {num}, Value: {value}\")\n",
    "        if abs(value) >= 2:\n",
    "            print(\"Outlier: \", num, \"SD: \")\n",
    "            "
   ]
  },
  {
   "cell_type": "code",
   "execution_count": 29,
   "metadata": {},
   "outputs": [
    {
     "name": "stdout",
     "output_type": "stream",
     "text": [
      "Mu:  95.71428571428571\n",
      "SD:  2.4907993963089563\n",
      "num: 99, Value: 1.3191404697557325\n",
      "num: 95, Value: -0.28676966733819975\n",
      "num: 94, Value: -0.6882472016116828\n",
      "num: 96, Value: 0.11470786693528333\n",
      "num: 98, Value: 0.9176629354822495\n",
      "num: 97, Value: 0.5161854012087664\n",
      "num: 91, Value: -1.8926798044321322\n"
     ]
    }
   ],
   "source": [
    "print_outliers([99, 95, 94, 96, 98, 97,91])"
   ]
  },
  {
   "cell_type": "code",
   "execution_count": null,
   "metadata": {},
   "outputs": [],
   "source": []
  }
 ],
 "metadata": {
  "kernelspec": {
   "display_name": "Python 3",
   "language": "python",
   "name": "python3"
  },
  "language_info": {
   "codemirror_mode": {
    "name": "ipython",
    "version": 3
   },
   "file_extension": ".py",
   "mimetype": "text/x-python",
   "name": "python",
   "nbconvert_exporter": "python",
   "pygments_lexer": "ipython3",
   "version": "3.6.8"
  },
  "toc": {
   "base_numbering": 1,
   "nav_menu": {},
   "number_sections": true,
   "sideBar": true,
   "skip_h1_title": false,
   "title_cell": "Table of Contents",
   "title_sidebar": "Contents",
   "toc_cell": false,
   "toc_position": {},
   "toc_section_display": true,
   "toc_window_display": false
  }
 },
 "nbformat": 4,
 "nbformat_minor": 2
}
