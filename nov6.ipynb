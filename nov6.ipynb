{
 "cells": [
  {
   "cell_type": "markdown",
   "metadata": {},
   "source": [
    "[1000, -1000, 1,2,3,4, 5]\n",
    "\n",
    "# Outliers ??\n",
    "1000, -1000\n",
    "\n",
    "#How?\n",
    "\n",
    "1. Order is significantly higher\n",
    "    - \n",
    "    \n",
    "2. Visually far away\n",
    "3. Far from median \n",
    "    - median - order/sort the data pick the middle value. If counts are even, then middle is value averge of the middle two values\n",
    "4. Similarity in numbers\n",
    "5. Distance from the mean"
   ]
  },
  {
   "cell_type": "code",
   "execution_count": null,
   "metadata": {},
   "outputs": [],
   "source": [
    "# Distance from the mean\n",
    "# Compute the usual distance from mean - How spaced out the data is - SD \n",
    "# Distance/Usual Distance > 2"
   ]
  },
  {
   "cell_type": "code",
   "execution_count": null,
   "metadata": {},
   "outputs": [],
   "source": [
    "Outlier of the following: [3000, -1000, 1,2000,3000,4000, 5000]\n",
    "Ans: [-1000, 1]"
   ]
  },
  {
   "cell_type": "code",
   "execution_count": 2,
   "metadata": {},
   "outputs": [
    {
     "data": {
      "text/plain": [
       "2.142857142857143"
      ]
     },
     "execution_count": 2,
     "metadata": {},
     "output_type": "execute_result"
    }
   ],
   "source": [
    "arr = [1000, -1000, 1,2,3,4, 5]\n",
    "sum(arr)/len(arr)"
   ]
  },
  {
   "cell_type": "code",
   "execution_count": null,
   "metadata": {},
   "outputs": [],
   "source": [
    "#Powerfullness: GO_TO > while > for > map"
   ]
  },
  {
   "cell_type": "code",
   "execution_count": 8,
   "metadata": {},
   "outputs": [],
   "source": [
    "def mean(arr):\n",
    "    sm = 0\n",
    "#     for i in arr:\n",
    "#         sm += i # sm = sm + i\n",
    "#     return \n",
    "    i = 0\n",
    "    while i < len(arr):\n",
    "        sm = sm + arr[i]\n",
    "        i += 1\n",
    "    return sm/len(arr)"
   ]
  },
  {
   "cell_type": "code",
   "execution_count": 19,
   "metadata": {},
   "outputs": [],
   "source": [
    "import math"
   ]
  },
  {
   "cell_type": "code",
   "execution_count": 20,
   "metadata": {},
   "outputs": [],
   "source": [
    "def sd(arr):\n",
    "    mu = mean(arr)\n",
    "    total_deviation = 0\n",
    "    for num in arr:\n",
    "        diff = (num - mu)\n",
    "        deviation = diff*diff #better pow or **\n",
    "        total_deviation += deviation\n",
    "    variance = total_deviation/len(arr)\n",
    "    standard_deviation = math.sqrt(variance)\n",
    "    return standard_deviation"
   ]
  },
  {
   "cell_type": "code",
   "execution_count": 21,
   "metadata": {},
   "outputs": [
    {
     "data": {
      "text/plain": [
       "1.4142135623730951"
      ]
     },
     "execution_count": 21,
     "metadata": {},
     "output_type": "execute_result"
    }
   ],
   "source": [
    "sd([1,2,3,4, 5])"
   ]
  },
  {
   "cell_type": "code",
   "execution_count": 22,
   "metadata": {},
   "outputs": [
    {
     "data": {
      "text/plain": [
       "14.142135623730951"
      ]
     },
     "execution_count": 22,
     "metadata": {},
     "output_type": "execute_result"
    }
   ],
   "source": [
    "sd([10,20,30,40, 50])"
   ]
  },
  {
   "cell_type": "code",
   "execution_count": 27,
   "metadata": {},
   "outputs": [
    {
     "data": {
      "text/plain": [
       "577.3501970208376"
      ]
     },
     "execution_count": 27,
     "metadata": {},
     "output_type": "execute_result"
    }
   ],
   "source": [
    "arr = list(range(-1000, 1000))\n",
    "sd(arr)"
   ]
  },
  {
   "cell_type": "code",
   "execution_count": 28,
   "metadata": {},
   "outputs": [
    {
     "data": {
      "text/plain": [
       "1154.7003940416753"
      ]
     },
     "execution_count": 28,
     "metadata": {},
     "output_type": "execute_result"
    }
   ],
   "source": [
    "2*sd(arr)"
   ]
  },
  {
   "cell_type": "code",
   "execution_count": null,
   "metadata": {},
   "outputs": [],
   "source": [
    "# how many number are with one sd of mean\n",
    "-577 to +577  # almost 58%\n",
    "\n",
    "# how many number are with two sd of mean\n",
    "-1154 to 1154 # all - 100%"
   ]
  },
  {
   "cell_type": "code",
   "execution_count": null,
   "metadata": {},
   "outputs": [],
   "source": [
    "In a class of 21 students, people get marks between 0 and 20.\n",
    "What would be the standard deviation."
   ]
  },
  {
   "cell_type": "code",
   "execution_count": 29,
   "metadata": {},
   "outputs": [
    {
     "data": {
      "text/plain": [
       "6.0553007081949835"
      ]
     },
     "execution_count": 29,
     "metadata": {},
     "output_type": "execute_result"
    }
   ],
   "source": [
    "arr = list(range(0, 21)) # mean = 10\n",
    "sd(arr)"
   ]
  },
  {
   "cell_type": "code",
   "execution_count": 30,
   "metadata": {},
   "outputs": [
    {
     "data": {
      "text/plain": [
       "[0, 1, 2, 3, 4, 5, 6, 7, 8, 9, 10, 11, 12, 13, 14, 15, 16, 17, 18, 19, 20]"
      ]
     },
     "execution_count": 30,
     "metadata": {},
     "output_type": "execute_result"
    }
   ],
   "source": [
    "arr"
   ]
  },
  {
   "cell_type": "code",
   "execution_count": null,
   "metadata": {},
   "outputs": [],
   "source": [
    "#within 1 sd, between 4 and 16.\n",
    "    13 students"
   ]
  },
  {
   "cell_type": "code",
   "execution_count": 56,
   "metadata": {},
   "outputs": [],
   "source": [
    "def print_outliers(arr):\n",
    "    mu = mean(arr)\n",
    "    _sd = sd(arr)\n",
    "    # within 2sd\n",
    "    left = mu - 2*_sd\n",
    "    right = mu + 2*_sd\n",
    "    print(f\"Mean: {mu}, SD: {_sd}\")\n",
    "    print(f\"Left: {left}, Right: {right}\")\n",
    "    for num in arr:\n",
    "        zscore = (num - mu)/_sd\n",
    "        if num >= left and num <= right:\n",
    "            print(f\"{num} is not outlier, Zscore: {zscore} \")\n",
    "        else:\n",
    "            print(f\"{num} is Outlier, Zscore: {zscore} \")"
   ]
  },
  {
   "cell_type": "code",
   "execution_count": 57,
   "metadata": {},
   "outputs": [
    {
     "name": "stdout",
     "output_type": "stream",
     "text": [
      "Mean: 193.5, SD: 378.9150960307599\n",
      "Left: -564.3301920615198, Right: 951.3301920615198\n",
      "1000 is Outlier, Zscore: 2.128445154200268 \n",
      "900 is not outlier, Zscore: 1.8645337897613008 \n",
      "1 is not outlier, Zscore: -0.5080293765450112 \n",
      "2 is not outlier, Zscore: -0.5053902629006215 \n",
      "3 is not outlier, Zscore: -0.5027511492562319 \n",
      "4 is not outlier, Zscore: -0.5001120356118421 \n",
      "5 is not outlier, Zscore: -0.4974729219674525 \n",
      "6 is not outlier, Zscore: -0.49483380832306284 \n",
      "7 is not outlier, Zscore: -0.49219469467867316 \n",
      "7 is not outlier, Zscore: -0.49219469467867316 \n"
     ]
    }
   ],
   "source": [
    "arr= [1000, 900, 1,2,3,4, 5,6,7,7]\n",
    "print_outliers(arr)"
   ]
  },
  {
   "cell_type": "code",
   "execution_count": 52,
   "metadata": {},
   "outputs": [],
   "source": [
    "# WHat percentage of records are with 1sd, 2 sd etc.."
   ]
  },
  {
   "cell_type": "code",
   "execution_count": 13,
   "metadata": {},
   "outputs": [],
   "source": [
    "def doubleit(x):\n",
    "    return 2*x"
   ]
  },
  {
   "cell_type": "code",
   "execution_count": 16,
   "metadata": {},
   "outputs": [
    {
     "data": {
      "text/plain": [
       "[2, 4, 6, 8]"
      ]
     },
     "execution_count": 16,
     "metadata": {},
     "output_type": "execute_result"
    }
   ],
   "source": [
    "list(map(doubleit, [1,2,3,4]))"
   ]
  },
  {
   "cell_type": "code",
   "execution_count": 9,
   "metadata": {},
   "outputs": [
    {
     "name": "stdout",
     "output_type": "stream",
     "text": [
      "0\n",
      "1\n",
      "2\n",
      "3\n",
      "4\n",
      "5\n",
      "6\n",
      "7\n",
      "8\n",
      "9\n"
     ]
    }
   ],
   "source": [
    "for i in range(10):\n",
    "    print(i)\n"
   ]
  },
  {
   "cell_type": "code",
   "execution_count": 10,
   "metadata": {},
   "outputs": [
    {
     "name": "stdout",
     "output_type": "stream",
     "text": [
      "10\n",
      "11\n",
      "12\n",
      "13\n",
      "14\n",
      "15\n",
      "16\n",
      "17\n",
      "18\n",
      "19\n"
     ]
    }
   ],
   "source": [
    "for i in range(10,20):\n",
    "    print(i)\n"
   ]
  },
  {
   "cell_type": "code",
   "execution_count": 12,
   "metadata": {},
   "outputs": [
    {
     "name": "stdout",
     "output_type": "stream",
     "text": [
      "5\n",
      "10\n",
      "15\n",
      "20\n",
      "25\n",
      "30\n",
      "35\n",
      "40\n",
      "45\n",
      "50\n",
      "55\n",
      "60\n",
      "65\n",
      "70\n",
      "75\n",
      "80\n",
      "85\n",
      "90\n",
      "95\n"
     ]
    }
   ],
   "source": [
    "for i in range(5, 100, 5):\n",
    "    print(i)"
   ]
  },
  {
   "cell_type": "code",
   "execution_count": null,
   "metadata": {},
   "outputs": [],
   "source": []
  },
  {
   "cell_type": "code",
   "execution_count": null,
   "metadata": {},
   "outputs": [],
   "source": []
  },
  {
   "cell_type": "code",
   "execution_count": null,
   "metadata": {},
   "outputs": [],
   "source": []
  },
  {
   "cell_type": "code",
   "execution_count": 53,
   "metadata": {},
   "outputs": [],
   "source": [
    "# Print outliers\n",
    "import math\n",
    "def print_outliers(nums):\n",
    "    # value = (num - mean(nums))/sd\n",
    "    # if value >= 2: print(the number)\n",
    "    #[1000, -1000, 1,2,3,4, 5]\n",
    "    \n",
    "    #sum function\n",
    "    sm = 0\n",
    "    for n in nums:\n",
    "        sm += n\n",
    "    \n",
    "    # Find mean\n",
    "    mean = sm/len(nums)\n",
    "    print(\"Mu: \", mean)\n",
    "    \n",
    "    \n",
    "    # Compute SD\n",
    "    total_diff_sq = 0\n",
    "    for xi in nums:\n",
    "        diff = xi - mean\n",
    "        total_diff_sq += diff*diff\n",
    "    sd = math.sqrt(total_diff_sq/len(nums))\n",
    "    print(\"SD: \", sd)\n",
    "    \n",
    "    # outliers\n",
    "    for num in nums:\n",
    "        value = (num - mean)/sd\n",
    "        print(f\"num: {num}, Value: {value}\")\n",
    "        if abs(value) >= 2:\n",
    "            print(\"Outlier: \", num, \"SD: \")\n",
    "            "
   ]
  },
  {
   "cell_type": "code",
   "execution_count": 29,
   "metadata": {},
   "outputs": [
    {
     "name": "stdout",
     "output_type": "stream",
     "text": [
      "Mu:  95.71428571428571\n",
      "SD:  2.4907993963089563\n",
      "num: 99, Value: 1.3191404697557325\n",
      "num: 95, Value: -0.28676966733819975\n",
      "num: 94, Value: -0.6882472016116828\n",
      "num: 96, Value: 0.11470786693528333\n",
      "num: 98, Value: 0.9176629354822495\n",
      "num: 97, Value: 0.5161854012087664\n",
      "num: 91, Value: -1.8926798044321322\n"
     ]
    }
   ],
   "source": [
    "print_outliers([99, 95, 94, 96, 98, 97,91])"
   ]
  },
  {
   "cell_type": "code",
   "execution_count": null,
   "metadata": {},
   "outputs": [],
   "source": []
  }
 ],
 "metadata": {
  "kernelspec": {
   "display_name": "Python 3",
   "language": "python",
   "name": "python3"
  },
  "language_info": {
   "codemirror_mode": {
    "name": "ipython",
    "version": 3
   },
   "file_extension": ".py",
   "mimetype": "text/x-python",
   "name": "python",
   "nbconvert_exporter": "python",
   "pygments_lexer": "ipython3",
   "version": "3.6.8"
  },
  "toc": {
   "base_numbering": 1,
   "nav_menu": {},
   "number_sections": true,
   "sideBar": true,
   "skip_h1_title": false,
   "title_cell": "Table of Contents",
   "title_sidebar": "Contents",
   "toc_cell": false,
   "toc_position": {},
   "toc_section_display": true,
   "toc_window_display": false
  }
 },
 "nbformat": 4,
 "nbformat_minor": 2
}
