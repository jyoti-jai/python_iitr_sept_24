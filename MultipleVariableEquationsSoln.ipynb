{
 "cells": [
  {
   "cell_type": "code",
   "execution_count": null,
   "metadata": {},
   "outputs": [],
   "source": [
    "def solve1(eqn):\n",
    "    if (len(eqn) !=2):\n",
    "        return none\n",
    "    result=[eqn[1]/eqn[0]]\n",
    "    return result"
   ]
  },
  {
   "cell_type": "code",
   "execution_count": null,
   "metadata": {},
   "outputs": [],
   "source": [
    "solve1([3, 15])"
   ]
  },
  {
   "cell_type": "code",
   "execution_count": null,
   "metadata": {},
   "outputs": [],
   "source": [
    "def solveBySubstitution(eqn, variableValues):\n",
    "    L=len(eqn)\n",
    "    if (len(eqn)<=2):\n",
    "        return None\n",
    "    #print (\"Testing replacement for EQN:\",eqn, \"and results:\", variableResults)\n",
    "   \n",
    "    totalVariables = len(variableValues)\n",
    "    solvedEqn=[]\n",
    "    lhsVal = 0\n",
    "    rhsVal =  eqn[L-1]\n",
    "    k=L-1\n",
    "    for i in range(0 , totalVariables):\n",
    "        val = variableValues[i]\n",
    "        k-=1\n",
    "        lhsVal += eqn[k] * val\n",
    "        \n",
    "    solvedVal = rhsVal - lhsVal\n",
    "    #print(\"LHS:\", lhsVal, \", RHS:\", rhsVal, \", SolvedVal:\", solvedVal)\n",
    "    solvedEqn =[]\n",
    "    for j in range (0, k):\n",
    "        solvedEqn.append(eqn[j])\n",
    "    solvedEqn.append(solvedVal)\n",
    "        \n",
    "    #print(i,\"Solved Equation:\", solvedEqn)\n",
    "    return solvedEqn"
   ]
  },
  {
   "cell_type": "code",
   "execution_count": null,
   "metadata": {},
   "outputs": [],
   "source": [
    "val=[3.0]\n",
    "eqn=[-1.0, -3.0, -11.0]\n",
    "new_eqn = solveBySubstitution(eqn, val)\n",
    "print(new_eqn)"
   ]
  },
  {
   "cell_type": "code",
   "execution_count": null,
   "metadata": {},
   "outputs": [],
   "source": [
    "def eliminateOne(arr1, arr2):\n",
    "    #print(\"Eliminating One from:\", arr1, \",\", arr2)\n",
    "    multiple = arr2[0]/arr1[0]\n",
    "    L = len(arr2)\n",
    "    result = []\n",
    "    for i in range(1,L):\n",
    "        res = arr2[i] - arr1[i] * multiple\n",
    "        result.append(res)\n",
    "    return result"
   ]
  },
  {
   "cell_type": "code",
   "execution_count": null,
   "metadata": {},
   "outputs": [],
   "source": [
    "eqn1 = [1, 1, 1, 10]\n",
    "eqn2 = [2, 3, 4, 50]\n",
    "result = eliminateOne(eqn1, eqn2)\n",
    "print (result)"
   ]
  },
  {
   "cell_type": "code",
   "execution_count": null,
   "metadata": {},
   "outputs": [],
   "source": [
    "def reduce(eqns) :\n",
    "    #print(\"Eliminating for:\", eqns)\n",
    "    L = len(eqns)\n",
    "    if (L < 1):\n",
    "        return None\n",
    "    elif (L == 1):\n",
    "        return eqns\n",
    "    else:\n",
    "        firstEqn = eqns[0]\n",
    "        new_eqns=[]\n",
    "        for i in range(1, L) :\n",
    "            secondEqn = eqns[i]\n",
    "            result = eliminateOne(firstEqn, secondEqn)\n",
    "            new_eqns.append(result)\n",
    "        #print(\"Elimination result:\", new_eqns)\n",
    "        return new_eqns"
   ]
  },
  {
   "cell_type": "code",
   "execution_count": null,
   "metadata": {},
   "outputs": [],
   "source": [
    "eq1 = [1, 1, 1, 10]\n",
    "eq2 = [2, 3, 4, 50]\n",
    "eq3 = [3, 5, -8, 100]\n",
    "eqns = [eq1, eq2, eq3]\n",
    "print(\"Original:\", eqns)\n",
    "reduced = reduce(eqns)\n",
    "print(\"Reduced:\", reduced)"
   ]
  },
  {
   "cell_type": "code",
   "execution_count": null,
   "metadata": {},
   "outputs": [],
   "source": [
    "def solve(eqns):\n",
    "    \n",
    "    if len(eqns) < 1 | len(eqns) < len(eqns[0]) - 1:\n",
    "        return None\n",
    "    \n",
    "    complete_results = [];\n",
    "    \n",
    "    if len(eqns) == 1:\n",
    "        #[0 10]\n",
    "        return solve1(eqns[0])\n",
    "    else :\n",
    "        # eliminiate one variable and call solve(new_eqns)\n",
    "        new_eqns = reduce(eqns)\n",
    "        results = solve(new_eqns)\n",
    "        \n",
    "        L = len(results)\n",
    "        for i in range(0 , L):\n",
    "            complete_results.append(results[i])\n",
    "   \n",
    "        if (len(complete_results) < len (eqns)):\n",
    "            #need to solve by substituting the results\n",
    "            substituted_eqn =solveBySubstitution(eqns[0], complete_results)\n",
    "            solved_eqns=[]\n",
    "            solved_eqns.append(substituted_eqn)\n",
    "            results = solve(solved_eqns)\n",
    "            L = len(results)\n",
    "            for i in range(0, L):\n",
    "                complete_results.append(results[i])\n",
    "    \n",
    "    return complete_results"
   ]
  },
  {
   "cell_type": "code",
   "execution_count": null,
   "metadata": {},
   "outputs": [],
   "source": [
    "eq1 = [1, 1, 1,  6]\n",
    "eq2 = [2, 1, -1,  1]\n",
    "eq3 = [3, -2, 1, 2]\n",
    "\n",
    "eqns = [eq1, eq2, eq3]\n",
    "result = solve(eqns)\n",
    "print(result)"
   ]
  },
  {
   "cell_type": "code",
   "execution_count": null,
   "metadata": {},
   "outputs": [],
   "source": [
    "eq1 = [1, 1, 1, 1, 10]\n",
    "eq2 = [2, -1, 3, -1, 5]\n",
    "eq3 = [4, 2,-1,1, 9]\n",
    "eq4 = [1, -2,2, 3, 15]\n",
    "eqns = [eq1, eq2, eq3, eq4]\n",
    "result = solve(eqns)\n",
    "print(result)"
   ]
  },
  {
   "cell_type": "code",
   "execution_count": null,
   "metadata": {},
   "outputs": [],
   "source": []
  }
 ],
 "metadata": {
  "kernelspec": {
   "display_name": "Python 3",
   "language": "python",
   "name": "python3"
  },
  "language_info": {
   "codemirror_mode": {
    "name": "ipython",
    "version": 3
   },
   "file_extension": ".py",
   "mimetype": "text/x-python",
   "name": "python",
   "nbconvert_exporter": "python",
   "pygments_lexer": "ipython3",
   "version": "3.6.8"
  },
  "toc": {
   "base_numbering": 1,
   "nav_menu": {},
   "number_sections": true,
   "sideBar": true,
   "skip_h1_title": false,
   "title_cell": "Table of Contents",
   "title_sidebar": "Contents",
   "toc_cell": false,
   "toc_position": {},
   "toc_section_display": true,
   "toc_window_display": false
  }
 },
 "nbformat": 4,
 "nbformat_minor": 2
}
