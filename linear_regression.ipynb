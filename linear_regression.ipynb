{
 "cells": [
  {
   "cell_type": "markdown",
   "id": "7f72c77f-6a36-424f-b641-dcf69de877da",
   "metadata": {},
   "source": [
    "Problem Statement - For three data points (1,2), (2,3), (3,5) solve the linear regression for the values of m, c where the total error is minimum\n",
    "\n",
    "The prediction line is yp=mx+c4 For any data point the error is y-actual(ya) - y-predicted(yp). i.e. E(Error)=ya - yp\n",
    "\n",
    "For first data point x=1 and ya=2, yp=mx+c yp=m+c E1(Error)=ya - yp E1(Error) = 2 - (m+c)\n",
    "\n",
    "For second data point x=2 and ya=3, yp=mx+c yp=m*2+c E2(Error) = 3 - (2m+c)\n",
    "\n",
    "For first data point x=3 and ya=5, yp=mx+c yp=m*3+c E3(Error) = 5 - (3m+c)\n",
    "\n",
    "For calculating total error we square each error, to make negatives into positives.\n",
    "\n",
    "So TotalError = E12+E22+E3**2\n",
    "\n",
    "TE=(2-(m+c))**2 + (3 - (2m+c))**2 + (5 - (3m+c))**2\n",
    "\n",
    "Write the program for each permutaion of m,c in the range of 0-100 with inrease of .1, so that to find the value of m,c that results in the minimum total error."
   ]
  },
  {
   "cell_type": "code",
   "execution_count": 13,
   "id": "5a546bac-f2ab-4e19-8d76-192aa5f5f460",
   "metadata": {},
   "outputs": [],
   "source": [
    "def finderror(m,c):\n",
    "    error=(2-(m+c))**2 + (3 - (2*m+c))**2 + (5 - (3*m+c))**2\n",
    "    return error\n",
    "\n",
    "def findbestprediction():\n",
    "    m=0.0\n",
    "    result=None\n",
    "    while m <=100:\n",
    "        c=0.0\n",
    "        while c<=100:\n",
    "            error=finderror(m,c)\n",
    "            if (result==None or (len(result) > 0 and error < result[0])):\n",
    "                print(f\"{error},{m},{c}\")\n",
    "                result=[error,m,c]\n",
    "            c+=.1\n",
    "        m+=.1\n",
    "    return result\n",
    "        "
   ]
  },
  {
   "cell_type": "code",
   "execution_count": 16,
   "id": "96580e3d-ac6e-4cf4-908a-4a13a12e4de8",
   "metadata": {},
   "outputs": [
    {
     "name": "stdout",
     "output_type": "stream",
     "text": [
      "[[1, 0], [1, 1], [2, 1], [3, 0]]\n"
     ]
    }
   ],
   "source": [
    "array=[[2,1],[3,0],[1,1],[1,0]]\n",
    "r= array.sort()\n",
    "print (array)"
   ]
  },
  {
   "cell_type": "code",
   "execution_count": null,
   "id": "f18cce9d-ef35-47bb-9367-7eaf3009511c",
   "metadata": {},
   "outputs": [],
   "source": [
    "\n",
    "def findbestprediction2():\n",
    "    result=None\n",
    "    leftm=1\n",
    "    rightm=2\n",
    "    target = .25\n",
    "    m =0.0\n",
    "    c=0.0\n",
    "\n",
    "    while leftm < rightm:\n",
    "        midm=(leftm+rightm)/2\n",
    "        leftc=0\n",
    "        rightc=1\n",
    "        marray=[leftm,midm,rightm]\n",
    "        for i in range(len(marray):\n",
    "            m = marray[i]\n",
    "            outer_results=[]\n",
    "            while leftc < rightc:\n",
    "                midc=(leftc+rightc)/2\n",
    "                carray=[leftc,midc,rightc]\n",
    "                inner_results=[]\n",
    "                found=false\n",
    "                min_result=None\n",
    "                for j in range(len(carray)):\n",
    "                    c = carray[j]\n",
    "                    error=finderror(m,c)\n",
    "                    inner_results.append[error,c,j]\n",
    "                inner_results.sort()\n",
    "               \n",
    "                best_result=inner_results[0]\n",
    "                next_result=inner_results[1]\n",
    "                if (best_result[0] <= target):\n",
    "                    return [best_result[0], m, best_result[1]]\n",
    "                if ((min_result)==None\n",
    "                if (best_result[2]==0):\n",
    "                    rightc=midc-.1\n",
    "                elif (best_result[2]==2):\n",
    "                    left=midc+.1\n",
    "                elif (next_result[2]==0):\n",
    "                    rightc=midc\n",
    "                    leftc=leftc +.1\n",
    "                else:\n",
    "                    leftc=midc\n",
    "                    rightc=rightc -.1\n",
    "                # print(f\"{error},{midm},{rightc}\")\n",
    "                \n",
    "                \n",
    "        m+=.1\n",
    "    return result\n",
    "\n",
    "\n",
    "    "
   ]
  },
  {
   "cell_type": "code",
   "execution_count": 12,
   "id": "84b6cf47-4211-4c33-b44e-225d93a79ede",
   "metadata": {},
   "outputs": [
    {
     "name": "stdout",
     "output_type": "stream",
     "text": [
      "38.0,0.0,0.0\n",
      "36.03,0.0,0.1\n",
      "34.12,0.0,0.2\n",
      "32.27,0.0,0.30000000000000004\n",
      "30.479999999999997,0.0,0.4\n",
      "28.75,0.0,0.5\n",
      "27.080000000000002,0.0,0.6\n",
      "25.47,0.0,0.7\n",
      "23.92,0.0,0.7999999999999999\n",
      "22.43,0.0,0.8999999999999999\n",
      "21.0,0.0,0.9999999999999999\n",
      "19.630000000000003,0.0,1.0999999999999999\n",
      "18.32,0.0,1.2\n",
      "17.07,0.0,1.3\n",
      "15.879999999999997,0.0,1.4000000000000001\n",
      "14.75,0.0,1.5000000000000002\n",
      "13.679999999999996,0.0,1.6000000000000003\n",
      "12.669999999999998,0.0,1.7000000000000004\n",
      "11.719999999999994,0.0,1.8000000000000005\n",
      "10.829999999999997,0.0,1.9000000000000006\n",
      "9.999999999999996,0.0,2.0000000000000004\n",
      "9.229999999999995,0.0,2.1000000000000005\n",
      "8.519999999999996,0.0,2.2000000000000006\n",
      "7.869999999999996,0.0,2.3000000000000007\n",
      "7.279999999999996,0.0,2.400000000000001\n",
      "6.749999999999996,0.0,2.500000000000001\n",
      "6.279999999999996,0.0,2.600000000000001\n",
      "5.869999999999996,0.0,2.700000000000001\n",
      "5.519999999999996,0.0,2.800000000000001\n",
      "5.229999999999997,0.0,2.9000000000000012\n",
      "4.999999999999997,0.0,3.0000000000000013\n",
      "4.829999999999998,0.0,3.1000000000000014\n",
      "4.719999999999999,0.0,3.2000000000000015\n",
      "4.67,0.0,3.3000000000000016\n",
      "4.649999999999999,0.1,2.700000000000001\n",
      "4.419999999999996,0.1,2.800000000000001\n",
      "4.249999999999999,0.1,2.9000000000000012\n",
      "4.139999999999998,0.1,3.0000000000000013\n",
      "4.090000000000001,0.1,3.1000000000000014\n",
      "3.879999999999998,0.2,2.600000000000001\n",
      "3.7099999999999986,0.2,2.700000000000001\n",
      "3.599999999999999,0.2,2.800000000000001\n",
      "3.55,0.2,2.9000000000000012\n",
      "3.379999999999999,0.30000000000000004,2.400000000000001\n",
      "3.2099999999999973,0.30000000000000004,2.500000000000001\n",
      "3.1,0.30000000000000004,2.600000000000001\n",
      "3.0499999999999985,0.30000000000000004,2.700000000000001\n",
      "2.919999999999998,0.4,2.2000000000000006\n",
      "2.7499999999999982,0.4,2.3000000000000007\n",
      "2.639999999999999,0.4,2.400000000000001\n",
      "2.589999999999999,0.4,2.500000000000001\n",
      "2.499999999999999,0.5,2.0000000000000004\n",
      "2.329999999999999,0.5,2.1000000000000005\n",
      "2.2199999999999998,0.5,2.2000000000000006\n",
      "2.17,0.5,2.3000000000000007\n",
      "2.1199999999999988,0.6,1.8000000000000005\n",
      "1.9500000000000002,0.6,1.9000000000000006\n",
      "1.84,0.6,2.0000000000000004\n",
      "1.7900000000000005,0.6,2.1000000000000005\n",
      "1.7799999999999996,0.7,1.6000000000000003\n",
      "1.6100000000000008,0.7,1.7000000000000004\n",
      "1.4999999999999998,0.7,1.8000000000000005\n",
      "1.450000000000001,0.7,1.9000000000000006\n",
      "1.3099999999999994,0.7999999999999999,1.5000000000000002\n",
      "1.2000000000000004,0.7999999999999999,1.6000000000000003\n",
      "1.1499999999999997,0.7999999999999999,1.7000000000000004\n",
      "1.05,0.8999999999999999,1.3\n",
      "0.9400000000000006,0.8999999999999999,1.4000000000000001\n",
      "0.8899999999999999,0.8999999999999999,1.5000000000000002\n",
      "0.8300000000000005,0.9999999999999999,1.0999999999999999\n",
      "0.7200000000000009,0.9999999999999999,1.2\n",
      "0.67,0.9999999999999999,1.3\n",
      "0.650000000000001,1.0999999999999999,0.8999999999999999\n",
      "0.54,1.0999999999999999,0.9999999999999999\n",
      "0.49000000000000044,1.0999999999999999,1.0999999999999999\n",
      "0.4000000000000006,1.2,0.7999999999999999\n",
      "0.3499999999999998,1.2,0.8999999999999999\n",
      "0.3000000000000001,1.3,0.6\n",
      "0.2499999999999995,1.3,0.7\n",
      "0.23999999999999955,1.4000000000000001,0.4\n",
      "0.19000000000000006,1.4000000000000001,0.5\n",
      "0.17000000000000004,1.5000000000000002,0.30000000000000004\n"
     ]
    }
   ],
   "source": [
    "r = findbestprediction()\n"
   ]
  },
  {
   "cell_type": "code",
   "execution_count": 14,
   "id": "bd08a281-bf11-4977-916a-1335f476d167",
   "metadata": {},
   "outputs": [
    {
     "name": "stdout",
     "output_type": "stream",
     "text": [
      "1\n",
      "2\n",
      "3\n"
     ]
    }
   ],
   "source": [
    "arr = [1,2,3]\n",
    "for i in arr:\n",
    "    print(i)"
   ]
  },
  {
   "cell_type": "code",
   "execution_count": null,
   "id": "1336c0c1-c18e-4687-9051-a8345231c9a6",
   "metadata": {},
   "outputs": [],
   "source": []
  }
 ],
 "metadata": {
  "kernelspec": {
   "display_name": "Python 3 (ipykernel)",
   "language": "python",
   "name": "python3"
  },
  "language_info": {
   "codemirror_mode": {
    "name": "ipython",
    "version": 3
   },
   "file_extension": ".py",
   "mimetype": "text/x-python",
   "name": "python",
   "nbconvert_exporter": "python",
   "pygments_lexer": "ipython3",
   "version": "3.12.3"
  }
 },
 "nbformat": 4,
 "nbformat_minor": 5
}
