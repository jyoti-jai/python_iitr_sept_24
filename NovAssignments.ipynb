{
 "cells": [
  {
   "cell_type": "markdown",
   "metadata": {},
   "source": [
    "Assignment Nov 3:\n",
    "1. Write your own add digit array. \n",
    "    a) one for simple digits other one with decimals\n",
    "arr1=['2','3','4']\n",
    "arr2=['8','7','5']\n",
    "result=[1,1,0,9]\n",
    "    b) Number with decimals\n",
    "        str1='23.4'\n",
    "        str2='8.75'\n",
    "        result = '32.15'\n",
    "2. Write the matrix multiplication"
   ]
  },
  {
   "cell_type": "code",
   "execution_count": null,
   "metadata": {},
   "outputs": [],
   "source": [
    "i = 'A'\n",
    "t = type(i)\n",
    "\n",
    "#t = isinstance(i, chr)\n",
    "\n",
    "print (t)"
   ]
  },
  {
   "cell_type": "code",
   "execution_count": 17,
   "metadata": {},
   "outputs": [],
   "source": [
    "def myInt(n):\n",
    "    return ord(n) - ord('0')"
   ]
  },
  {
   "cell_type": "code",
   "execution_count": 1,
   "metadata": {},
   "outputs": [
    {
     "data": {
      "text/plain": [
       "49"
      ]
     },
     "execution_count": 1,
     "metadata": {},
     "output_type": "execute_result"
    }
   ],
   "source": [
    "ord('1')"
   ]
  },
  {
   "cell_type": "code",
   "execution_count": 14,
   "metadata": {},
   "outputs": [],
   "source": [
    "# Write your own add digit array. Part a)\n",
    "#arr1=['2','3','4']\n",
    "#arr2=['8','7','5']\n",
    "\n",
    "def addNumbers(arr1, arr2):\n",
    "    i = len(arr1) - 1\n",
    "    j=len(arr2) - 1\n",
    "    \n",
    "    carryOver = 0\n",
    "    result =[]\n",
    "    \n",
    "    while (i>=0 or j>=0):\n",
    "        if (i>=0):\n",
    "            num1 = myInt(arr1[i])\n",
    "        else:\n",
    "            num1 = 0\n",
    "        \n",
    "        if (j>=0):\n",
    "            num2 = myInt(arr2[j])\n",
    "        else:\n",
    "            num2 = 0\n",
    "        i-=1\n",
    "        j-=1\n",
    "        numAdd = num1+num2+carryOver\n",
    "        result.append(numAdd %10)\n",
    "        carryOver = numAdd // 10\n",
    "    \n",
    "    if carryOver > 0 :\n",
    "        result.append(carryOver)\n",
    "    result.reverse()\n",
    "    return result\n"
   ]
  },
  {
   "cell_type": "code",
   "execution_count": 19,
   "metadata": {},
   "outputs": [
    {
     "name": "stdout",
     "output_type": "stream",
     "text": [
      "[3, 2, 1, 6, 1]\n"
     ]
    }
   ],
   "source": [
    "x=addNumbers(['2','3','4','5','6'],['8','7','0','5'])\n",
    "print(x)\n",
    "'123.56'"
   ]
  },
  {
   "cell_type": "code",
   "execution_count": 35,
   "metadata": {},
   "outputs": [],
   "source": [
    "# Write your own add digit array. Part b)\n",
    "#numstr1='23.4'\n",
    "#numstr2='8.75'\n",
    "#result='32.15'\n",
    "\n",
    "def addDecimalNumber(numstr1,numstr2):\n",
    "    arr1=[]\n",
    "    arr2=[]\n",
    "    decpos1=0\n",
    "    decpos2=0\n",
    "    finaldecpos=0\n",
    "    for i in numstr1:\n",
    "        if (i=='.'):\n",
    "            decpos1=len(numstr1) - len(arr1) -1\n",
    "        else:\n",
    "            arr1.append(i)\n",
    "    for i in numstr2:\n",
    "        if (i=='.'):\n",
    "            decpos2=len(numstr2) - len(arr2) -1\n",
    "        else :\n",
    "            arr2.append(i)\n",
    "    \n",
    "    if (decpos1 > decpos2):\n",
    "        diff = decpos1 - decpos2\n",
    "        finaldecpos=decpos1\n",
    "        for i in range (diff):\n",
    "            arr2.append('0')\n",
    "    else:\n",
    "        finaldecpos=decpos2\n",
    "        diff = decpos2 - decpos1\n",
    "        for i in range (diff):\n",
    "            arr1.append('0')\n",
    "    #print(f\"array1:{arr1} with decpos:{decpos1}\")\n",
    "    #print(f\"array2:{arr2} with decpos:{decpos2}\")\n",
    "    addresultarr=addNumbers(arr1,arr2)\n",
    "    print(addresultarr)\n",
    "    num=0\n",
    "    n = len(addresultarr) - 1\n",
    "    for i in addresultarr:\n",
    "        num+=i*(10**n)\n",
    "        n-=1\n",
    "    \n",
    "    result = num/(10**finaldecpos)\n",
    "    return result   "
   ]
  },
  {
   "cell_type": "code",
   "execution_count": 41,
   "metadata": {},
   "outputs": [
    {
     "name": "stdout",
     "output_type": "stream",
     "text": [
      "array1:['2', '3', '4'] with decpos:0\n",
      "array2:['8', '7', '5'] with decpos:0\n",
      "[1, 1, 0, 9]\n",
      "1109\n",
      "1109.0\n",
      "1178.0\n"
     ]
    }
   ],
   "source": [
    "numstr1='234'\n",
    "numstr2='875'\n",
    "addDecimalNumber(numstr1,numstr2)\n",
    "\n",
    "num = 1178\n",
    "num2 = 1178/(10**0)\n",
    "print(num2)\n"
   ]
  },
  {
   "cell_type": "code",
   "execution_count": 7,
   "metadata": {},
   "outputs": [
    {
     "name": "stdout",
     "output_type": "stream",
     "text": [
      "1\n",
      "3\n",
      "6\n",
      "['1', '4', '3', '0', '0', '0']\n"
     ]
    }
   ],
   "source": [
    "arr =['1','4','3']\n",
    "numstr='136'\n",
    "for i in numstr:\n",
    "    print(i)\n",
    "n=3\n",
    "for i in range(n):\n",
    "    arr.append('0')\n",
    "print(arr)\n",
    "\n",
    "arr1 = [4,5,6]\n",
    "arr2=[[4,5],[6,7],[8,9]]\n",
    "t1= isinstance(arr1[0],list)\n",
    "print(t1)\n"
   ]
  },
  {
   "cell_type": "code",
   "execution_count": 32,
   "metadata": {},
   "outputs": [],
   "source": [
    "#Write the matrix multiplication\n",
    "# arr1 = [[1,2,3],[4,5,6]]\n",
    "# arr2 = [[6,7],[8,9],[10,11]], arr2 = [[6,7,8,9],[10,11,12,13],[13,14,15,16]] should work\n",
    "# arr2 = [[6,7,8],[9,10,11]] shouldn't work\n",
    "\n",
    "# arr1=[1,2,3] and arr2=[[4,5],[6,7],[8,9]] should work\n",
    "\n",
    "def multiplyMatrix1(matrix1, matrix2):\n",
    "    colcount1=0\n",
    "    rowcount1=0\n",
    "    colcount2=0\n",
    "    rowcount2=0\n",
    "    isvector1=False\n",
    "    isvector2=False\n",
    "    if isinstance(matrix1[0],list):\n",
    "        colcount1=len(matrix1[0])\n",
    "        rowcount1=len(matrix1)\n",
    "    else:\n",
    "        colcount1=len(matrix1)\n",
    "        rowcount1=1\n",
    "        isvector1=True\n",
    "    \n",
    "    if isinstance(matrix2[0],list):\n",
    "        colcount2=len(matrix2[0])\n",
    "        rowcount2=len(matrix2)    \n",
    "    else:\n",
    "        colcount2=len(matrix2)\n",
    "        rowcount2=1\n",
    "        isvector2=True\n",
    "    print(colcount1, rowcount2)\n",
    "    if (colcount1!=rowcount2):\n",
    "        return None\n",
    "    \n",
    "    for r1 in range(0 , rowcount1):\n",
    "        num=''\n",
    "        for c2 in range(0, colcount2):\n",
    "            num=''\n",
    "            for c1 in range(0 , colcount1):\n",
    "                num1=matrix1[r1][c1]\n",
    "                num2=matrix2[c1][c2]\n",
    "                num = num + str(num1) +'*'+str(num2) +'+'\n",
    "            print(\"Result:\",num)\n",
    "        print(\"-------------------\")\n",
    "            \n",
    "    \n",
    "        \n",
    "    "
   ]
  },
  {
   "cell_type": "code",
   "execution_count": 23,
   "metadata": {},
   "outputs": [],
   "source": [
    "def multiplyMatrix2(matrix1, matrix2):\n",
    "    colcount1=0\n",
    "    rowcount1=0\n",
    "    colcount2=0\n",
    "    rowcount2=0\n",
    "   \n",
    "    colcount1=len(matrix1[0])\n",
    "    rowcount1=len(matrix1)\n",
    "    \n",
    "    colcount2=len(matrix2[0])\n",
    "    rowcount2=len(matrix2)    \n",
    "    \n",
    "    print(colcount1, rowcount2)\n",
    "    \n",
    "    if (colcount1!=rowcount2):\n",
    "        return None\n",
    "    \n",
    "    for r1 in range(0 , rowcount1):\n",
    "        for c2 in range(0, colcount2):\n",
    "            numstring=''\n",
    "            for c1 in range(0 , colcount1):\n",
    "                num1=matrix1[r1][c1]\n",
    "                num2=matrix2[c1][c2]\n",
    "                numstring = numstring + str(num1) +'*'+str(num2) +'+'\n",
    "            print(\"Result at :\",r1,c2,\"is:\",numstring)\n",
    "        print(\"-------------------\")\n",
    "            \n",
    "    "
   ]
  },
  {
   "cell_type": "code",
   "execution_count": 29,
   "metadata": {},
   "outputs": [],
   "source": [
    "def multiplyMatrix(matrix1, matrix2):\n",
    "    colcount1=len(matrix1[0])\n",
    "    rowcount1=len(matrix1)\n",
    "    colcount2=len(matrix2[0])\n",
    "    rowcount2=len(matrix2)    \n",
    "    \n",
    "    if (colcount1!=rowcount2):\n",
    "        return None\n",
    "    result=[]\n",
    "    for r1 in range(0 , rowcount1):\n",
    "        r=[]\n",
    "        for c2 in range(0, colcount2):\n",
    "            num=0\n",
    "            for c1 in range(0 , colcount1):\n",
    "                num1=matrix1[r1][c1]\n",
    "                num2=matrix2[c1][c2]\n",
    "                num += (num1 * num2)\n",
    "            r.append(num)\n",
    "        result.append(r)\n",
    "        print(\"Row \", r1 , \" is \", r)\n",
    "    return result"
   ]
  },
  {
   "cell_type": "code",
   "execution_count": 30,
   "metadata": {},
   "outputs": [
    {
     "name": "stdout",
     "output_type": "stream",
     "text": [
      "Row  0  is  [1605, 1926, 2247]\n",
      "Row  1  is  [16050, 19260, 22470]\n",
      "Row  2  is  [160500, 192600, 224700]\n"
     ]
    },
    {
     "data": {
      "text/plain": [
       "[[1605, 1926, 2247], [16050, 19260, 22470], [160500, 192600, 224700]]"
      ]
     },
     "execution_count": 30,
     "metadata": {},
     "output_type": "execute_result"
    }
   ],
   "source": [
    "arr1=[[1,2,3],[10,20,30],[100,200,300]]\n",
    "#arr1=[[1,2,3]] \n",
    "arr2=[[5,6,7],[50,60,70],[500,600,700]]\n",
    "multiplyMatrix(arr1, arr2)"
   ]
  },
  {
   "cell_type": "code",
   "execution_count": null,
   "metadata": {},
   "outputs": [],
   "source": [
    "arr1=[[1,2,3],[10,20,30],[100,200,300]]\n",
    "#arr1=[[1,2,3]] \n",
    "arr2=[[5,6,7],[50,60,70],[500,600,700]]\n",
    "multiplyMatrix1(arr1, arr2)"
   ]
  }
 ],
 "metadata": {
  "kernelspec": {
   "display_name": "Python 3",
   "language": "python",
   "name": "python3"
  },
  "language_info": {
   "codemirror_mode": {
    "name": "ipython",
    "version": 3
   },
   "file_extension": ".py",
   "mimetype": "text/x-python",
   "name": "python",
   "nbconvert_exporter": "python",
   "pygments_lexer": "ipython3",
   "version": "3.6.8"
  },
  "toc": {
   "base_numbering": 1,
   "nav_menu": {},
   "number_sections": true,
   "sideBar": true,
   "skip_h1_title": false,
   "title_cell": "Table of Contents",
   "title_sidebar": "Contents",
   "toc_cell": false,
   "toc_position": {},
   "toc_section_display": true,
   "toc_window_display": false
  }
 },
 "nbformat": 4,
 "nbformat_minor": 2
}
