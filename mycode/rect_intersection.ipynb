{
 "cells": [
  {
   "cell_type": "code",
   "execution_count": null,
   "id": "263f9244-bb7a-4bf2-9aa5-2d0d16545d25",
   "metadata": {},
   "outputs": [],
   "source": [
    "def find_intersection(rect1, rect2):\n",
    "    rect1_all_x, rect1_all_y = [list(x) for x in zip(rect1[0],rect1[1])]\n",
    "    rect2_all_x, rect2_all_y = [list(x) for x in zip(rect2[0],rect2[1])]\n",
    "   \n",
    "    rect1_all_x.sort()\n",
    "    rect2_all_x.sort()\n",
    "    rect1_all_y.sort()\n",
    "    rect2_all_y.sort()\n",
    "\n",
    "    new_all_x=[]\n",
    "    new_all_y=[]\n",
    "    for value in rect1_all_x:\n",
    "        if rect2_all_x[0] <= value <= rect2_all_x[1]:\n",
    "            new_all_x.append(value)\n",
    "    for value in rect2_all_x:\n",
    "        if rect1_all_x[0] <= value <= rect1_all_x[1]:\n",
    "            new_all_x.append(value)\n",
    "    for value in rect1_all_y:\n",
    "        if rect2_all_y[0] <= value <= rect2_all_y[1]:\n",
    "            new_all_y.append(value)\n",
    "    for value in rect2_all_y:\n",
    "        if rect1_all_y[0] <= value <= rect1_all_y[1]:\n",
    "            new_all_y.append(value)\n",
    "    new_all_x.sort()\n",
    "    new_all_x.sort()\n",
    "    \n",
    "    newrect = ((new_all_x[0],new_all_y[0]),(new_all_x[-1],new_all_y[-1]))\n",
    "    return newrect"
   ]
  }
 ],
 "metadata": {
  "kernelspec": {
   "display_name": "Python 3 (ipykernel)",
   "language": "python",
   "name": "python3"
  },
  "language_info": {
   "codemirror_mode": {
    "name": "ipython",
    "version": 3
   },
   "file_extension": ".py",
   "mimetype": "text/x-python",
   "name": "python",
   "nbconvert_exporter": "python",
   "pygments_lexer": "ipython3",
   "version": "3.12.3"
  }
 },
 "nbformat": 4,
 "nbformat_minor": 5
}
