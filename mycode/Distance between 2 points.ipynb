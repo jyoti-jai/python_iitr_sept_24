{
 "cells": [
  {
   "cell_type": "markdown",
   "metadata": {},
   "source": [
    "# Distance between 2 points"
   ]
  },
  {
   "cell_type": "markdown",
   "metadata": {},
   "source": [
    "## In one Dimention"
   ]
  },
  {
   "cell_type": "markdown",
   "metadata": {},
   "source": [
    "**Question:** find distance between 2 points. Starting position is 1 and end position is 5."
   ]
  },
  {
   "cell_type": "markdown",
   "metadata": {},
   "source": [
    "![1Dline](./img_Distance2points/1Dline.png)"
   ]
  },
  {
   "cell_type": "markdown",
   "metadata": {},
   "source": [
    "**Answer:** Here the point A is starting so we start from A and if we take 1 step at a time how many steps we need to reach B the end point.<br> We need 4 steps right, so we need B-A steps hence distance between these 2 points is B-A which is 4.<br><br> And what if we need to go back to A, we again need 4 steps.<br><br>\n",
    "Hence, we can do A-B too the answer will remain same. This is because the distance has only magnitute not the direction.<br>\n",
    "so to find out distance between 2 points in 1Dimention the formula is: **|x1-x2| (proof of distance formula in 1D), here because of modulus give the positive value only.**"
   ]
  },
  {
   "cell_type": "markdown",
   "metadata": {},
   "source": [
    "## In two Dimention"
   ]
  },
  {
   "cell_type": "markdown",
   "metadata": {},
   "source": [
    "**Question:** find distance between 2 points. Starting position is (10,20) and the end position is (13,16)."
   ]
  },
  {
   "cell_type": "markdown",
   "metadata": {},
   "source": [
    "![2Dline](./img_Distance2points/2Dline.png)"
   ]
  },
  {
   "cell_type": "markdown",
   "metadata": {},
   "source": [
    "**Answer:** <br>Here the point A is (10,20) and point B is (13,16).<br>we constructed two lines. Line a from A and line b from B so that a and b intersect and make a 90 degree angle on point C (10,16).<br><br>\n",
    "to find out length of a we cosidered 2 points on 1D plane. the points are 20 and 16.<br>using |x1-x2|<br>a = |20-16|<br>a = 4<br><br>simillarly,<br><br>using |x1-x2|<br>b = |10-13|<br>b = 3<br><br>Now, lets assume the length A to B as c. and a<sup>2</sup> + b<sup>2</sup> = c<sup>2</sup>, now lets proof it."
   ]
  },
  {
   "cell_type": "markdown",
   "metadata": {},
   "source": [
    "<img src=\"./img_Distance2points/pythagores1.png\" alt=\"pythagores\" style=\"width:500px;\"/>\n",
    "<img src=\"./img_Distance2points/pythagores2.png\" alt=\"pythagores\" style=\"width:500px;\"/>\n",
    "<img src=\"./img_Distance2points/pythagores3.png\" alt=\"pythagores\" style=\"width:500px;\"/>"
   ]
  },
  {
   "cell_type": "markdown",
   "metadata": {},
   "source": [
    "So, putting the values in a<sup>2</sup> + b<sup>2</sup> = c<sup>2</sup><br>\n",
    "4<sup>2</sup> + 3<sup>2</sup> = c<sup>2</sup><br>\n",
    "16 + 9 = c<sup>2</sup><br>\n",
    "25 = c<sup>2</sup><br>\n",
    "c = $\\sqrt{25}$<br>\n",
    "c = 5<br><br>\n",
    "Hence, the formula to find out distance between 2 points in 2D is: **a<sup>2</sup> + b<sup>2</sup> = c<sup>2</sup> (proof of pythagoras theorem), here a and b are 2 sides of right angle triangle which we construct by drwaing lines from A and B intersect at c making 90 degree angle. and c is distance between A and B**<br><br>\n",
    "or we can se here a = x1-x2 and b = y1-y2, so the formula can be:<br>\n",
    "**c = $\\sqrt{(x1-x2)^2 + (y1-y2)^2}$ (proof of distance in 2D formula)** "
   ]
  },
  {
   "cell_type": "markdown",
   "metadata": {},
   "source": [
    "## In three Dimention"
   ]
  },
  {
   "cell_type": "markdown",
   "metadata": {},
   "source": [
    "**Question:** find out the distance between 2 points. Starting position is (10,20,30) and end position is (2,3,4)"
   ]
  },
  {
   "cell_type": "markdown",
   "metadata": {},
   "source": [
    "![3Dline1](./img_Distance2points/3Dline1.png)"
   ]
  },
  {
   "cell_type": "markdown",
   "metadata": {},
   "source": [
    "**Amswer:** Here we have to find distance of AB, so we know AC which is z and for BC we have to use triangle BDC."
   ]
  },
  {
   "cell_type": "markdown",
   "metadata": {},
   "source": [
    "![3Dline2](./img_Distance2points/3Dline2.png)"
   ]
  },
  {
   "cell_type": "markdown",
   "metadata": {},
   "source": [
    "In triangle BDC<br>\n",
    "BD = x and DC = y<br>\n",
    "Bc = $\\sqrt{(x)^2 + (y)^2}$ (using pythagoras)<br><br>\n",
    "Now moving on to triangle ABC"
   ]
  },
  {
   "cell_type": "markdown",
   "metadata": {},
   "source": [
    "![3Dline3](./img_Distance2points/3Dline3.png)"
   ]
  },
  {
   "cell_type": "markdown",
   "metadata": {},
   "source": [
    "so in traingle ABC<br>\n",
    "BC = $\\sqrt{\\sqrt{(x)^2 + (y)^2}^2 + (z)^2}$ (using pythagoras)<br>\n",
    "here inner square root is cancled by inner sqaure<br>\n",
    "BC = $\\sqrt{(x)^2 + (y)^2 + (z)^2}$<br><br>\n",
    "Finding x,y,z:<br><br>\n",
    "x = |10-2| (using |x1-x2|)<br>\n",
    "x = 8<br><br>\n",
    "simillarly<br><br>\n",
    "y = |20-3|<br>\n",
    "y = 17<br><br>\n",
    "z = |30-4|<br>\n",
    "z = 26<br><br>\n",
    "Now putting values of x,y,z in $\\sqrt{(x)^2 + (y)^2 + (z)^2}$<br><br>\n",
    "BC = $\\sqrt{(8)^2 + (17)^2 + (26)^2}$<br>\n",
    "BC = $\\sqrt{64 + 289 + 676}$<br>\n",
    "BC = $\\sqrt{1029}$<br>\n",
    "BC = $7\\sqrt{21}$<br><br>\n",
    "or we can se here a = x1-x2, b = y1-y2 and z = z1-z2, so the formula can be:<br>\n",
    "**c = $\\sqrt{(x1-x2)^2 + (y1-y2)^2 + (z1-z2)^2}$ (proof of distance in 3D formula)**"
   ]
  }
 ],
 "metadata": {
  "kernelspec": {
   "display_name": "Python 3",
   "language": "python",
   "name": "python3"
  },
  "language_info": {
   "codemirror_mode": {
    "name": "ipython",
    "version": 3
   },
   "file_extension": ".py",
   "mimetype": "text/x-python",
   "name": "python",
   "nbconvert_exporter": "python",
   "pygments_lexer": "ipython3",
   "version": "3.6.8"
  },
  "toc": {
   "base_numbering": 1,
   "nav_menu": {},
   "number_sections": true,
   "sideBar": true,
   "skip_h1_title": false,
   "title_cell": "Table of Contents",
   "title_sidebar": "Contents",
   "toc_cell": false,
   "toc_position": {},
   "toc_section_display": true,
   "toc_window_display": false
  }
 },
 "nbformat": 4,
 "nbformat_minor": 2
}
