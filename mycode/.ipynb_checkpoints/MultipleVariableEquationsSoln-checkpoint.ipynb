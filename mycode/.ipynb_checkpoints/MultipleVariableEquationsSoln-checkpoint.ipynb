{
 "cells": [
  {
   "cell_type": "code",
   "execution_count": 17,
   "metadata": {},
   "outputs": [],
   "source": [
    "def solve1(eqn):\n",
    "    if (len(eqn) !=2):\n",
    "        return none\n",
    "    result=[eqn[1]/eqn[0]]\n",
    "    return result"
   ]
  },
  {
   "cell_type": "code",
   "execution_count": 18,
   "metadata": {},
   "outputs": [
    {
     "data": {
      "text/plain": [
       "[5.0]"
      ]
     },
     "execution_count": 18,
     "metadata": {},
     "output_type": "execute_result"
    }
   ],
   "source": [
    "solve1([3, 15])"
   ]
  },
  {
   "cell_type": "code",
   "execution_count": 19,
   "metadata": {},
   "outputs": [],
   "source": [
    "def solveBySubstitution(eqn, variableValues):\n",
    "    L=len(eqn)\n",
    "    if (len(eqn)<=2):\n",
    "        return None\n",
    "    #print (\"Testing replacement for EQN:\",eqn, \"and results:\", variableResults)\n",
    "   \n",
    "    totalVariables = len(variableValues)\n",
    "    solvedEqn=[]\n",
    "    lhsVal = 0\n",
    "    rhsVal =  eqn[L-1]\n",
    "    k=L-1\n",
    "    for i in range(0 , totalVariables):\n",
    "        val = variableValues[i]\n",
    "        k-=1\n",
    "        lhsVal += eqn[k] * val\n",
    "        \n",
    "    solvedVal = rhsVal - lhsVal\n",
    "    #print(\"LHS:\", lhsVal, \", RHS:\", rhsVal, \", SolvedVal:\", solvedVal)\n",
    "    solvedEqn =[]\n",
    "    for j in range (0, k):\n",
    "        solvedEqn.append(eqn[j])\n",
    "    solvedEqn.append(solvedVal)\n",
    "        \n",
    "    #print(i,\"Solved Equation:\", solvedEqn)\n",
    "    return solvedEqn"
   ]
  },
  {
   "cell_type": "code",
   "execution_count": 20,
   "metadata": {},
   "outputs": [
    {
     "name": "stdout",
     "output_type": "stream",
     "text": [
      "[-1.0, -2.0]\n"
     ]
    }
   ],
   "source": [
    "val=[3.0]\n",
    "eqn=[-1.0, -3.0, -11.0]\n",
    "new_eqn = solveBySubstitution(eqn, val)\n",
    "print(new_eqn)"
   ]
  },
  {
   "cell_type": "code",
   "execution_count": null,
   "metadata": {},
   "outputs": [],
   "source": [
    "def reduce(eqns) :\n",
    "    #print(\"Eliminating for:\", eqns)\n",
    "    \n",
    "    if (len(eqns)<1):\n",
    "        return None\n",
    "    elif (len(eqns)==1):\n",
    "        return eqns\n",
    "    else:\n",
    "        firstEqn = eqns[0]\n",
    "    if (len(eqns)==2)\n",
    "        secondEqn= eqns[1]\n",
    "    new_eqns=[]\n",
    "    L = len(eqns)\n",
    "    for i in range(1, L) :\n",
    "        secondEqn = eqns[i]\n",
    "        result = eliminateOne(firstEqn, secondEqn)\n",
    "        new_eqns.append(result)\n",
    "    #print(\"Elimination result:\", new_eqns)\n",
    "    return new_eqns"
   ]
  }
 ],
 "metadata": {
  "kernelspec": {
   "display_name": "Python 3",
   "language": "python",
   "name": "python3"
  },
  "language_info": {
   "codemirror_mode": {
    "name": "ipython",
    "version": 3
   },
   "file_extension": ".py",
   "mimetype": "text/x-python",
   "name": "python",
   "nbconvert_exporter": "python",
   "pygments_lexer": "ipython3",
   "version": "3.6.8"
  },
  "toc": {
   "base_numbering": 1,
   "nav_menu": {},
   "number_sections": true,
   "sideBar": true,
   "skip_h1_title": false,
   "title_cell": "Table of Contents",
   "title_sidebar": "Contents",
   "toc_cell": false,
   "toc_position": {},
   "toc_section_display": true,
   "toc_window_display": false
  }
 },
 "nbformat": 4,
 "nbformat_minor": 2
}
