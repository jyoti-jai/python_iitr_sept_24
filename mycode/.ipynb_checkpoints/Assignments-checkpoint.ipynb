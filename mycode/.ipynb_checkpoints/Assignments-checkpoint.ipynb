{
 "cells": [
  {
   "cell_type": "markdown",
   "id": "05949650-5c6d-4de8-ac40-cf7df9b4df2d",
   "metadata": {},
   "source": [
    "Nov 3 Assignments - "
   ]
  },
  {
   "cell_type": "markdown",
   "id": "1cc0d89f-4c56-4a7a-a6bd-bf34a21248e9",
   "metadata": {},
   "source": [
    "1) Write your own add digit array.\n",
    "    \n",
    "a) one for simple digits other one with decimals arr1=['2','3','4'] arr2=['8','7','5'] result=[1,1,0,9] \n",
    "b) Number with decimals str1='23.4' str2='8.75' result = '32.15'"
   ]
  },
  {
   "cell_type": "markdown",
   "id": "2a963cd0-46e4-44d5-a0f5-3d4bc120aec7",
   "metadata": {},
   "source": [
    "2) Write the matrix multiplication\n",
    "\n",
    "arr1 = [[1,2,3],[4,5,6]]\n",
    "arr2 = [[6,7],[8,9],[10,11]], arr2 = [[6,7,8,9],[10,11,12,13],[13,14,15,16]] should work\n",
    "arr2 = [[6,7,8],[9,10,11]] shouldn't work\n",
    "\n",
    "arr1=[1,2,3] and arr2=[[4,5],[6,7],[8,9]] should work"
   ]
  },
  {
   "cell_type": "markdown",
   "id": "9968db20-e99b-4a94-8149-499cf62ed591",
   "metadata": {},
   "source": [
    "Nov 10 Assignments"
   ]
  },
  {
   "cell_type": "code",
   "execution_count": null,
   "id": "d08832b6-25f6-4960-b2af-cb54c8d1af63",
   "metadata": {},
   "outputs": [],
   "source": [
    "Read a text file. Extract all the email addresses from it"
   ]
  },
  {
   "cell_type": "markdown",
   "id": "39eb454d-e9a6-4969-9d64-a571d8942e76",
   "metadata": {},
   "source": [
    "Nov 16 Assignments - Image Stuff"
   ]
  },
  {
   "cell_type": "code",
   "execution_count": null,
   "id": "34edc18f-65ac-4c19-84c6-cefea3adfb50",
   "metadata": {},
   "outputs": [],
   "source": [
    "Q1: Zoom an image (2d python list) to double length and double width - clone one pixel to all four - LERP - linear interpolation \n",
    "Q2: Zoom an image (2D python list) to half size - average - min - max - See and compare the output \n",
    "Q3: Come up with your own strategy to make these images look good.\n",
    "Q4: Write code to convert colored image into grayscale as show below."
   ]
  },
  {
   "cell_type": "markdown",
   "id": "cce52ca0-fec2-492d-abed-068c33acd218",
   "metadata": {},
   "source": [
    "Coordinates and intersections"
   ]
  },
  {
   "cell_type": "code",
   "execution_count": null,
   "id": "e68de199-9984-4e7e-945a-ebd6851695dc",
   "metadata": {},
   "outputs": [],
   "source": [
    "Q5: Find the intersection of two rectangles\n",
    "#rectangle1 = ((5,8), (3, 1))\n",
    "#rectangle2 = ((2,6), (6, 3))"
   ]
  },
  {
   "cell_type": "code",
   "execution_count": null,
   "id": "1efd8f9b-ed74-4eef-9cd2-bbd470a9b071",
   "metadata": {},
   "outputs": [],
   "source": [
    "Q6. We have words from a dictionary. We want to bring the analgrams together.\n",
    "You have millions of strings in an list, you have to group the anagrams together."
   ]
  }
 ],
 "metadata": {
  "kernelspec": {
   "display_name": "Python 3 (ipykernel)",
   "language": "python",
   "name": "python3"
  },
  "language_info": {
   "codemirror_mode": {
    "name": "ipython",
    "version": 3
   },
   "file_extension": ".py",
   "mimetype": "text/x-python",
   "name": "python",
   "nbconvert_exporter": "python",
   "pygments_lexer": "ipython3",
   "version": "3.12.3"
  }
 },
 "nbformat": 4,
 "nbformat_minor": 5
}
