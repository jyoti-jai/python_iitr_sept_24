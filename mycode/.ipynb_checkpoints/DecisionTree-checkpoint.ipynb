{
 "cells": [
  {
   "cell_type": "code",
   "execution_count": 1,
   "id": "384aff59-9069-4d55-983d-cf0a43a3e9e1",
   "metadata": {},
   "outputs": [],
   "source": [
    "class Node:\n",
    "    def __init__(self, feature=None, boundry=None, is_leaf=False, answer=None):\n",
    "        self.feature = feature\n",
    "        self.boundary = boundry\n",
    "        self.leftNode = None\n",
    "        self.rightNode = None\n",
    "        self.is_leaf = is_leaf\n",
    "        self.answer = answer\n",
    "    def take_decision(self, job):\n",
    "        if (self.is_leaf):\n",
    "            return self.answer\n",
    "        else:\n",
    "            job_val = job[self.feature]\n",
    "            if (job_val) >= self.boundry:\n",
    "                ans_node = self.rightnode\n",
    "            else:\n",
    "                ans_node=self.leftnode\n",
    "            return ans_node.take_decision(job)\n",
    "    "
   ]
  },
  {
   "cell_type": "code",
   "execution_count": null,
   "id": "893639f7-cd82-4068-80a3-b52c7e2f8c9d",
   "metadata": {},
   "outputs": [],
   "source": []
  }
 ],
 "metadata": {
  "kernelspec": {
   "display_name": "Python 3 (ipykernel)",
   "language": "python",
   "name": "python3"
  },
  "language_info": {
   "codemirror_mode": {
    "name": "ipython",
    "version": 3
   },
   "file_extension": ".py",
   "mimetype": "text/x-python",
   "name": "python",
   "nbconvert_exporter": "python",
   "pygments_lexer": "ipython3",
   "version": "3.12.3"
  }
 },
 "nbformat": 4,
 "nbformat_minor": 5
}
