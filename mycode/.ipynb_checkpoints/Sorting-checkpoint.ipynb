{
 "cells": [
  {
   "cell_type": "markdown",
   "id": "e2b5c222-e7d9-455f-847e-92d8216f5acf",
   "metadata": {},
   "source": [
    "Problem Statement - How would you sort?\n",
    "arr=[1,0,3,2,-5,8,7,9,6]"
   ]
  },
  {
   "cell_type": "code",
   "execution_count": 2,
   "id": "8a5ed704-24b4-43ab-b011-df1fc5ec9cce",
   "metadata": {},
   "outputs": [],
   "source": [
    "#Selection Sort\n",
    "def sel_sort(arr):\n",
    "    for i in range(len(arr)):\n",
    "        currentmin = arr[i]\n",
    "        minidx= i\n",
    "        for j in range(i+1,len(arr)):\n",
    "            if (currentmin > arr[j]):\n",
    "                currentmin = arr[j]\n",
    "                minidx=j\n",
    "        if (minidx!=i):\n",
    "            tmp = arr[i]\n",
    "            arr[i]=arr[minidx]\n",
    "            arr[minidx]=tmp\n",
    "    return     \n",
    "            "
   ]
  },
  {
   "cell_type": "code",
   "execution_count": 3,
   "id": "fadef96f-1fe2-4540-b57a-dd3fc7409bee",
   "metadata": {},
   "outputs": [
    {
     "name": "stdout",
     "output_type": "stream",
     "text": [
      "[-5, 0, 1, 2, 3, 6, 7, 8, 9]\n"
     ]
    }
   ],
   "source": [
    "arr=[1,0,3,2,-5,8,7,9,6]\n",
    "sel_sort(arr)\n",
    "print(arr)"
   ]
  },
  {
   "cell_type": "code",
   "execution_count": 4,
   "id": "76b295a8-79cc-410e-8798-118091c53514",
   "metadata": {},
   "outputs": [],
   "source": [
    "#Bubble Sort\n",
    "def bubble_sort(arr):\n",
    "    swapped = True\n",
    "    k=0\n",
    "    while swapped:\n",
    "        k+=1\n",
    "        swapped = False\n",
    "        for i in range(len(arr) - 1):\n",
    "            if (arr[i+1] < arr[i]):\n",
    "                swapped = True\n",
    "                tmp = arr[i]\n",
    "                arr[i]=arr[i+1]\n",
    "                arr[i+1]=tmp"
   ]
  },
  {
   "cell_type": "code",
   "execution_count": 5,
   "id": "34a46a67-25a4-4719-985d-10a62f004156",
   "metadata": {},
   "outputs": [
    {
     "name": "stdout",
     "output_type": "stream",
     "text": [
      "[-5, 0, 1, 2, 3, 6, 7, 8, 9]\n"
     ]
    }
   ],
   "source": [
    "arr=[1,0,3,2,-5,8,7,9,6]\n",
    "bubble_sort(arr)\n",
    "print(arr)"
   ]
  },
  {
   "cell_type": "code",
   "execution_count": 85,
   "id": "d5196669-0f93-4403-b7e9-5f0598017638",
   "metadata": {},
   "outputs": [
    {
     "name": "stdout",
     "output_type": "stream",
     "text": [
      "[6, 11]\n"
     ]
    }
   ],
   "source": [
    "i ,j = 5,10\n",
    "i,j= i+1,j+1\n",
    "# print(i,j)\n",
    "res=[]\n",
    "res.extend([i,j])\n",
    "print(res)"
   ]
  },
  {
   "cell_type": "code",
   "execution_count": 14,
   "id": "f5fdabc5-0632-4396-a1e4-68d6c253f66a",
   "metadata": {},
   "outputs": [],
   "source": [
    "#Merging two sorted arrays\n",
    "def merge_arrays(arr1, arr2):\n",
    "    tc1,tc2=len(arr1) , len(arr2)\n",
    "    i,j=0,0\n",
    "    result=[]\n",
    "    k=0\n",
    "    while (i < tc1 and j <tc2)  :\n",
    "        if (arr1[i] < arr[j]):\n",
    "            result.append(arr1[i])\n",
    "            i+=1\n",
    "        elif (arr1[j] < arr[i]):\n",
    "            result.append(arr1[j])\n",
    "            j+=1\n",
    "        else:\n",
    "            result.extend([arr1[i], arr[j]])\n",
    "            i,j = i+1, j+1\n",
    "            \n",
    "    left_over=[]  \n",
    "    if (i < tc1):\n",
    "        left_over=arr1[i:]\n",
    "    elif (j < tc2):\n",
    "        left_over=arr2[j:]\n",
    "        idx=j\n",
    "\n",
    "    for num in left_over:\n",
    "        result.append(num)\n",
    "    return result    \n"
   ]
  },
  {
   "cell_type": "code",
   "execution_count": 88,
   "id": "eecb2fa0-d4f5-44b6-be2a-3e257342aa61",
   "metadata": {},
   "outputs": [
    {
     "name": "stdout",
     "output_type": "stream",
     "text": [
      "[-1, 0, 1, 2, 3, 6, 7, 8]\n"
     ]
    }
   ],
   "source": [
    "arr1=[-1,2,3]\n",
    "arr2=[0,1,6,7,8]\n",
    "res=merge_arrays(arr1,arr2)\n",
    "print(res)"
   ]
  },
  {
   "cell_type": "code",
   "execution_count": 89,
   "id": "1b4bc351-815f-445d-913e-3a10dd6cefef",
   "metadata": {},
   "outputs": [],
   "source": [
    "#MergeSort\n",
    "def merge_sort(arr):\n",
    "    if (len(arr)<=1):\n",
    "        return arr\n",
    "    mid = len(arr)//2\n",
    "    arr1,arr2=arr[0:mid],arr[mid:]\n",
    "    print(\"Divided into:\",arr1,arr2)\n",
    "    arr1=merge_sort(arr1)\n",
    "    arr2=merge_sort(arr2)\n",
    "    \n",
    "    print(\"Merging:\",arr1,arr2)\n",
    "    arr=merge_arrays(arr1,arr2)\n",
    "    print(\"Merged result:\", arr)\n",
    "    return arr\n",
    "    "
   ]
  },
  {
   "cell_type": "code",
   "execution_count": null,
   "id": "7ed9b52b-45d5-48a3-b0a7-403308a378dd",
   "metadata": {},
   "outputs": [],
   "source": [
    "arr =[1,0,3,2,-5,8,7,9,6]\n",
    "res=merge_sort(arr)\n",
    "print(\"Result:\",res)"
   ]
  },
  {
   "cell_type": "markdown",
   "id": "28d54b1e-a6fc-4f3c-9c9d-492a97c615b8",
   "metadata": {},
   "source": [
    "------------------------------------------------------------------------------\n",
    "#Problem statement \n",
    "Sort using Binary Search Tree\n",
    "arr =[1,0,3,2,-5,8,7,9,6]"
   ]
  },
  {
   "cell_type": "code",
   "execution_count": 29,
   "id": "318f8774-7b0e-4d74-9af2-d7dd4e70b4d1",
   "metadata": {},
   "outputs": [],
   "source": [
    "class Node:\n",
    "    def __init__(self, val):\n",
    "        self.val = val\n",
    "        self.left = None  \n",
    "        self.right = None\n",
    "    def __repr__(self):\n",
    "        return f\"[{self.val}]\"\n",
    "         # return f\"[{self.val}]\"\n",
    "    def insert(self,node):\n",
    "        if (node.val < self.val):\n",
    "            if (self.left):\n",
    "                self.left.insert(node)\n",
    "            else:\n",
    "                self.left = node\n",
    "        else:\n",
    "            if (self.right):\n",
    "                self.right.insert(node)\n",
    "            else:\n",
    "                self.right = node\n",
    "    def get_values(self):\n",
    "        values=[]\n",
    "        if (self.left):\n",
    "            values= self.left.get_values()\n",
    "        values.append(self.val)\n",
    "        if (self.right):\n",
    "            right_values=self.right.get_values()\n",
    "            values.extend(right_values)\n",
    "        return values\n",
    "\n",
    "class BST:\n",
    "    def __init__(self):\n",
    "        self.root = None\n",
    "    def insert(self, val):\n",
    "        node=Node(val)\n",
    "        if self.root :\n",
    "            self.root.insert(node)\n",
    "        else:\n",
    "            self.root = node"
   ]
  },
  {
   "cell_type": "code",
   "execution_count": 33,
   "id": "afec009d-90c1-42c6-92af-6355acfcb7f9",
   "metadata": {},
   "outputs": [
    {
     "name": "stdout",
     "output_type": "stream",
     "text": [
      "[1]\n",
      "[-5, 0, 1, 2, 3, 6, 7, 8, 9]\n"
     ]
    }
   ],
   "source": [
    "arr =[1,0,3,2,-5,8,7,9,6]\n",
    "bst = BST()\n",
    "for i in arr:\n",
    "    bst.insert(i)\n",
    "print(bst.root)\n",
    "vals=bst.root.get_values()\n",
    "print (vals)"
   ]
  },
  {
   "cell_type": "code",
   "execution_count": 91,
   "id": "be0d684d-5d4b-453c-857c-895c37cb202a",
   "metadata": {},
   "outputs": [],
   "source": [
    "#QuickSort\n",
    "def qs1(arr):\n",
    "    if len(arr) <= 1: return arr\n",
    "    pivot=arr[0]\n",
    "    left_vals=[]\n",
    "    right_vals=[]\n",
    "    mid_vals=[pivot]\n",
    "    for i in range(1, len(arr)):\n",
    "        val=arr[i]\n",
    "        if (val < pivot):\n",
    "            left_vals.append(val)\n",
    "        elif (val==pivot):\n",
    "            mid_vals.append(val)\n",
    "        else:\n",
    "            right_vals.append(val)\n",
    "    left_vals= quick_sort(left_vals)\n",
    "    right_vals = quick_sort(right_vals)\n",
    "    return left_vals+mid_vals+right_vals\n",
    "    \n",
    "    "
   ]
  },
  {
   "cell_type": "code",
   "execution_count": 92,
   "id": "c734df39-0fb1-4661-9106-3d8039e21fbe",
   "metadata": {},
   "outputs": [
    {
     "name": "stdout",
     "output_type": "stream",
     "text": [
      "[-5, 0, 1, 2, 3, 6, 7, 8, 9]\n"
     ]
    }
   ],
   "source": [
    "arr =[1,0,3,2,-5,8,7,9,6]\n",
    "#arr =[1,0,3]\n",
    "res = qs1(arr)\n",
    "print(res)"
   ]
  },
  {
   "cell_type": "code",
   "execution_count": 319,
   "id": "f013d2cd-d14c-4aac-bcd4-86a0dee56bca",
   "metadata": {},
   "outputs": [],
   "source": [
    "def qs(arr):\n",
    "    \n",
    "    if len(arr) <= 1: return arr\n",
    "    pivot = arr[0]\n",
    "\n",
    "    i = 1\n",
    "    j = len(arr) - 1\n",
    "        \n",
    "    while (i <= j):\n",
    "        if (arr[i] < pivot):\n",
    "            i+=1\n",
    "            continue\n",
    "        if (arr[j] >= pivot):\n",
    "            j-=1\n",
    "            continue\n",
    "        arr[i], arr[j]=arr[j], arr[i]\n",
    "   \n",
    "    arr[0],arr[i-1]=arr[i-1],arr[0]\n",
    "    \n",
    "    return qs(arr[:i-1])+[pivot]+qs(arr[i:])\n",
    "    #return qs(arr_left)+[pivot]+qs(arr_right)\n",
    "    "
   ]
  },
  {
   "cell_type": "code",
   "execution_count": 383,
   "id": "fa37be5c-72db-4293-9497-b6c34980ab7e",
   "metadata": {},
   "outputs": [],
   "source": [
    "def qs_new(arr,start=0,end=len(arr)-1):\n",
    "    print(f\"start:{start}, end={end}\")\n",
    "    if end-start < 1: return arr\n",
    "    pivot = arr[start]\n",
    "    pindex=start\n",
    "    \n",
    "    i = start + 1\n",
    "    j = end\n",
    "    \n",
    "    while (i <= j):\n",
    "        if (arr[i] < pivot):\n",
    "            pindex=i\n",
    "            i+=1\n",
    "            continue\n",
    "        if (arr[j] >= pivot):\n",
    "            j-=1\n",
    "            continue\n",
    "        arr[i], arr[j]=arr[j], arr[i]\n",
    "    \n",
    "    arr[start],arr[pindex]=arr[pindex],arr[start]\n",
    "    qs_new(arr,start+1,pindex)\n",
    "    qs_new(arr,pindex + 1,end)\n",
    "    return \n",
    "    \n",
    "    "
   ]
  },
  {
   "cell_type": "code",
   "execution_count": 384,
   "id": "1162e956-c5ff-4184-b4ca-82555d8b377b",
   "metadata": {},
   "outputs": [
    {
     "name": "stdout",
     "output_type": "stream",
     "text": [
      "8\n",
      "start:0, end=8\n",
      "start:1, end=2\n",
      "start:2, end=1\n",
      "start:2, end=2\n",
      "start:3, end=8\n",
      "start:4, end=3\n",
      "start:4, end=8\n",
      "start:5, end=4\n",
      "start:5, end=8\n",
      "start:6, end=7\n",
      "start:7, end=6\n",
      "start:7, end=7\n",
      "start:8, end=8\n",
      "[-5, 0, 1, 2, 3, 6, 7, 8, 9]\n"
     ]
    }
   ],
   "source": [
    "# arr =[9,6,5,4]\n",
    "arr =[1,0]\n",
    "# arr =[1,0,3,2,6,7]\n",
    "arr = [1,0,3,2,-5,8,7,9,6]\n",
    "\n",
    "# arr =[9,6,5,4]\n",
    "k=0\n",
    "start=0\n",
    "end=len(arr)-1\n",
    "print (len(arr)-1)\n",
    "qs_new(arr)\n",
    "print(arr)"
   ]
  },
  {
   "cell_type": "code",
   "execution_count": 364,
   "id": "a5be03e0-f1f1-4a72-94c8-6e73ab1e8e2d",
   "metadata": {},
   "outputs": [],
   "source": [
    "#Insertion sort\n",
    "def insert_sort(arr):\n",
    "    if len(arr) <= 1: return arr\n",
    "    for i in range(1 , len(arr)):\n",
    "        val = arr[i]\n",
    "        j = i - 1\n",
    "        while (j>=0 and val < arr[j]):\n",
    "            arr[j+1]=arr[j]\n",
    "            j-=1\n",
    "        arr[j+1]=val\n",
    "    return arr\n"
   ]
  },
  {
   "cell_type": "code",
   "execution_count": 59,
   "id": "f332d3ca-2755-4944-b6d2-8b1a09af3748",
   "metadata": {},
   "outputs": [
    {
     "name": "stdout",
     "output_type": "stream",
     "text": [
      "[-5, 0, 1, 2, 3, 6, 7, 8, 9]\n"
     ]
    }
   ],
   "source": [
    "arr = [1,0,3,2,-5,8,7,9,6]\n",
    "insert_sort(arr)\n",
    "print(arr)"
   ]
  },
  {
   "cell_type": "code",
   "execution_count": 64,
   "id": "099527ec-90c9-4e63-8567-07c605b33ed6",
   "metadata": {},
   "outputs": [
    {
     "name": "stdout",
     "output_type": "stream",
     "text": [
      "d\t2\n"
     ]
    }
   ],
   "source": [
    "\n",
    "y=\"d\\t2\"\n",
    "print(y)"
   ]
  },
  {
   "cell_type": "code",
   "execution_count": 65,
   "id": "bf3c8e23-6993-453f-9d95-96e9e5e0a5d1",
   "metadata": {},
   "outputs": [
    {
     "name": "stdout",
     "output_type": "stream",
     "text": [
      "d\t123\n"
     ]
    }
   ],
   "source": [
    "\n",
    "y=\"d\\t123\"\n",
    "print(y)"
   ]
  },
  {
   "cell_type": "code",
   "execution_count": null,
   "id": "033149de-5f2f-4c33-88c5-cd307cd5639f",
   "metadata": {},
   "outputs": [],
   "source": [
    "def sort_xxx(arr)\n",
    "    count =3\n",
    "     for i in range(1 , 3):\n",
    "        val = arr[i]\n",
    "        j = i - 1\n",
    "        while (j>=0 and val < arr[j]):\n",
    "            arr[j+1]=arr[j]\n",
    "            j-=1\n",
    "        arr[j+1]=val\n",
    "    m = 1\n",
    "    l=0\n",
    "    r=2\n",
    "    for i in range(3, len(arr):\n",
    "        mid=arr[m]\n",
    "        val=arr[i]\n",
    "        if (val = mid):\n",
    "            insert_idx= i+1\n",
    "        else:\n",
    "            if (val > m):\n",
    "                l = m+1\n",
    "                r = i -1\n",
    "            else:\n",
    "                l=0\n",
    "                r = m\n",
    "            while(l<=r):\n",
    "                if \n",
    "            \n",
    "        \n",
    "                 \n",
    "    mid=arr[m]\n",
    "    \n",
    "        \n",
    "    l=0\n",
    "    m=1\n",
    "    r=2\n",
    "    val1=arr[l]\n",
    "    val2=arr[m]\n",
    "    val3=arr[r]\n",
    "    subset=[]\n",
    "    if (val1 < val2):\n",
    "        if (val2 < val3):\n",
    "            subset=[val1,val2,val3]\n",
    "        elif (val3 < val1):\n",
    "            subset=[val3,val1,val2]\n",
    "        else:\n",
    "            subset=[val1,val3,val2]\n",
    "    else:\n",
    "         if (val1 < val3):\n",
    "            subset=[val2,val1,val3]\n",
    "        elif (val3 < val2):\n",
    "            subset=[val3,val2,val1]\n",
    "        else:\n",
    "            subset=[val2,val3,val1]\n",
    "    arr[0]=subset[0]\n",
    "    arr[1]=subset[1]\n",
    "    arr[2]=subset[2]\n",
    "\n",
    "    val_m=arr[1]\n",
    "    m=1\n",
    "    start = r + 1\n",
    "    for i in range(start,len(arr)):\n",
    "        if \n",
    "        if (arr[i] > arr[m]):\n",
    "            l=m + 1\n",
    "        else:\n",
    "            r=m\n",
    "        while (r >=\n",
    "        for j in range ( , start\n",
    "\n",
    "        "
   ]
  },
  {
   "cell_type": "code",
   "execution_count": 76,
   "id": "1057e213-5c7b-49fb-85e8-d012b49fafb9",
   "metadata": {},
   "outputs": [],
   "source": [
    "def sortArr(arr):\n",
    "    n = len(arr)\n",
    "    print(\"N:\",n)\n",
    "    for i in range(n):\n",
    "        print(\"val\", arr[i])\n",
    "        originalVal = arr[i] % (n + 1)\n",
    "        print(\"Original val\", originalVal)\n",
    "        correctIdx = originalVal - 1\n",
    "        print(\"correctIdx\", correctIdx)\n",
    "        arr[correctIdx] += originalVal * (n + 1)\n",
    "        print(arr)\n",
    "    \n",
    "    for i in range(n):\n",
    "        arr[i] = arr[i] // (n + 1)"
   ]
  },
  {
   "cell_type": "code",
   "execution_count": 385,
   "id": "b7446bda-7d93-48f3-a0d7-6f2c0a02a8bf",
   "metadata": {},
   "outputs": [
    {
     "name": "stdout",
     "output_type": "stream",
     "text": [
      "N: 5\n",
      "val 2\n",
      "Original val 2\n",
      "correctIdx 1\n",
      "[2, 13, 5, 4, 3]\n",
      "val 13\n",
      "Original val 1\n",
      "correctIdx 0\n",
      "[8, 13, 5, 4, 3]\n",
      "val 5\n",
      "Original val 5\n",
      "correctIdx 4\n",
      "[8, 13, 5, 4, 33]\n",
      "val 4\n",
      "Original val 4\n",
      "correctIdx 3\n",
      "[8, 13, 5, 28, 33]\n",
      "val 33\n",
      "Original val 3\n",
      "correctIdx 2\n",
      "[8, 13, 23, 28, 33]\n",
      "[1, 2, 3, 4, 5]\n"
     ]
    }
   ],
   "source": [
    "arr = [2, 1, 5, 4, 3]\n",
    "sortArr(arr) \n",
    "print(arr)"
   ]
  },
  {
   "cell_type": "markdown",
   "id": "3a3fd37c-a2c1-4460-b43f-3ac44ba209e6",
   "metadata": {},
   "source": [
    "\n",
    "  \"# Q: Look at the format string in python\"\n",
    "  \n",
    "  \"# Q: \\n\",\n",
    "    \"# A = [0, 1, 0, 1]....\\n\",\n",
    "    \"# sort A in time complexity O(n)?\"\n",
    "\n",
    "\"# Q: \\n\",\n",
    "    \"# A = [R, G, R, G, R, G]....\\n\",\n",
    "    \"# sort A without using extra memory in time complexity O(n)?\"\n",
    "      \n",
    "    \"# Q: Compute the time complexity of Merge Sort \"\n",
    "\n",
    "     \"# Understanding the tabs:\\n\",\n",
    "    \"# Q: Convert tabs into spaces\\n\",\n",
    "    \"# \\\"\\\\t2\\\" -> \\\"       2\\\"\\n\",\n",
    "    \"# \\\"\\\\t1218\\\" -> \\\"    1218\\\"\\n\",\n",
    "    \"#\\\"\\\\t123456789\\\"-> \\\"       123456789\\\"\""
   ]
  },
  {
   "cell_type": "code",
   "execution_count": 300,
   "id": "95353921-07d6-4d3e-8328-fb8ac5af61ed",
   "metadata": {},
   "outputs": [],
   "source": [
    "#Test code (Incomplete)\n",
    "heap_sort(arr,i,level=0):\n",
    "    # print(f\"Starting arr:{arr}\")\n",
    "    \n",
    "    if len(arr)<=1: \n",
    "         return arr\n",
    "    level+=1\n",
    "    if level> 20 : return\n",
    "    L=len(arr) - 1\n",
    "    # if (L%2 ==0):\n",
    "    #     lastleft = L -1\n",
    "    # else:\n",
    "    #     lastleft = L\n",
    "    # lastparent = (lastleft-1)/2\n",
    "    # i = 0\n",
    "    \n",
    "    parent = arr[i]\n",
    "    l_i = 2*i + 1\n",
    "    r_i = 2*i + 2\n",
    "    # print(f\"{level}. Processing index:{i}, with leftindex:{l_i}, right index{r_i}\");\n",
    "    if (l_i > L):\n",
    "        # print(f\"{level}. Index:{i} has no children\");\n",
    "        return arr\n",
    "    else :\n",
    "        left=arr[l_i]\n",
    "    if (r_i <= L):\n",
    "        right=arr[r_i]\n",
    "    else :\n",
    "        # print(f\"{level}. Index:{i} has no Right\");\n",
    "        right = None\n",
    "    # print(f\"{level}. Processing parent: {parent}, with left:{left}, right{right}\");\n",
    "   \n",
    "    \n",
    "    # print(f\"{level}.Array is:{arr}\")\n",
    "    # print(f\"{level}.going into left\")\n",
    "    heap_sort(arr,l_i,level)\n",
    "    left=arr[l_i]\n",
    "    if (right!=None):\n",
    "        # print(f\"{level}.going into right\")\n",
    "        heap_sort(arr,r_i,level)\n",
    "        right=arr[r_i]\n",
    "    if (right==None or left > right):\n",
    "        if (left > parent):\n",
    "            arr[i],arr[l_i]=arr[l_i],arr[i]\n",
    "            heap_sort(arr,l_i,level)\n",
    "    elif (right > left and right > parent):\n",
    "        arr[i],arr[r_i]=arr[r_i],arr[i]\n",
    "        heap_sort(arr,r_i,level)\n",
    "    return arr\n",
    "    "
   ]
  },
  {
   "cell_type": "code",
   "execution_count": 305,
   "id": "e712a70a-0d5d-48b9-97b5-b8298fa8819a",
   "metadata": {},
   "outputs": [],
   "source": [
    "def heap_sort_main(arr):\n",
    "    i=0\n",
    "    L=len(arr)\n",
    "    arr=heap_sort(arr[0:L +1],0)\n",
    "    # while (L-1 >=0):\n",
    "    # while (i  < 3):\n",
    "    #     arr=heap_sort(arr[0:L-i +1],0)\n",
    "    #     arr[0],arr[L-i]=arr[L-i],arr[0]\n",
    "    #     i+=1\n",
    "    #     print(f\"Result after {i} iteration is :{arr}\")\n",
    "        \n",
    "    return arr\n",
    "        \n",
    "    "
   ]
  },
  {
   "cell_type": "code",
   "execution_count": null,
   "id": "9fc0db80-ffa3-4fd6-baa9-478d7e83a365",
   "metadata": {},
   "outputs": [],
   "source": [
    "[6, 4, 5, 3, 1, 0, 2]"
   ]
  },
  {
   "cell_type": "code",
   "execution_count": 306,
   "id": "81f5fb8f-dd52-461f-9343-7929c3ac9f0e",
   "metadata": {},
   "outputs": [
    {
     "name": "stdout",
     "output_type": "stream",
     "text": [
      "Starting arr:[0, 1, 2, 3, 4, 5, 6]\n",
      "Starting arr:[0, 1, 2, 3, 4, 5, 6]\n",
      "Starting arr:[0, 1, 2, 3, 4, 5, 6]\n",
      "Starting arr:[0, 1, 2, 3, 4, 5, 6]\n",
      "Starting arr:[0, 4, 2, 3, 1, 5, 6]\n",
      "Starting arr:[0, 4, 2, 3, 1, 5, 6]\n",
      "Starting arr:[0, 4, 2, 3, 1, 5, 6]\n",
      "Starting arr:[0, 4, 2, 3, 1, 5, 6]\n",
      "Starting arr:[0, 4, 6, 3, 1, 5, 2]\n",
      "Starting arr:[6, 4, 0, 3, 1, 5, 2]\n",
      "Starting arr:[6, 4, 0, 3, 1, 5, 2]\n",
      "Starting arr:[6, 4, 0, 3, 1, 5, 2]\n",
      "Starting arr:[6, 4, 5, 3, 1, 0, 2]\n",
      "[6, 4, 5, 3, 1, 0, 2]\n"
     ]
    }
   ],
   "source": [
    "res = heap_sort_main([0,1,2,3,4,5,6]) #,7,8,9,10,11,12,13,14],0)\n",
    "# res = heap_sort([0,1,2,3,4,5,6],0) #,7,8,9,10,11,12,13,14],0)\n",
    "print(res)"
   ]
  },
  {
   "cell_type": "markdown",
   "id": "4311fd5a-d92a-4045-b279-c4246c806405",
   "metadata": {},
   "source": [
    "# Q: we have stocks list - [100, 2, 3, 4, 2, 4, 5, 19, 10, 0, 5]\n",
    "# You can one buy and sell once, how much money can you make at max. \n",
    "# Level 2: Solve it in O(n)"
   ]
  },
  {
   "cell_type": "code",
   "execution_count": 525,
   "id": "e5de13fb-a171-4f65-80d2-de47a913ff41",
   "metadata": {},
   "outputs": [],
   "source": [
    "def find_maxprofit_trade(arr):\n",
    "    \n",
    "    if len(arr) <1: return []\n",
    "    buy1, sell1 = arr[0],arr[0]\n",
    "    buy2, sell2 = -1,-1\n",
    "    \n",
    "    for i in range( 1, len(arr)):\n",
    "        price = arr[i]\n",
    "        if (price > sell1):\n",
    "            sell1 = price\n",
    "        elif ( price < buy1):\n",
    "            if (buy2 == -1 or price < buy2):\n",
    "                buy2 = price\n",
    "                sell2 = -1\n",
    "        if ( price > buy2 and ( sell2 == -1 or sell2 < price)):\n",
    "            sell2 = price\n",
    "            \n",
    "        if (buy2 > -1 and sell2 > -1):\n",
    "            if (sell2-buy2 > sell1-buy1):\n",
    "                buy1,sell1 = buy2,sell2\n",
    "                buy2, sell2 = -1,-1\n",
    "\n",
    "    return [buy1,sell1]\n",
    "    "
   ]
  },
  {
   "cell_type": "code",
   "execution_count": 526,
   "id": "7d00e664-9161-4cd1-b838-63e8ac40d34f",
   "metadata": {},
   "outputs": [
    {
     "name": "stdout",
     "output_type": "stream",
     "text": [
      "[2, 19]\n"
     ]
    }
   ],
   "source": [
    "arr = [100, 2, 3, 4, 2, 4, 5, 19, 10, 0, 5]\n",
    "# arr= [10,6,8,7,4,3]\n",
    "# arr= [1,4,5,7,8]\n",
    "# arr=[8,7,4]\n",
    "res = find_maxprofit_trade(arr)\n",
    "print (res)"
   ]
  },
  {
   "cell_type": "code",
   "execution_count": 532,
   "id": "59f1bf03-24b9-45c5-8b04-ca9284645659",
   "metadata": {},
   "outputs": [],
   "source": [
    "import math\n",
    "class MinHeapTree:\n",
    "    def __init__(self):\n",
    "        self.arr = []\n",
    "    def getchildren_idx(self,pidx):\n",
    "        left_child = pidx*2 +1\n",
    "        right_child = pidx*2 +2\n",
    "        return (left_child,right_child)\n",
    "    def getparent_idx(self,idx):\n",
    "        pidx=(idx - 1)//2\n",
    "        return pidx\n",
    "    def getvalue(self,idx):\n",
    "        if (idx >= len(self.arr)):\n",
    "            return None\n",
    "        return self.arr[idx]\n",
    "    def getlevel(self,idx):\n",
    "        level=int(math.log2(idx+1))\n",
    "        return level\n",
    "        \n",
    "    def sortupward(self,idx):\n",
    "        arr = self.arr\n",
    "        while True:\n",
    "            if (idx == 0): break\n",
    "            pidx= self.getparent_idx(idx)\n",
    "            if (arr[pidx] <= arr[idx]):\n",
    "                break\n",
    "            else:\n",
    "                arr[pidx],arr[idx] = arr[idx],arr[pidx]\n",
    "                idx=pidx\n",
    "        return idx\n",
    "        \n",
    "    def sortdownward(self,idx):\n",
    "        arr=self.arr\n",
    "        last_idx = len(arr) - 1\n",
    "        while True:\n",
    "            if (idx==last_idx): break\n",
    "            parent = arr[idx]\n",
    "            lchild_idx,rchild_idx = self.getchildren_idx(idx)\n",
    "            if (lchild_idx > last_idx): \n",
    "                break\n",
    "            else:\n",
    "                left = arr[lchild_idx]\n",
    "                if (rchild_idx <= last_idx):\n",
    "                    right = arr[rchild_idx]\n",
    "                    \n",
    "                if ((rchild_idx > last_idx or right > left) and left < parent ):\n",
    "                    arr[idx],arr[lchild_idx]=arr[lchild_idx],arr[idx]\n",
    "                    idx= lchild_idx\n",
    "                elif ( right < parent):\n",
    "                    arr[idx],arr[rchild_idx]=arr[rchild_idx],arr[idx]\n",
    "                    idx= rchild_idx\n",
    "                else:\n",
    "                    break\n",
    "                    \n",
    "    def insert(self,val):\n",
    "        arr = self.arr\n",
    "        arr.append(val)\n",
    "        idx=len(arr) - 1\n",
    "        idx= self.sortupward(idx)\n",
    "        return idx\n",
    "        \n",
    "    def extractmin(self):\n",
    "        arr = self.arr\n",
    "        root = arr[0]\n",
    "        last=arr[len(arr) - 1]\n",
    "        arr[0]=last\n",
    "        arr.pop()\n",
    "        self.sortdownward(0)\n",
    "        return root\n",
    "        \n",
    "    def delete(self, idx):\n",
    "        arr = self.arr\n",
    "        if idx >= len(arr): return False\n",
    "        fakemin = arr[0] - 1\n",
    "        arr[idx] = fakemin\n",
    "        self.sortupward(idx)\n",
    "        val = self.extractmin()\n",
    "        if (val==fakemin):\n",
    "            return True\n",
    "        else: return False\n",
    "        \n",
    "        "
   ]
  },
  {
   "cell_type": "code",
   "execution_count": 533,
   "id": "a55ae1be-89f5-4916-8c8d-bd3801bca8bd",
   "metadata": {},
   "outputs": [
    {
     "data": {
      "text/plain": [
       "[9, 20, 10, 40, 50, 70]"
      ]
     },
     "execution_count": 533,
     "metadata": {},
     "output_type": "execute_result"
    }
   ],
   "source": [
    "mht= MinHeapTree()\n",
    "for i in [10, 20, 9, 40, 50, 70]:\n",
    "    mht.insert(i)\n",
    "mht.arr"
   ]
  },
  {
   "cell_type": "code",
   "execution_count": 537,
   "id": "f5c85366-dd8e-4bc0-a845-ef45f5a930c6",
   "metadata": {},
   "outputs": [
    {
     "name": "stdout",
     "output_type": "stream",
     "text": [
      "10\n"
     ]
    }
   ],
   "source": [
    "print(mht.extractmin())"
   ]
  },
  {
   "cell_type": "code",
   "execution_count": 515,
   "id": "aecfada7-e7e2-4f89-a4ff-e8b3d8de96ff",
   "metadata": {},
   "outputs": [
    {
     "data": {
      "text/plain": [
       "[10, 20, 70, 40, 50]"
      ]
     },
     "execution_count": 515,
     "metadata": {},
     "output_type": "execute_result"
    }
   ],
   "source": [
    "mht.sortdown(0)\n",
    "mht.arr"
   ]
  },
  {
   "cell_type": "code",
   "execution_count": 517,
   "id": "7d796be6-cae5-42d1-aa48-269d19e334d1",
   "metadata": {},
   "outputs": [
    {
     "name": "stdout",
     "output_type": "stream",
     "text": [
      "Array with fake val:[9, 20, 8, 40, 50, 70]\n",
      "Array after sorting up with fake val:[8, 20, 9, 40, 50, 70]\n",
      "array before sorting down in extractmin: [70, 20, 9, 40, 50]\n",
      "Faked value:8, and popped value:8\n"
     ]
    },
    {
     "data": {
      "text/plain": [
       "[9, 20, 70, 40, 50]"
      ]
     },
     "execution_count": 517,
     "metadata": {},
     "output_type": "execute_result"
    }
   ],
   "source": [
    "mht.delete(2)\n",
    "mht.arr"
   ]
  },
  {
   "cell_type": "code",
   "execution_count": 507,
   "id": "30a78462-5f17-4a5b-9d38-3122cca8fc27",
   "metadata": {},
   "outputs": [
    {
     "data": {
      "text/plain": [
       "[20, 20, 70, 40, 50]"
      ]
     },
     "execution_count": 507,
     "metadata": {},
     "output_type": "execute_result"
    }
   ],
   "source": [
    "mht.arr"
   ]
  },
  {
   "cell_type": "code",
   "execution_count": 431,
   "id": "373c1eca-382a-4d0e-9181-4ec1157071ed",
   "metadata": {},
   "outputs": [
    {
     "name": "stdout",
     "output_type": "stream",
     "text": [
      "2\n"
     ]
    }
   ],
   "source": [
    "import math\n",
    "x= int(math.log2(6+1))\n",
    "print(x)"
   ]
  },
  {
   "cell_type": "code",
   "execution_count": 440,
   "id": "2fb44de8-4681-478e-906f-fc13f98259e5",
   "metadata": {},
   "outputs": [
    {
     "name": "stdout",
     "output_type": "stream",
     "text": [
      "3\n"
     ]
    }
   ],
   "source": [
    "print(mht.getlevel(7))"
   ]
  },
  {
   "cell_type": "code",
   "execution_count": 524,
   "id": "7d543ba3-3311-4fd0-a4c2-47788536a212",
   "metadata": {},
   "outputs": [
    {
     "name": "stdout",
     "output_type": "stream",
     "text": [
      "[10, 20, 60, 40, 70]\n"
     ]
    }
   ],
   "source": [
    "test= [10, 20, 60, 40, 50, 70]\n",
    "del test[-2]\n",
    "print(test)"
   ]
  },
  {
   "cell_type": "code",
   "execution_count": 536,
   "id": "b348a94f-0076-4d8b-94e0-0d46e2f02c5d",
   "metadata": {},
   "outputs": [
    {
     "name": "stdout",
     "output_type": "stream",
     "text": [
      "9\n"
     ]
    }
   ],
   "source": [
    "print ( x)"
   ]
  },
  {
   "cell_type": "code",
   "execution_count": null,
   "id": "ac528a4a-9b33-4d90-a47f-fa6d88cf0503",
   "metadata": {},
   "outputs": [],
   "source": []
  }
 ],
 "metadata": {
  "kernelspec": {
   "display_name": "Python 3 (ipykernel)",
   "language": "python",
   "name": "python3"
  },
  "language_info": {
   "codemirror_mode": {
    "name": "ipython",
    "version": 3
   },
   "file_extension": ".py",
   "mimetype": "text/x-python",
   "name": "python",
   "nbconvert_exporter": "python",
   "pygments_lexer": "ipython3",
   "version": "3.12.3"
  }
 },
 "nbformat": 4,
 "nbformat_minor": 5
}
