{
 "cells": [
  {
   "cell_type": "code",
   "execution_count": null,
   "metadata": {},
   "outputs": [],
   "source": [
    "def factorial(n, k=1):\n",
    "    #print(f\"Called with n:{n}, k:{k}\")\n",
    "    if k > n :\n",
    "        return 1\n",
    "    elif k == n :\n",
    "        return n\n",
    "    x = factorial (n-1, k+1)\n",
    "    #print(f\"Multiplying n:{n}, k:{k}, x:{x}\")\n",
    "    return (n*k*x)"
   ]
  },
  {
   "cell_type": "code",
   "execution_count": null,
   "metadata": {},
   "outputs": [],
   "source": [
    "factorial (10)"
   ]
  },
  {
   "cell_type": "code",
   "execution_count": null,
   "metadata": {},
   "outputs": [],
   "source": [
    "factorial(2)"
   ]
  },
  {
   "cell_type": "code",
   "execution_count": null,
   "metadata": {},
   "outputs": [],
   "source": [
    "factorial(4)"
   ]
  },
  {
   "cell_type": "code",
   "execution_count": null,
   "metadata": {},
   "outputs": [],
   "source": [
    "def learn (x1, y1, x2, y2) :\n",
    "    #print (\"starting\")\n",
    "    s = (y2 - y1) / (x2 - x1)\n",
    "    i = y1 - (s * x1)\n",
    "    #print (\" From learn\", s, i)\n",
    "    return s,i\n",
    "\n",
    "def predict (x, slope_intercept) :\n",
    "    s, i = slope_intercept\n",
    "    return (s * x) + i"
   ]
  },
  {
   "cell_type": "code",
   "execution_count": null,
   "metadata": {},
   "outputs": [],
   "source": [
    "result = learn(1,5,2,9)\n",
    "print (result)"
   ]
  },
  {
   "cell_type": "code",
   "execution_count": null,
   "metadata": {},
   "outputs": [],
   "source": [
    "predict(4,result)"
   ]
  },
  {
   "cell_type": "code",
   "execution_count": null,
   "metadata": {},
   "outputs": [],
   "source": [
    "predict(3, result)"
   ]
  },
  {
   "cell_type": "code",
   "execution_count": null,
   "metadata": {},
   "outputs": [],
   "source": [
    "#Alternate method to calculate Y\n",
    "def predictY(x1,y1,x2,y2,x) :\n",
    "    #(x-x1)/(x2-x1) = (y-y1)/(y2-y1)\n",
    "    y=((x-x1)*(y2-y1)/(x2-x1))+y1\n",
    "    return y"
   ]
  },
  {
   "cell_type": "code",
   "execution_count": null,
   "metadata": {},
   "outputs": [],
   "source": [
    "predictY(1,5,2,9,3)"
   ]
  },
  {
   "cell_type": "code",
   "execution_count": null,
   "metadata": {},
   "outputs": [],
   "source": [
    "result = learn(1,5,3,13)\n",
    "predict (2,result)"
   ]
  },
  {
   "cell_type": "code",
   "execution_count": null,
   "metadata": {},
   "outputs": [],
   "source": [
    "predictY(1,5,3,13,2)"
   ]
  },
  {
   "cell_type": "code",
   "execution_count": null,
   "metadata": {},
   "outputs": [],
   "source": [
    "# Two varible equations. y = mx + c (linear interpolation) or linear reg\n",
    "\n",
    "# Three variable equations, y = ax^2 + bx + c (cubic interpolation)"
   ]
  },
  {
   "cell_type": "markdown",
   "metadata": {},
   "source": [
    "Q1: Take 3 & 4 variable equations and solve them manually.\n",
    "\n",
    "Q2: Code the guassian elimination method recursive outline below."
   ]
  },
  {
   "cell_type": "code",
   "execution_count": null,
   "metadata": {},
   "outputs": [],
   "source": [
    "def solveSingleForVariable(eqn, lastVariableVal):\n",
    "    if (len(eqn)<=2):\n",
    "        return None\n",
    "    \n",
    "    \n",
    "    print (\"Starting replacement for EQN:\",eqn)\n",
    "    L=len(eqn)\n",
    "    \n",
    "    lhsVal =  eqn[L-2] *lastVariableVal\n",
    "    rhsVal =  eqn[L-1]\n",
    "   \n",
    "    solvedVal = rhsVal - lhsVal\n",
    "    #print(\"LHS:\", lhsVal, \", RHS:\", rhsVal, \", SolvedVal:\", solvedVal)\n",
    "    solvedEqn =[]\n",
    "    for i in range (0, L - 2):\n",
    "        solvedEqn.append(eqn[i])\n",
    "    solvedEqn.append(solvedVal)\n",
    "    return solvedEqn\n",
    "\n",
    "def solveForSingleVariable(eqns, variableResults):\n",
    "    new_eqns=[]\n",
    "    L=len(eqns)\n",
    "    eqn = eqns[0]\n",
    "    if (L==1 | len(eqn)==2):\n",
    "        return\n",
    "    replaceVariable=results[0]\n",
    "    #print(\"Using value for variable:\", replaceVariable)\n",
    "    for i in range(0,L):\n",
    "        originalEqn = eqns[i]\n",
    "        #print (\"Starting replacement for EQN:\",originalEqn)\n",
    "        l=len(originalEqn)\n",
    "        lhsVal =  originalEqn[l-2] * replaceVariable\n",
    "        rhsVal =  originalEqn[l-1]\n",
    "        solvedVal = rhsVal - lhsVal\n",
    "        #print(\"LHS:\", lhsVal, \", RHS:\", rhsVal, \", SolvedVal:\", solvedVal)\n",
    "        solvedEqn =[]\n",
    "        for j in range (0, l - 2):\n",
    "            solvedEqn.append(originalEqn[j])\n",
    "        solvedEqn.append(solvedVal)\n",
    "        new_eqns.append(solvedEqn)\n",
    "    return new_eqns\n",
    "\n",
    "def solveForVariables_old(eqn, variableResults):\n",
    "    eqnTobeSolved = eqn\n",
    "    if (len(eqn)<=2):\n",
    "        return None\n",
    "    print (\"Starting replacement for EQN:\",eqn, \"and results:\", variableResults)\n",
    "   \n",
    "    totalVariables = len(variableResults)\n",
    "    solvedEqn=[]\n",
    "    for i in range(0 , totalVariables):\n",
    "        L=len(eqnTobeSolved)\n",
    "        val = variableResults[i]\n",
    "        lhsVal =  eqnTobeSolved[L-2] * val\n",
    "        rhsVal =  eqnTobeSolved[L-1]\n",
    "        solvedVal = rhsVal - lhsVal\n",
    "        print(\"LHS:\", lhsVal, \", RHS:\", rhsVal, \", SolvedVal:\", solvedVal)\n",
    "        solvedEqn =[]\n",
    "        for j in range (0, L - 2):\n",
    "            solvedEqn.append(eqnTobeSolved[j])\n",
    "        solvedEqn.append(solvedVal)\n",
    "        eqnTobeSolved = solvedEqn\n",
    "    print(i,\"Solved Equation:\", solvedEqn)\n",
    "    return solvedEqn\n",
    "\n",
    "\n"
   ]
  },
  {
   "cell_type": "code",
   "execution_count": null,
   "metadata": {},
   "outputs": [],
   "source": [
    "def eliminateOne(arr1, arr2):\n",
    "    #print(\"Eliminating One from:\", arr1, \",\", arr2)\n",
    "    multiple = arr2[0]/arr1[0]\n",
    "    L = len(arr2)\n",
    "    result = []\n",
    "    for i in range(1,L):\n",
    "        res = arr2[i] - arr1[i] * multiple\n",
    "        result.append(res)\n",
    "    return result"
   ]
  },
  {
   "cell_type": "code",
   "execution_count": null,
   "metadata": {},
   "outputs": [],
   "source": [
    "eqn1 = [1, 1, 1, 10]\n",
    "eqn2 = [2, 3, 4, 50]\n",
    "result = eliminateOne(eqn1, eqn2)\n",
    "print (\"Elimination Result\", result)"
   ]
  },
  {
   "cell_type": "code",
   "execution_count": null,
   "metadata": {},
   "outputs": [],
   "source": [
    "#eq1 = [1, 1, 1, 10]\n",
    "#eq2 = [2, 3, 4, 50]\n",
    "#eq3 = [3, 5, -8, 100]\n",
    "#eqns = [eq1, eq2, eq3]\n",
    "def reduce(eqns) :\n",
    "    #print(\"Eliminating for:\", eqns)\n",
    "    firstEqn = eqns[0]\n",
    "    new_eqns=[]\n",
    "    L = len(eqns)\n",
    "    for i in range(1, L) :\n",
    "        secondEqn = eqns[i]\n",
    "        result = eliminateOne(firstEqn, secondEqn)\n",
    "        new_eqns.append(result)\n",
    "    #print(\"Elimination result:\", new_eqns)\n",
    "    return new_eqns\n",
    "    "
   ]
  },
  {
   "cell_type": "code",
   "execution_count": null,
   "metadata": {},
   "outputs": [],
   "source": [
    "eq1 = [1, 1, 1, 10]\n",
    "eq2 = [2, 3, 4, 50]\n",
    "eq3 = [3, 5, -8, 100]\n",
    "eqns = [eq1, eq2, eq3]\n",
    "print(\"Original:\", eqns)\n",
    "reduced = reduce(eqns)\n",
    "print(\"Reduced:\", reduced)\n",
    "\n"
   ]
  },
  {
   "cell_type": "code",
   "execution_count": null,
   "metadata": {},
   "outputs": [],
   "source": [
    "\n",
    "def solveBySubstitution(eqn, variableResults):\n",
    "    L=len(eqn)\n",
    "    if (len(eqn)<=2):\n",
    "        return None\n",
    "    #print (\"Testing replacement for EQN:\",eqn, \"and results:\", variableResults)\n",
    "   \n",
    "    totalVariables = len(variableResults)\n",
    "    solvedEqn=[]\n",
    "    lhsVal = 0\n",
    "    rhsVal =  eqn[L-1]\n",
    "    k=L-1\n",
    "    for i in range(0 , totalVariables):\n",
    "        val = variableResults[i]\n",
    "        k-=1\n",
    "        lhsVal += eqn[k] * val\n",
    "        \n",
    "    solvedVal = rhsVal - lhsVal\n",
    "    #print(\"LHS:\", lhsVal, \", RHS:\", rhsVal, \", SolvedVal:\", solvedVal)\n",
    "    solvedEqn =[]\n",
    "    for j in range (0, k):\n",
    "        solvedEqn.append(eqn[j])\n",
    "    solvedEqn.append(solvedVal)\n",
    "        \n",
    "    #print(i,\"Solved Equation:\", solvedEqn)\n",
    "    return solvedEqn\n",
    "            "
   ]
  },
  {
   "cell_type": "code",
   "execution_count": null,
   "metadata": {},
   "outputs": [],
   "source": [
    "val=[3.0]\n",
    "eqn=[-1.0, -3.0, -11.0]\n",
    "new_eqn = solveBySubstitution(eqn, val)\n",
    "print(new_eqn)\n",
    "\n",
    "val=[3.0, 2.0]\n",
    "eqn=[1, 1, 1, 6]\n",
    "new_eqn = solveBySubstitution(eqn, val)\n",
    "print(new_eqn)\n",
    "\n"
   ]
  },
  {
   "cell_type": "code",
   "execution_count": null,
   "metadata": {},
   "outputs": [],
   "source": [
    "# a + b + c = 10 -> [1, 1, 1, 10]\n",
    "# 2a + 3b + 4c = 50 [2, 3, 4, 50]\n",
    "# 3a + 5b - 8c = 100 [3, 5, -8, 100]\n",
    "def solve(eqns, level=0):\n",
    "    level+=1\n",
    "    print(level ,\".Solving for :\", eqns)\n",
    "    if len(eqns) < len(eqns[0]) - 1:\n",
    "        return None\n",
    "    firstEqn = eqns[0]\n",
    "    all_results = [];\n",
    "    if len(eqns) == 1:\n",
    "        #[0 10]\n",
    "        singleResult=[firstEqn[1]/firstEqn[0]] # check if eqn[0] is 0\n",
    "        print(level,\".Single Solution for:\",eqns, \" And Results:\",singleResult)\n",
    "        return singleResult\n",
    "    else :\n",
    "        # eliminiate one variable and call solve(new_eqns)\n",
    "        new_eqns = reduce(eqns)\n",
    "        print (level,\".Calling Solve with reduced Eqns:\", new_eqns)\n",
    "        results = solve(new_eqns, level)\n",
    "        print(level,\".Solution result from previous call for:\",new_eqns, \" with Results:\",results)\n",
    "        L = len(results)\n",
    "        print(level,\".Adding results:\", results, \" to existing results\", all_results)\n",
    "        for i in range(0 , L):\n",
    "            all_results.append(results[i])\n",
    "        print(level,\".Length comparison of Eqns & results::\", len(eqns), \" with results\", len(all_results))\n",
    "        if (len(all_results) < len (eqns)):\n",
    "            print(level,\".Going to replace variable:\", all_results, \" in equations\",eqns[0])\n",
    "            solved_new_eqn =solveBySubstitution(eqns[0], all_results)\n",
    "            print(level,\".Replacement Result:\", solved_new_eqn)\n",
    "            solved_new_eqns=[]\n",
    "            solved_new_eqns.append(solved_new_eqn)\n",
    "            results = solve(solved_new_eqns, level)\n",
    "            L = len(results)\n",
    "            print(level,\".Adding results:\", results, \" to existing results\", all_results)\n",
    "            for i in range(0, L):\n",
    "                all_results.append(results[i])\n",
    "            print(level,\".Length comparison of Eqns & results:\", len(eqns), \" and results\", len(all_results))\n",
    "            print(level,\".Final Solution for:\",solved_new_eqns, \" with Results:\",all_results)    \n",
    "    return all_results"
   ]
  },
  {
   "cell_type": "markdown",
   "metadata": {},
   "source": []
  },
  {
   "cell_type": "code",
   "execution_count": null,
   "metadata": {},
   "outputs": [],
   "source": [
    "eq1 = [1, 1, 1,  6]\n",
    "eq2 = [2, 1, -1,  1]\n",
    "eq3 = [3, -2, 1, 2]\n",
    "\n",
    "eqns = [eq1, eq2, eq3]\n",
    "result = solve(eqns)"
   ]
  },
  {
   "cell_type": "code",
   "execution_count": null,
   "metadata": {},
   "outputs": [],
   "source": [
    "eq1 = [1, 1, 1, 1, 10]\n",
    "eq2 = [2, -1, 3, -1, 5]\n",
    "eq3 = [4, 2,-1,1, 9]\n",
    "eq4 = [1, -2,2, 3, 15]\n",
    "eqns = [eq1, eq2, eq3, eq4]\n",
    "result = solve(eqns)"
   ]
  },
  {
   "cell_type": "code",
   "execution_count": null,
   "metadata": {},
   "outputs": [],
   "source": []
  },
  {
   "cell_type": "code",
   "execution_count": null,
   "metadata": {},
   "outputs": [],
   "source": [
    "\n"
   ]
  },
  {
   "cell_type": "code",
   "execution_count": null,
   "metadata": {},
   "outputs": [],
   "source": []
  }
 ],
 "metadata": {
  "kernelspec": {
   "display_name": "Python 3",
   "language": "python",
   "name": "python3"
  },
  "language_info": {
   "codemirror_mode": {
    "name": "ipython",
    "version": 3
   },
   "file_extension": ".py",
   "mimetype": "text/x-python",
   "name": "python",
   "nbconvert_exporter": "python",
   "pygments_lexer": "ipython3",
   "version": "3.6.8"
  },
  "toc": {
   "base_numbering": 1,
   "nav_menu": {},
   "number_sections": true,
   "sideBar": true,
   "skip_h1_title": false,
   "title_cell": "Table of Contents",
   "title_sidebar": "Contents",
   "toc_cell": false,
   "toc_position": {},
   "toc_section_display": true,
   "toc_window_display": false
  }
 },
 "nbformat": 4,
 "nbformat_minor": 2
}
