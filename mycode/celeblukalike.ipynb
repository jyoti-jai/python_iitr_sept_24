{
 "cells": [
  {
   "cell_type": "code",
   "execution_count": 2,
   "id": "3ce477a7-c3fc-43ef-95d6-f5d18a7794df",
   "metadata": {},
   "outputs": [
    {
     "ename": "ModuleNotFoundError",
     "evalue": "No module named 'face_recognition'",
     "output_type": "error",
     "traceback": [
      "\u001b[0;31m---------------------------------------------------------------------------\u001b[0m",
      "\u001b[0;31mModuleNotFoundError\u001b[0m                       Traceback (most recent call last)",
      "Cell \u001b[0;32mIn[2], line 1\u001b[0m\n\u001b[0;32m----> 1\u001b[0m \u001b[38;5;28;01mimport\u001b[39;00m \u001b[38;5;21;01mface_recognition\u001b[39;00m\n\u001b[1;32m      2\u001b[0m \u001b[38;5;28;01mimport\u001b[39;00m \u001b[38;5;21;01mos\u001b[39;00m\n\u001b[1;32m      3\u001b[0m \u001b[38;5;28;01mimport\u001b[39;00m \u001b[38;5;21;01mnumpy\u001b[39;00m \u001b[38;5;28;01mas\u001b[39;00m \u001b[38;5;21;01mnp\u001b[39;00m\n",
      "\u001b[0;31mModuleNotFoundError\u001b[0m: No module named 'face_recognition'"
     ]
    }
   ],
   "source": [
    "import face_recognition\n",
    "import os\n",
    "import numpy as np\n",
    "from IPython.display import Image"
   ]
  },
  {
   "cell_type": "code",
   "execution_count": 1,
   "id": "a18b1b87-b500-46c5-83e8-fac7a74a8620",
   "metadata": {},
   "outputs": [],
   "source": [
    "def load_images(images_dir):\n",
    "    image_encodings = []\n",
    "    images_names =[]\n",
    "    \n",
    "    for file in os.listdir(images_dir):\n",
    "        proper_filename=os.fsdecode(file)\n",
    "        image_path = os.path.join(images_dir,proper_filename)\n",
    "        image = face_recognition.load_image_file(image_path)\n",
    "        encoding = face_recognition.face_encodings(image)\n",
    "        if len(encoding) > 0:\n",
    "            image_encodings.append(encoding[0])\n",
    "            images_names.append(proper_filename)\n",
    "            \n",
    "    return(image_encodings, images_names)"
   ]
  },
  {
   "cell_type": "code",
   "execution_count": 3,
   "id": "bf805d72-5aae-4260-8b9d-22eb92b3e58d",
   "metadata": {},
   "outputs": [],
   "source": [
    "def get_closest_image(lib_images_encodings,lib_images_names, image_to_test_path):\n",
    "    \n",
    "    image_to_test = face_recognition.load_image_file(image_to_test_path)\n",
    "    image_to_test_encoding = face_recognition.face_encodings(image_to_test)[0]\n",
    "    \n",
    "    all_face_distances = face_recognition.face_distance(lib_images_encodings, image_to_test_encoding)\n",
    "    index_min_distance = all_face_distances.argmin()\n",
    "    \n",
    "    matching_image_name = lib_images_names[index_min_distance]\n",
    "    \n",
    "    return (image_to_test_path, matching_image_name)"
   ]
  },
  {
   "cell_type": "code",
   "execution_count": 4,
   "id": "7fab463e-668e-4a7d-9cdb-fb7487fecef8",
   "metadata": {},
   "outputs": [
    {
     "ename": "NameError",
     "evalue": "name 'os' is not defined",
     "output_type": "error",
     "traceback": [
      "\u001b[0;31m---------------------------------------------------------------------------\u001b[0m",
      "\u001b[0;31mNameError\u001b[0m                                 Traceback (most recent call last)",
      "Cell \u001b[0;32mIn[4], line 5\u001b[0m\n\u001b[1;32m      1\u001b[0m \u001b[38;5;66;03m# images_lib_dir = \"/cxldata/projects/lookalikeceleb/images/\"\u001b[39;00m\n\u001b[1;32m      3\u001b[0m images_lib_dir \u001b[38;5;241m=\u001b[39m \u001b[38;5;124m\"\u001b[39m\u001b[38;5;124m/celebimages/\u001b[39m\u001b[38;5;124m\"\u001b[39m\n\u001b[0;32m----> 5\u001b[0m lib_images_encodings, lib_images_names \u001b[38;5;241m=\u001b[39m \u001b[43mload_images\u001b[49m\u001b[43m(\u001b[49m\u001b[43mimages_lib_dir\u001b[49m\u001b[43m)\u001b[49m\n\u001b[1;32m      7\u001b[0m my_image \u001b[38;5;241m=\u001b[39m \u001b[38;5;124m\"\u001b[39m\u001b[38;5;124m../myimages/myimage.jpg\u001b[39m\u001b[38;5;124m\"\u001b[39m\n\u001b[1;32m      8\u001b[0m result \u001b[38;5;241m=\u001b[39m get_closest_image(lib_images_encodings,lib_images_names,my_image)\n",
      "Cell \u001b[0;32mIn[1], line 5\u001b[0m, in \u001b[0;36mload_images\u001b[0;34m(images_dir)\u001b[0m\n\u001b[1;32m      2\u001b[0m image_encodings \u001b[38;5;241m=\u001b[39m []\n\u001b[1;32m      3\u001b[0m images_names \u001b[38;5;241m=\u001b[39m[]\n\u001b[0;32m----> 5\u001b[0m \u001b[38;5;28;01mfor\u001b[39;00m file \u001b[38;5;129;01min\u001b[39;00m \u001b[43mos\u001b[49m\u001b[38;5;241m.\u001b[39mlistdir(images_dir):\n\u001b[1;32m      6\u001b[0m     proper_filename\u001b[38;5;241m=\u001b[39mos\u001b[38;5;241m.\u001b[39mfsdecode(file)\n\u001b[1;32m      7\u001b[0m     image_path \u001b[38;5;241m=\u001b[39m os\u001b[38;5;241m.\u001b[39mpath\u001b[38;5;241m.\u001b[39mjoin(images_dir,proper_filename)\n",
      "\u001b[0;31mNameError\u001b[0m: name 'os' is not defined"
     ]
    }
   ],
   "source": [
    "# images_lib_dir = \"/cxldata/projects/lookalikeceleb/images/\"\n",
    "\n",
    "images_lib_dir = \"/celebimages/\"\n",
    "\n",
    "lib_images_encodings, lib_images_names = load_images(images_lib_dir)\n",
    "\n",
    "my_image = \"../myimages/myimage.jpg\"\n",
    "result = get_closest_image(lib_images_encodings,lib_images_names,my_image)\n",
    "print(result)"
   ]
  },
  {
   "cell_type": "code",
   "execution_count": null,
   "id": "15d42f1a-0943-47b6-9d50-3458fc79c528",
   "metadata": {},
   "outputs": [],
   "source": []
  }
 ],
 "metadata": {
  "kernelspec": {
   "display_name": "Python 3 (ipykernel)",
   "language": "python",
   "name": "python3"
  },
  "language_info": {
   "codemirror_mode": {
    "name": "ipython",
    "version": 3
   },
   "file_extension": ".py",
   "mimetype": "text/x-python",
   "name": "python",
   "nbconvert_exporter": "python",
   "pygments_lexer": "ipython3",
   "version": "3.12.3"
  }
 },
 "nbformat": 4,
 "nbformat_minor": 5
}
