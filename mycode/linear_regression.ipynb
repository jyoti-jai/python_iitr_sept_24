{
 "cells": [
  {
   "cell_type": "code",
   "execution_count": 16,
   "id": "e3f5aedc-9e1e-4d18-824e-fd9b3f6e8e25",
   "metadata": {},
   "outputs": [],
   "source": [
    "def findtotalerror(m,c,x_data,y_data):\n",
    "    y_pred=[m * x + c for x in x_data]\n",
    "    errorsquared=[(y_data[i] - y_pred[i]) **2 for i in range(len(y_data))]\n",
    "    return (sum(errorsquared))\n",
    "\n",
    "def findleasterror(m_values,c_values,x_data,y_data):\n",
    "    # print(\"Calculating best error for:\",m_array,c_array)\n",
    "    leasterror = float('inf')\n",
    "    result=None\n",
    "    for m in m_values:\n",
    "        for c in c_values:\n",
    "            totalerror = findtotalerror(m,c,x_data,y_data)\n",
    "            if (totalerror < leasterror):\n",
    "                leasterror = totalerror\n",
    "                result = (totalerror,m,c)\n",
    "    # print(\"Returning best error as:\",result)\n",
    "    return result\n",
    "\n",
    "def findnextvalues(resultval,leftval,rightval, direction):\n",
    "    if (resultval == leftval):\n",
    "        if (direction==-1):\n",
    "            leftval, rightval = 2 * leftval - rightval, leftval\n",
    "        else:\n",
    "            rightval = (leftval + rightval)/2\n",
    "    else:\n",
    "        if (direction==-1):\n",
    "            leftval = (leftval + rightval)/2\n",
    "        else:\n",
    "            leftval, rightval = rightval, 2*rightval - leftval\n",
    "    return (leftval, rightval)\n",
    "    \n",
    "    \n",
    "def findbestprediction(x_datapoints, y_datapoints,num_iterations):\n",
    "    leftm=-100\n",
    "    rightm=100\n",
    "    leftc=-100\n",
    "    rightc=100\n",
    "    bestresult=None\n",
    "    change = .000001\n",
    "    c_count = 0\n",
    "    m_count = 0\n",
    "    \n",
    "    for i in range(num_iterations):\n",
    "         \n",
    "        bestresult = findleasterror([leftm,rightm],[leftc,rightc],x_datapoints,y_datapoints)\n",
    "        error,m,c = bestresult\n",
    "       \n",
    "        l_m= m - change\n",
    "        r_m= m + change\n",
    "        result = findleasterror([l_m,r_m],[c],x_datapoints,y_datapoints)\n",
    "        m_direction = -1 if result[1] == l_m  else 1\n",
    "        if (m_direction == -1):\n",
    "            m_count+=1\n",
    "        \n",
    "        l_c= c - change\n",
    "        r_c= c + change\n",
    "        result = findleasterror([m],[l_c,r_c],x_datapoints,y_datapoints)\n",
    "        c_direction = -1 if result[2] == l_c  else 1\n",
    "\n",
    "        if (c_direction == -1):\n",
    "            c_count+=1\n",
    "       \n",
    "\n",
    "        leftm, rightm = findnextvalues(m,leftm,rightm, m_direction)\n",
    "        leftc, rightc = findnextvalues(c,leftc,rightc, c_direction)\n",
    "\n",
    "        if (abs(rightm - leftm) < change  and abs(rightc - leftc) < change ):\n",
    "            break\n",
    "        # print(f\"leftm:{leftm}, rightm:{rightm}, leftc:{leftc}, rightc:{rightc}\")\n",
    "                \n",
    "        # print(f\"{i+1}.Result after this iteration:{bestresult}\")\n",
    "    print(m_count,c_count)\n",
    "    return bestresult"
   ]
  },
  {
   "cell_type": "code",
   "execution_count": 17,
   "id": "1b1b7abd-0139-428a-9d65-cefea86a9cc3",
   "metadata": {},
   "outputs": [
    {
     "name": "stdout",
     "output_type": "stream",
     "text": [
      "12 9986\n",
      "Result with 10000 iterations : (38.9876364952579, 0.7246494293212891, 5.896949768066406)\n"
     ]
    }
   ],
   "source": [
    "# x= [1, 2, 3]\n",
    "# y= [2, 3, 5]\n",
    "x= [10, 11, 12,9]\n",
    "y= [13, 14, 19,8]\n",
    "num_iterations = 10000\n",
    "\n",
    "r = findbestprediction(x,y,num_iterations)\n",
    "print(f\"Result with {num_iterations} iterations : {r}\")"
   ]
  },
  {
   "cell_type": "code",
   "execution_count": null,
   "id": "bafaa1ea-621f-427d-8d8d-8312fe74e5b5",
   "metadata": {},
   "outputs": [],
   "source": []
  }
 ],
 "metadata": {
  "kernelspec": {
   "display_name": "Python 3 (ipykernel)",
   "language": "python",
   "name": "python3"
  },
  "language_info": {
   "codemirror_mode": {
    "name": "ipython",
    "version": 3
   },
   "file_extension": ".py",
   "mimetype": "text/x-python",
   "name": "python",
   "nbconvert_exporter": "python",
   "pygments_lexer": "ipython3",
   "version": "3.12.3"
  }
 },
 "nbformat": 4,
 "nbformat_minor": 5
}
