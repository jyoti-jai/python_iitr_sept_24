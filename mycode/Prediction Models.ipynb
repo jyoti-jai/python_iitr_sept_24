{
 "cells": [
  {
   "cell_type": "markdown",
   "id": "46f1fa96-5b24-4e7a-af99-384e0fb82f3c",
   "metadata": {},
   "source": [
    "1. Solve a two variable linear equation such as - y=mx+c.\n",
    "   Train the model with the following values of x, y-\n",
    "   6= 3m + c\n",
    "   8= 5m + c\n",
    "   and Predict the value of y for x=10"
   ]
  },
  {
   "cell_type": "code",
   "execution_count": 2,
   "id": "3103c1c5-6d94-4bee-910c-a7c6aa4fd0e3",
   "metadata": {},
   "outputs": [],
   "source": [
    "import numpy as np\n",
    "y=[6,8]\n",
    "x=[3,5]\n",
    "\n",
    "m=(y[1]-y[0])/(x[1]-x[0])\n",
    "c=y[1]-m*x[1]\n",
    "\n",
    "model = np.array([m,c])\n",
    "y_pred=model.dot([10,1])"
   ]
  },
  {
   "cell_type": "raw",
   "id": "41a196f3-bb7e-4ff8-981c-aef3ce9b0684",
   "metadata": {},
   "source": [
    "2. Solve a simple three variables linear equation such as y=ax1+bx2+c\n",
    "   a + b + c = 35\n",
    "   3a + 2b + c = 75\n",
    "   4a + 3b + c = 105\n",
    "   so the equations can be written as =\n",
    "      [[1,1,1,35],\n",
    "      [3,2,1,75],\n",
    "      [4,3,1,105]]"
   ]
  },
  {
   "cell_type": "code",
   "execution_count": 45,
   "id": "0b14c2b7-ba65-4a8e-bf8c-132a9f6e3fdb",
   "metadata": {},
   "outputs": [],
   "source": [
    "#eliminate variables top to down\n",
    "def eliminate(E):\n",
    "    for i in range(len(E)):\n",
    "        for j in range(i+1,len(E)):\n",
    "            multiple = E[j][i]/E[i][i]\n",
    "            for k in range(0,len(E[i])):\n",
    "                d=E[i][k]*multiple\n",
    "                E[j][k]-=d\n",
    "    return E\n",
    "\n",
    "#solve eliminated down to up\n",
    "def solve_eliminated(E):\n",
    "    solution = [0 for n in range(len(E))]\n",
    "    k=len(E[0]) - 2 \n",
    "    for i in range (len(E)-1, -1,-1):  \n",
    "        row = E[i] \n",
    "        y=row[-1]\n",
    "        sm=0\n",
    "        for kk in range(k+1, len(row) -1): \n",
    "            sm+=solution[kk]*row[kk] \n",
    "        soln=(y-sm)/row[k] \n",
    "        solution[i]=soln\n",
    "        k-=1\n",
    "    return solution\n",
    "\n",
    "def solve(E):\n",
    "    E = eliminate(E)\n",
    "    return solve_eliminated(E)\n"
   ]
  },
  {
   "cell_type": "code",
   "execution_count": 46,
   "id": "6cbe800d-dd13-48c9-8c0f-679deb399430",
   "metadata": {},
   "outputs": [
    {
     "data": {
      "text/plain": [
       "[10.0, 20.0, 5.0]"
      ]
     },
     "execution_count": 46,
     "metadata": {},
     "output_type": "execute_result"
    }
   ],
   "source": [
    "#testing\n",
    "eqns = [\n",
    "    [1, 1, 1, 35],\n",
    "    [3, 2, 1, 75],\n",
    "    [4, 3, 1, 105]\n",
    "   ]\n",
    "solve(eqns)\n"
   ]
  },
  {
   "cell_type": "markdown",
   "id": "a82d6582-4709-4fcb-8e3b-f931b4585108",
   "metadata": {},
   "source": [
    "3. Solve a quadratic equation such as y=ax+bx**2+c \n",
    "a) for x =1, the equation is a + b + c = 6 \n",
    "b) for x=2, the equation is 4a + 2b + c = 12 \n",
    "b) for x=23, the equation is 9a + 3b + c = 20"
   ]
  },
  {
   "cell_type": "markdown",
   "id": "1a0c8c12-95a8-4f1a-bbfb-cbec3b3f26c7",
   "metadata": {},
   "source": [
    "Exercise:\n",
    "     - Generate the non linear dataset: y = 4*x^2 + 3x - 100 + noise\n",
    "     - Now, model is y = ax ** 2 + bx + c\n",
    "     - Write your error(a, b, c, X, y)\n",
    "     - gradient descent to find a, b, c"
   ]
  },
  {
   "cell_type": "code",
   "execution_count": 191,
   "id": "1df9aeff-03ab-466f-8afe-71ae6817efa3",
   "metadata": {},
   "outputs": [
    {
     "name": "stdout",
     "output_type": "stream",
     "text": [
      "[[2]\n",
      " [0]\n",
      " [3]\n",
      " [1]\n",
      " [4]] [[-77.58939544]\n",
      " [-99.59663514]\n",
      " [-55.10022218]\n",
      " [-93.15073337]\n",
      " [-23.72766419]]\n"
     ]
    }
   ],
   "source": [
    "import numpy as np\n",
    "X=np.random.choice(range(5), size=(5, 1), replace=False)\n",
    "Y = 4*(X**2) + 3*X - 100 +.3*np.random.randn(5, 1)\n",
    "print(X,Y)"
   ]
  },
  {
   "cell_type": "code",
   "execution_count": 277,
   "id": "a5e00562-ef73-432d-ae22-a82403be7c66",
   "metadata": {},
   "outputs": [],
   "source": [
    "def diff_param(fn, param_idx,*args):\n",
    "    delta = 0.000000000001\n",
    "    r1=fn(*args)\n",
    "    args=list(args)\n",
    "    args[param_idx]+=delta\n",
    "    r2=fn(*args)\n",
    "    diff = (r2-r1)/delta\n",
    "    return diff\n",
    "\n",
    "def error(a,b,c,X,Y):\n",
    "    # weights=np.array([a,b,c]\n",
    "    # Xs=[X*X,X,1]\n",
    "    # Y_pred= weights * Xs\n",
    "    Y_pred=a*(X**2) + b*X + c\n",
    "   \n",
    "    e = (Y - Y_pred)**2\n",
    "    return np.sum(e)"
   ]
  },
  {
   "cell_type": "code",
   "execution_count": 287,
   "id": "6dac57ec-117a-44c3-a802-02185b15068c",
   "metadata": {},
   "outputs": [
    {
     "name": "stdout",
     "output_type": "stream",
     "text": [
      "Last Error: 9.612756281200841 with weights: [ 4.30802688  2.41124016 -9.80603592]\n"
     ]
    }
   ],
   "source": [
    "X=2*np.random.random((100, 1))\n",
    "Y = 4*(X**2) + 3*X - 10 +.3*np.random.randn(100, 1)\n",
    "\n",
    "\n",
    "a,b,c=10,10,10\n",
    "As=[]\n",
    "Bs=[]\n",
    "Cs=[]\n",
    "\n",
    "errors = []\n",
    "lr=.001\n",
    "# print(a,b,c)\n",
    "\n",
    "# print(f\"weights: {weights}\")\n",
    "for i in range(1000):\n",
    "    weights=np.array([a,b,c])\n",
    "    args=[a,b,c,X,Y]\n",
    "    new_error = error(*args)\n",
    "    errors.append(new_error)\n",
    "    As.append(a)\n",
    "    Bs.append(b)\n",
    "    Cs.append(c)\n",
    "    de_da=diff_param(error,0,*args)\n",
    "    de_db=diff_param(error,1,*args)\n",
    "    de_dc=diff_param(error,2,*args)\n",
    "\n",
    "    a-= lr*de_da\n",
    "    b-= lr*de_db\n",
    "    c-= lr*de_dc\n",
    "    \n",
    "print(f\"Last Error: {new_error} with weights: {weights}\")\n",
    "# Error: 256.2535932467451 with weights: [  7.70960812 -14.01299071 -86.76875834]"
   ]
  },
  {
   "cell_type": "code",
   "execution_count": 290,
   "id": "51ef824f-c5f9-49d6-aa2a-81acfd4e4512",
   "metadata": {},
   "outputs": [
    {
     "data": {
      "text/plain": [
       "np.float64(1.9314709572729505)"
      ]
     },
     "execution_count": 290,
     "metadata": {},
     "output_type": "execute_result"
    }
   ],
   "source": [
    "np.max(X)"
   ]
  },
  {
   "cell_type": "code",
   "execution_count": 294,
   "id": "b8631f84-06da-49fa-a59b-9a663a44a933",
   "metadata": {},
   "outputs": [
    {
     "data": {
      "image/png": "[encoded data removed]",
      "text/plain": [
       "<Figure size 1500x400 with 1 Axes>"
      ]
     },
     "metadata": {},
     "output_type": "display_data"
    }
   ],
   "source": [
    "from matplotlib import pyplot as plt\n",
    "\n",
    "plt.figure(figsize=(15,4))\n",
    "plt.scatter(X, Y)\n",
    "plt.show()"
   ]
  },
  {
   "cell_type": "code",
   "execution_count": 222,
   "id": "30ecb2ea-c31f-4ed5-a297-09734170b717",
   "metadata": {},
   "outputs": [
    {
     "name": "stdout",
     "output_type": "stream",
     "text": [
      "[2, 4, 5, array([[1],\n",
      "       [2],\n",
      "       [3]]), array([[ 6],\n",
      "       [ 9],\n",
      "       [10]])]\n",
      "[556.15601013] [207.93322619] [84.12825991]\n",
      "[429.79309001] [161.09424905] [65.48361853]\n"
     ]
    }
   ],
   "source": [
    "x=np.array([[1],[2],[3]])\n",
    "y=np.array([[6],[9],[10]])\n",
    "a,b,c=2,4,5\n",
    "args=[a,b,c,x,y]\n",
    "print(args)\n",
    "de_da=diff_param(error,0,*args)\n",
    "de_db=diff_param(error,1,*args)\n",
    "de_dc=diff_param(error,2,*args)\n",
    "print(de_da,de_db,de_dc)\n",
    "lr=.001\n",
    "a-= lr*de_da\n",
    "b-= lr*de_db\n",
    "c-= lr*de_dc\n",
    "args=[a,b,c,x,y]\n",
    "de_da=diff_param(error,0,*args)\n",
    "de_db=diff_param(error,1,*args)\n",
    "de_dc=diff_param(error,2,*args)\n",
    "print(de_da,de_db,de_dc)"
   ]
  },
  {
   "cell_type": "code",
   "execution_count": 300,
   "id": "e261667d-0f71-471c-b51a-484b8f5b583d",
   "metadata": {},
   "outputs": [
    {
     "name": "stdout",
     "output_type": "stream",
     "text": [
      "[27 38 51]\n",
      "_____________\n"
     ]
    }
   ],
   "source": [
    "x = np.array([4,5,6])\n",
    "y = np.array([7,8, 9])\n",
    "a, b, c = 1,2,3\n",
    "args=[a,b,c,x,y]\n",
    "Y_pred=a*(x**2) + b*x + c\n",
    "e = (y - Y_pred)**2\n",
    "print(Y_pred)\n",
    "# print(e)\n",
    "# r=np.sum(e)\n",
    "# print(r)\n",
    "print(\"_____________\")\n",
    "# weights=np.array([[a],[b],[c]])\n",
    "# Xs=[x*x,x,np.ones_like(x)]\n",
    "# print(Xs)\n",
    "# print(weights)\n",
    "#     # Y_pred=a*(X**2) + b*X + c\n",
    "# Y_pred= weights * Xs\n",
    "# # e = (y - Y_pred)**2\n",
    "# print(Y_pred)\n",
    "# # print(e)\n",
    "# # r=np.sum(e)\n",
    "# # print(r)"
   ]
  },
  {
   "cell_type": "code",
   "execution_count": 247,
   "id": "a947dbbb-93e5-4864-bd1c-9f7e52d084f6",
   "metadata": {},
   "outputs": [
    {
     "name": "stdout",
     "output_type": "stream",
     "text": [
      "794\n"
     ]
    }
   ],
   "source": [
    "x=np.array([[1],[2],[3]])\n",
    "y=np.array([[6],[9],[10]])\n",
    "a,b,c=2,4,5\n",
    "args=[a,b,c,x,y]\n",
    "r=error(*args)\n",
    "print(r)"
   ]
  },
  {
   "cell_type": "code",
   "execution_count": 227,
   "id": "025ded43-77c5-4fc0-94e9-05829ca451d9",
   "metadata": {},
   "outputs": [],
   "source": [
    "v=np.array([1,2,3])\n",
    "Vs=[v*v, v, 1]"
   ]
  },
  {
   "cell_type": "code",
   "execution_count": 225,
   "id": "809c81dc-ca6f-4095-b070-c70aa86fa22f",
   "metadata": {},
   "outputs": [
    {
     "data": {
      "text/plain": [
       "[array([1, 4, 9]), array([1, 2, 3]), 1]"
      ]
     },
     "execution_count": 225,
     "metadata": {},
     "output_type": "execute_result"
    }
   ],
   "source": [
    "Vs"
   ]
  },
  {
   "cell_type": "code",
   "execution_count": 183,
   "id": "5f7afa2f-426a-48ab-aac4-a22eda2a090a",
   "metadata": {},
   "outputs": [],
   "source": [
    "a,b,c=2,4,5"
   ]
  },
  {
   "cell_type": "code",
   "execution_count": 257,
   "id": "2cdfb4c1-0da2-4cb9-b0df-fd51803808e0",
   "metadata": {},
   "outputs": [
    {
     "name": "stdout",
     "output_type": "stream",
     "text": [
      "[array([1, 4, 9]), array([1, 2, 3]), 1]\n",
      "[2 4 5]\n"
     ]
    },
    {
     "ename": "ValueError",
     "evalue": "setting an array element with a sequence. The requested array has an inhomogeneous shape after 1 dimensions. The detected shape was (3,) + inhomogeneous part.",
     "output_type": "error",
     "traceback": [
      "\u001b[0;31m---------------------------------------------------------------------------\u001b[0m",
      "\u001b[0;31mValueError\u001b[0m                                Traceback (most recent call last)",
      "Cell \u001b[0;32mIn[257], line 8\u001b[0m\n\u001b[1;32m      6\u001b[0m \u001b[38;5;28mprint\u001b[39m(Xs)\n\u001b[1;32m      7\u001b[0m \u001b[38;5;28mprint\u001b[39m(weights)\n\u001b[0;32m----> 8\u001b[0m r\u001b[38;5;241m=\u001b[39m\u001b[43mweights\u001b[49m\u001b[38;5;241;43m*\u001b[39;49m\u001b[43mXs\u001b[49m\n",
      "\u001b[0;31mValueError\u001b[0m: setting an array element with a sequence. The requested array has an inhomogeneous shape after 1 dimensions. The detected shape was (3,) + inhomogeneous part."
     ]
    }
   ],
   "source": [
    "x=np.array([1,2,3])\n",
    "y=np.array([6,9,10])\n",
    "a,b,c=2,4,5\n",
    "weights=np.array([a,b,c])\n",
    "Xs=[x*x,x,1]\n",
    "print(Xs)\n",
    "print(weights)\n",
    "r=weights*Xs"
   ]
  },
  {
   "cell_type": "code",
   "execution_count": 301,
   "id": "7880dcf7-4cde-4bcc-b0b3-0c740e056063",
   "metadata": {},
   "outputs": [
    {
     "name": "stdout",
     "output_type": "stream",
     "text": [
      "ws:[1 2 3]\n",
      "X:[[16 25 36]\n",
      " [ 4  5  6]\n",
      " [ 1  1  1]]\n",
      "ypred:[27 38 51]\n"
     ]
    }
   ],
   "source": [
    "x = np.array([4,5,6])\n",
    "y = np.array([7,8, 9])\n",
    "a, b, c = 1,2,3\n",
    "ws = np.array([a, b, c])\n",
    "X = np.array([x*x, x, np.ones_like(x)])\n",
    "print(f\"ws:{ws}\")\n",
    "print(f\"X:{X}\")\n",
    "ypred = ws@X\n",
    "print(f\"ypred:{ypred}\")"
   ]
  },
  {
   "cell_type": "code",
   "execution_count": 187,
   "id": "72b5b787-196f-4679-b506-16ffe1a0aa11",
   "metadata": {},
   "outputs": [
    {
     "data": {
      "text/plain": [
       "(3,)"
      ]
     },
     "execution_count": 187,
     "metadata": {},
     "output_type": "execute_result"
    }
   ],
   "source": [
    "X.shape"
   ]
  },
  {
   "cell_type": "code",
   "execution_count": 188,
   "id": "ba2318f1-9800-4780-84c1-f10dcb7abb9a",
   "metadata": {},
   "outputs": [],
   "source": [
    "l=X*X"
   ]
  },
  {
   "cell_type": "code",
   "execution_count": 189,
   "id": "2c1fd39a-7714-4a75-b912-b5c63015957a",
   "metadata": {},
   "outputs": [
    {
     "data": {
      "text/plain": [
       "(3,)"
      ]
     },
     "execution_count": 189,
     "metadata": {},
     "output_type": "execute_result"
    }
   ],
   "source": [
    "l.shape"
   ]
  },
  {
   "cell_type": "code",
   "execution_count": null,
   "id": "fa6495fc-ea39-46ca-b0fb-8800cb576285",
   "metadata": {},
   "outputs": [],
   "source": []
  }
 ],
 "metadata": {
  "kernelspec": {
   "display_name": "Python 3 (ipykernel)",
   "language": "python",
   "name": "python3"
  },
  "language_info": {
   "codemirror_mode": {
    "name": "ipython",
    "version": 3
   },
   "file_extension": ".py",
   "mimetype": "text/x-python",
   "name": "python",
   "nbconvert_exporter": "python",
   "pygments_lexer": "ipython3",
   "version": "3.12.3"
  }
 },
 "nbformat": 4,
 "nbformat_minor": 5
}
