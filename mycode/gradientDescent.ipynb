{
 "cells": [
  {
   "cell_type": "code",
   "execution_count": null,
   "id": "50ff93eb",
   "metadata": {},
   "outputs": [],
   "source": [
    "import numpy as np\n",
    "\n",
    "def differential(fn, input):\n",
    "    delta = 0.000001\n",
    "    output1 = fn(input)\n",
    "    output2 = fn(input+delta)\n",
    "    d = (output2 - output1) / delta\n",
    "\n",
    "def MSE_lossfunction(y_actual, y_pred):\n",
    "    error = np.sqrt(y_pred - y_actual) ** 2\n"
   ]
  },
  {
   "cell_type": "code",
   "execution_count": null,
   "id": "d57d2503",
   "metadata": {},
   "outputs": [],
   "source": [
    "class LinearRegressionGD:\n",
    "    def __self__(self,learning_rate, number_iterations, loss_function):\n",
    "        self.learning_rate=learning_rate\n",
    "        self.number_iterations= number_iterations\n",
    "        self.loss_function = loss_function\n",
    "    def fit(self, X, y):\n",
    "        X= np.array(X)\n",
    "        y= np.array(y)\n",
    "        for n in self.number_iterations:\n",
    "\n",
    "\n"
   ]
  }
 ],
 "metadata": {
  "kernelspec": {
   "display_name": "Python (cw_env)",
   "language": "python",
   "name": "cw_env"
  },
  "language_info": {
   "codemirror_mode": {
    "name": "ipython",
    "version": 3
   },
   "file_extension": ".py",
   "mimetype": "text/x-python",
   "name": "python",
   "nbconvert_exporter": "python",
   "pygments_lexer": "ipython3",
   "version": "3.12.3"
  }
 },
 "nbformat": 4,
 "nbformat_minor": 5
}
