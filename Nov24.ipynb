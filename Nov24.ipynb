{
 "cells": [
  {
   "cell_type": "code",
   "execution_count": 12,
   "metadata": {},
   "outputs": [],
   "source": [
    "class Node:\n",
    "    def __init__(self, val):\n",
    "        self.val = val\n",
    "        self.left = None\n",
    "        self.right = None\n",
    "    def show(self, tab=\"\"):\n",
    "        print(tab, self.val)\n",
    "        if self.left:\n",
    "            self.left.show(\"\\t\" + tab)\n",
    "        if self.right:\n",
    "            self.right.show(\"\\t\" + tab)\n",
    "    def sum(self):\n",
    "        tl = self.val\n",
    "        if self.left:\n",
    "            tl += self.left.sum()\n",
    "        if self.right:\n",
    "            tl += self.right.sum()\n",
    "        return tl\n",
    "    def mymin(self):\n",
    "        _min = self.val\n",
    "        if self.left:\n",
    "            lmin = self.left.mymin()\n",
    "            _min = min(_min, lmin)\n",
    "        if self.right:\n",
    "            lmin = self.right.mymin()\n",
    "            _min = min(_min, lmin)\n",
    "        return _min\n",
    "    def mymax(self):\n",
    "        pass # Q: IMplement THIS!"
   ]
  },
  {
   "cell_type": "code",
   "execution_count": 10,
   "metadata": {},
   "outputs": [],
   "source": [
    "n11 = Node(10)\n",
    "n12 = Node(13)\n",
    "n1 = Node(67)\n",
    "n2 = Node(900)\n",
    "n = Node(1000)\n",
    "n.left = n1\n",
    "n.right = n2\n",
    "\n",
    "n1.left = n11\n",
    "n1.right = n12"
   ]
  },
  {
   "cell_type": "code",
   "execution_count": 8,
   "metadata": {},
   "outputs": [
    {
     "data": {
      "text/plain": [
       "1990"
      ]
     },
     "execution_count": 8,
     "metadata": {},
     "output_type": "execute_result"
    }
   ],
   "source": [
    "n.sum()\n"
   ]
  },
  {
   "cell_type": "code",
   "execution_count": 11,
   "metadata": {},
   "outputs": [
    {
     "data": {
      "text/plain": [
       "10"
      ]
     },
     "execution_count": 11,
     "metadata": {},
     "output_type": "execute_result"
    }
   ],
   "source": [
    "n.mymin()"
   ]
  },
  {
   "cell_type": "code",
   "execution_count": 20,
   "metadata": {},
   "outputs": [],
   "source": [
    "class DB:\n",
    "    def __init__(self):\n",
    "        self.d = {}\n",
    "    def insert(self, val):\n",
    "        pass\n",
    "    def find(self, val):\n",
    "        pass"
   ]
  },
  {
   "cell_type": "code",
   "execution_count": 23,
   "metadata": {},
   "outputs": [],
   "source": [
    "database = DB()\n",
    "database.insert(10)\n",
    "database.find(10) # TRUE\n",
    "database.insert(20)"
   ]
  },
  {
   "cell_type": "code",
   "execution_count": 22,
   "metadata": {},
   "outputs": [
    {
     "data": {
      "text/plain": [
       "{}"
      ]
     },
     "execution_count": 22,
     "metadata": {},
     "output_type": "execute_result"
    }
   ],
   "source": [
    "database.d"
   ]
  },
  {
   "cell_type": "code",
   "execution_count": 24,
   "metadata": {},
   "outputs": [],
   "source": [
    "# How to achieve this?"
   ]
  },
  {
   "cell_type": "markdown",
   "metadata": {},
   "source": [
    "# A1: \n",
    "    create an array.\n",
    "    in insert, we would append to this array.\n",
    "    in find, we will go and search for the element"
   ]
  },
  {
   "cell_type": "code",
   "execution_count": 25,
   "metadata": {},
   "outputs": [],
   "source": [
    "class DB_Arraybased:\n",
    "    def __init__(self):\n",
    "        self.data = []\n",
    "    def insert(self, val):\n",
    "        self.data.append(val)\n",
    "    def find(self, val):\n",
    "        for v in self.data:\n",
    "            if v == val:\n",
    "                return True\n",
    "        return False"
   ]
  },
  {
   "cell_type": "code",
   "execution_count": 26,
   "metadata": {},
   "outputs": [],
   "source": [
    "database = DB_Arraybased()\n",
    "database.insert(10)\n",
    "database.find(10) # TRUE\n",
    "database.insert(20)"
   ]
  },
  {
   "cell_type": "code",
   "execution_count": 27,
   "metadata": {},
   "outputs": [
    {
     "data": {
      "text/plain": [
       "True"
      ]
     },
     "execution_count": 27,
     "metadata": {},
     "output_type": "execute_result"
    }
   ],
   "source": [
    "database.find(10)"
   ]
  },
  {
   "cell_type": "code",
   "execution_count": 28,
   "metadata": {},
   "outputs": [
    {
     "data": {
      "text/plain": [
       "True"
      ]
     },
     "execution_count": 28,
     "metadata": {},
     "output_type": "execute_result"
    }
   ],
   "source": [
    "database.find(20)"
   ]
  },
  {
   "cell_type": "code",
   "execution_count": 29,
   "metadata": {},
   "outputs": [
    {
     "data": {
      "text/plain": [
       "False"
      ]
     },
     "execution_count": 29,
     "metadata": {},
     "output_type": "execute_result"
    }
   ],
   "source": [
    "database.find(30)"
   ]
  },
  {
   "cell_type": "markdown",
   "metadata": {},
   "source": [
    "Complexity of Insert: O(1)\n",
    "\n",
    "Complexity of Find: O(n)"
   ]
  },
  {
   "cell_type": "markdown",
   "metadata": {},
   "source": [
    "# A2"
   ]
  },
  {
   "cell_type": "markdown",
   "metadata": {},
   "source": [
    "If we have asorted array. \n",
    "- Insert, you need to sort. O(n log n)\n",
    "- Finding in a sorted list is O(log n)\n"
   ]
  },
  {
   "cell_type": "markdown",
   "metadata": {},
   "source": [
    "# A3\n",
    "\n",
    "- Use a dictionary\n",
    "- insert O(1)\n",
    "- find O(1)\n",
    "\n",
    "Memory consumption is too high."
   ]
  },
  {
   "cell_type": "markdown",
   "metadata": {},
   "source": [
    "# A4:\n",
    "\n",
    "Build a binary search tree"
   ]
  },
  {
   "cell_type": "markdown",
   "metadata": {},
   "source": [
    "# Binary Search Tree"
   ]
  },
  {
   "cell_type": "code",
   "execution_count": 55,
   "metadata": {},
   "outputs": [],
   "source": [
    "class Node:\n",
    "    def __init__(self, val):\n",
    "        self.val = val\n",
    "        self.left = None\n",
    "        self.right = None\n",
    "    def insert(self, node):\n",
    "        if node.val < self.val:\n",
    "            if self.left:\n",
    "                self.left.insert(node)\n",
    "            else:\n",
    "                self.left = node\n",
    "        else:\n",
    "            if self.right:\n",
    "                self.right.insert(node)\n",
    "            else:\n",
    "                self.right = node\n",
    "    def find(self, val):\n",
    "        print(\"..\")\n",
    "        if val == self.val:\n",
    "            return self\n",
    "        elif val < self.val:\n",
    "            if self.left:\n",
    "                return self.left.find(val)\n",
    "            else:\n",
    "                return None\n",
    "        else:\n",
    "            if self.right:\n",
    "                return self.right.find(val)\n",
    "            else:\n",
    "                return None\n",
    "    def show(self, tab=\"\"):\n",
    "        print(tab, self.val)\n",
    "        if self.left:\n",
    "            self.left.show(\"\\t\" + tab)\n",
    "        if self.right:\n",
    "            self.right.show(\"\\t\" + tab)\n",
    "    def __repr__(self):\n",
    "        return f\"[{self.val}]\""
   ]
  },
  {
   "cell_type": "code",
   "execution_count": 56,
   "metadata": {},
   "outputs": [],
   "source": [
    "class BST:\n",
    "    def __init__(self):\n",
    "        self.root = None\n",
    "    def insert(self, val):\n",
    "        node = Node(val)\n",
    "        if self.root:\n",
    "            self.root.insert(node)\n",
    "        else:\n",
    "            self.root = node"
   ]
  },
  {
   "cell_type": "code",
   "execution_count": 57,
   "metadata": {},
   "outputs": [
    {
     "name": "stdout",
     "output_type": "stream",
     "text": [
      "Inserted:  50\n",
      " 50\n",
      "Inserted:  10\n",
      " 50\n",
      "\t 10\n",
      "Inserted:  34\n",
      " 50\n",
      "\t 10\n",
      "\t\t 34\n",
      "Inserted:  56\n",
      " 50\n",
      "\t 10\n",
      "\t\t 34\n",
      "\t 56\n",
      "Inserted:  -89\n",
      " 50\n",
      "\t 10\n",
      "\t\t -89\n",
      "\t\t 34\n",
      "\t 56\n",
      "Inserted:  100\n",
      " 50\n",
      "\t 10\n",
      "\t\t -89\n",
      "\t\t 34\n",
      "\t 56\n",
      "\t\t 100\n"
     ]
    }
   ],
   "source": [
    "bst =  BST()\n",
    "for i in [50, 10, 34, 56, -89, 100]:\n",
    "    bst.insert(i)\n",
    "    print(\"Inserted: \", i)\n",
    "    bst.root.show()"
   ]
  },
  {
   "cell_type": "code",
   "execution_count": 58,
   "metadata": {},
   "outputs": [
    {
     "name": "stdout",
     "output_type": "stream",
     "text": [
      "..\n",
      "..\n",
      "..\n"
     ]
    },
    {
     "data": {
      "text/plain": [
       "[-89]"
      ]
     },
     "execution_count": 58,
     "metadata": {},
     "output_type": "execute_result"
    }
   ],
   "source": [
    "bst.root.find(-89)"
   ]
  },
  {
   "cell_type": "code",
   "execution_count": 59,
   "metadata": {},
   "outputs": [
    {
     "name": "stdout",
     "output_type": "stream",
     "text": [
      "..\n",
      "..\n",
      "..\n"
     ]
    }
   ],
   "source": [
    "bst.root.find(89)"
   ]
  },
  {
   "cell_type": "code",
   "execution_count": 60,
   "metadata": {},
   "outputs": [],
   "source": [
    "# Q: Implement Delete in BST"
   ]
  },
  {
   "cell_type": "code",
   "execution_count": 61,
   "metadata": {},
   "outputs": [
    {
     "name": "stdout",
     "output_type": "stream",
     "text": [
      "50.0\n"
     ]
    }
   ],
   "source": [
    "left = 0\n",
    "right = 100\n",
    "guess = (left+right)/2\n",
    "print(guess)"
   ]
  },
  {
   "cell_type": "code",
   "execution_count": 62,
   "metadata": {},
   "outputs": [],
   "source": [
    "# my guess is bigger"
   ]
  },
  {
   "cell_type": "code",
   "execution_count": 63,
   "metadata": {},
   "outputs": [
    {
     "name": "stdout",
     "output_type": "stream",
     "text": [
      "25.0\n"
     ]
    }
   ],
   "source": [
    "left = 0\n",
    "right = 50\n",
    "guess = (left+right)/2\n",
    "print(guess)"
   ]
  },
  {
   "cell_type": "code",
   "execution_count": null,
   "metadata": {},
   "outputs": [],
   "source": [
    "# is 25 bigger or smaller"
   ]
  },
  {
   "cell_type": "code",
   "execution_count": 66,
   "metadata": {},
   "outputs": [
    {
     "name": "stdout",
     "output_type": "stream",
     "text": [
      "37\n"
     ]
    }
   ],
   "source": [
    "left = 25\n",
    "right = 50\n",
    "guess = (left+right)//2\n",
    "print(guess)"
   ]
  },
  {
   "cell_type": "code",
   "execution_count": null,
   "metadata": {},
   "outputs": [],
   "source": [
    "37 is biggger"
   ]
  },
  {
   "cell_type": "code",
   "execution_count": 67,
   "metadata": {},
   "outputs": [
    {
     "name": "stdout",
     "output_type": "stream",
     "text": [
      "31\n"
     ]
    }
   ],
   "source": [
    "left = 25\n",
    "right = 37\n",
    "guess = (left+right)//2\n",
    "print(guess)"
   ]
  },
  {
   "cell_type": "code",
   "execution_count": 68,
   "metadata": {},
   "outputs": [],
   "source": [
    "# Binary Search"
   ]
  },
  {
   "cell_type": "code",
   "execution_count": 89,
   "metadata": {},
   "outputs": [
    {
     "name": "stdout",
     "output_type": "stream",
     "text": [
      "Guess:  4.472198486328125\n",
      "Square:  20.000559301115572\n"
     ]
    }
   ],
   "source": [
    "# Find the square root of 20\n",
    "left = 4.4720458984375\n",
    "right = 4.47235107421875\n",
    "guess = (left + right)/2\n",
    "print(\"Guess: \", guess)\n",
    "print(\"Square: \", guess*guess)"
   ]
  },
  {
   "cell_type": "code",
   "execution_count": 91,
   "metadata": {},
   "outputs": [],
   "source": [
    "# Q: Code SQRT using Binary Search, CubeRoot."
   ]
  },
  {
   "cell_type": "code",
   "execution_count": null,
   "metadata": {},
   "outputs": [],
   "source": []
  }
 ],
 "metadata": {
  "kernelspec": {
   "display_name": "Python 3",
   "language": "python",
   "name": "python3"
  },
  "language_info": {
   "codemirror_mode": {
    "name": "ipython",
    "version": 3
   },
   "file_extension": ".py",
   "mimetype": "text/x-python",
   "name": "python",
   "nbconvert_exporter": "python",
   "pygments_lexer": "ipython3",
   "version": "3.6.8"
  },
  "toc": {
   "base_numbering": 1,
   "nav_menu": {},
   "number_sections": true,
   "sideBar": true,
   "skip_h1_title": false,
   "title_cell": "Table of Contents",
   "title_sidebar": "Contents",
   "toc_cell": false,
   "toc_position": {},
   "toc_section_display": true,
   "toc_window_display": false
  }
 },
 "nbformat": 4,
 "nbformat_minor": 2
}
