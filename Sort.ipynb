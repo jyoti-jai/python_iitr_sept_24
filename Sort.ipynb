{
 "cells": [
  {
   "cell_type": "code",
   "execution_count": null,
   "metadata": {},
   "outputs": [],
   "source": [
    "arr = [1, 0, 2, 10, -5, 20]\n",
    "\n"
   ]
  },
  {
   "cell_type": "code",
   "execution_count": 2,
   "metadata": {},
   "outputs": [],
   "source": [
    "arr.sort()"
   ]
  },
  {
   "cell_type": "code",
   "execution_count": 4,
   "metadata": {},
   "outputs": [],
   "source": [
    "arr.sort?"
   ]
  },
  {
   "cell_type": "code",
   "execution_count": 5,
   "metadata": {},
   "outputs": [
    {
     "data": {
      "text/plain": [
       "[20, 10, 3, 2, 1, -5]"
      ]
     },
     "execution_count": 5,
     "metadata": {},
     "output_type": "execute_result"
    }
   ],
   "source": [
    "def keyf(x):\n",
    "    return -x\n",
    "\n",
    "arr.sort(key=keyf)\n",
    "arr"
   ]
  },
  {
   "cell_type": "code",
   "execution_count": 6,
   "metadata": {},
   "outputs": [],
   "source": [
    "arr.sort(key=lambda x: )"
   ]
  },
  {
   "cell_type": "code",
   "execution_count": 7,
   "metadata": {},
   "outputs": [
    {
     "data": {
      "text/plain": [
       "[20, 10, 3, 2, 1, -5]"
      ]
     },
     "execution_count": 7,
     "metadata": {},
     "output_type": "execute_result"
    }
   ],
   "source": [
    "arr"
   ]
  },
  {
   "cell_type": "code",
   "execution_count": 15,
   "metadata": {},
   "outputs": [],
   "source": [
    "import math"
   ]
  },
  {
   "cell_type": "code",
   "execution_count": 11,
   "metadata": {},
   "outputs": [],
   "source": [
    "arr = [(1,2), (3,4), (5,6), (0.5, 10), (-2, -5)]"
   ]
  },
  {
   "cell_type": "code",
   "execution_count": 12,
   "metadata": {},
   "outputs": [],
   "source": [
    "# Q: sort these data point based on their distances from origin"
   ]
  },
  {
   "cell_type": "code",
   "execution_count": 13,
   "metadata": {},
   "outputs": [],
   "source": [
    "def distance_from_origin(t):\n",
    "    x, y = t\n",
    "    dist = math.sqrt(x*x + y*y)\n",
    "    print(f\"{x, y}: {dist}\")\n",
    "    return dist"
   ]
  },
  {
   "cell_type": "code",
   "execution_count": 23,
   "metadata": {},
   "outputs": [
    {
     "name": "stdout",
     "output_type": "stream",
     "text": [
      "(1, 2): 2.23606797749979\n",
      "(3, 4): 5.0\n",
      "(5, 6): 7.810249675906654\n",
      "(0.5, 10): 10.012492197250394\n",
      "(-2, -5): 5.385164807134504\n"
     ]
    },
    {
     "data": {
      "text/plain": [
       "[(1, 2), (3, 4), (-2, -5), (5, 6), (0.5, 10)]"
      ]
     },
     "execution_count": 23,
     "metadata": {},
     "output_type": "execute_result"
    }
   ],
   "source": [
    "arr = [(1,2), (3,4), (5,6), (0.5, 10), (-2, -5)]\n",
    "arr.sort(key=distance_from_origin)\n",
    "arr"
   ]
  },
  {
   "cell_type": "code",
   "execution_count": 24,
   "metadata": {},
   "outputs": [
    {
     "data": {
      "text/plain": [
       "[(-2, -5), (0.5, 10), (1, 2), (3, 4), (5, 6)]"
      ]
     },
     "execution_count": 24,
     "metadata": {},
     "output_type": "execute_result"
    }
   ],
   "source": [
    "arr.sort()\n",
    "arr"
   ]
  },
  {
   "cell_type": "markdown",
   "metadata": {},
   "source": [
    "How would you sort?"
   ]
  },
  {
   "cell_type": "code",
   "execution_count": 26,
   "metadata": {},
   "outputs": [],
   "source": [
    "# Q: Subble Sort"
   ]
  },
  {
   "cell_type": "code",
   "execution_count": null,
   "metadata": {},
   "outputs": [],
   "source": [
    "def sort(arr):\n",
    "    i = 0\n",
    "    while i < len(arr):\n",
    "        j = i + 1\n",
    "        while j < len(arr):\n",
    "            if arr[j] < arr[i]:\n",
    "                tmp = arr[i]\n",
    "                arr[i] = arr[j]\n",
    "                arr[j] = tmp\n",
    "            j += 1\n",
    "        i += 1\n",
    "        break\n",
    "    return arr"
   ]
  },
  {
   "cell_type": "code",
   "execution_count": null,
   "metadata": {},
   "outputs": [],
   "source": [
    "arr = [1, 0, 2, 10, -5, 20]\n",
    "sort(arr)\n",
    "arr"
   ]
  },
  {
   "cell_type": "code",
   "execution_count": null,
   "metadata": {},
   "outputs": [],
   "source": [
    "from random import randint"
   ]
  },
  {
   "cell_type": "code",
   "execution_count": null,
   "metadata": {},
   "outputs": [],
   "source": [
    "# arr1 = [randint(-100, 100) for i in range(100000)]"
   ]
  },
  {
   "cell_type": "code",
   "execution_count": null,
   "metadata": {},
   "outputs": [],
   "source": [
    "# sort(arr1)"
   ]
  },
  {
   "cell_type": "code",
   "execution_count": null,
   "metadata": {},
   "outputs": [],
   "source": [
    "sort(arr)"
   ]
  },
  {
   "cell_type": "code",
   "execution_count": null,
   "metadata": {},
   "outputs": [],
   "source": [
    "arr"
   ]
  },
  {
   "cell_type": "code",
   "execution_count": null,
   "metadata": {},
   "outputs": [],
   "source": [
    "# Q: Use Binary Search Tree to Sort the data"
   ]
  },
  {
   "cell_type": "code",
   "execution_count": null,
   "metadata": {},
   "outputs": [],
   "source": [
    "# https://visualgo.net/en/sorting"
   ]
  },
  {
   "cell_type": "code",
   "execution_count": null,
   "metadata": {},
   "outputs": [],
   "source": [
    "arr = [10, 5, 2, 3, 4, 9, 8, -4, 20, -1]"
   ]
  },
  {
   "cell_type": "code",
   "execution_count": null,
   "metadata": {},
   "outputs": [],
   "source": [
    "class Node:\n",
    "    def __init__(self, val):\n",
    "        self.val = val\n",
    "        self.left = None\n",
    "        self.right = None\n",
    "    def insert(self, node):\n",
    "        if node.val < self.val:\n",
    "            if self.left:\n",
    "                self.left.insert(node)\n",
    "            else:\n",
    "                self.left = node\n",
    "        else:\n",
    "            if self.right:\n",
    "                self.right.insert(node)\n",
    "            else:\n",
    "                self.right = node\n",
    "    def find(self, val):\n",
    "        print(\"..\")\n",
    "        if val == self.val:\n",
    "            return self\n",
    "        elif val < self.val:\n",
    "            if self.left:\n",
    "                return self.left.find(val)\n",
    "            else:\n",
    "                return None\n",
    "        else:\n",
    "            if self.right:\n",
    "                return self.right.find(val)\n",
    "            else:\n",
    "                return None\n",
    "    def print_node(self):\n",
    "        if self.left:\n",
    "            self.left.print_node()\n",
    "        print(self.val)\n",
    "        if self.right:\n",
    "            self.right.print_node()\n",
    "    def show(self, tab=\"\"):\n",
    "        print(tab, self.val)\n",
    "        if self.left:\n",
    "            self.left.show(\"\\t\" + tab)\n",
    "        if self.right:\n",
    "            self.right.show(\"\\t\" + tab)\n",
    "    def __repr__(self):\n",
    "        return f\"[{self.val}]\"\n",
    "    \n",
    "class BST:\n",
    "    def __init__(self):\n",
    "        self.root = None\n",
    "    def insert(self, val):\n",
    "        node = Node(val)\n",
    "        if self.root:\n",
    "            self.root.insert(node)\n",
    "        else:\n",
    "            self.root = node"
   ]
  },
  {
   "cell_type": "code",
   "execution_count": null,
   "metadata": {},
   "outputs": [],
   "source": [
    "randint?"
   ]
  },
  {
   "cell_type": "code",
   "execution_count": null,
   "metadata": {},
   "outputs": [],
   "source": [
    "bst =  BST()\n",
    "# for i in [randint(-100, 100) for _ in range(100000)]:\n",
    "#     bst.insert(i)\n",
    "#     print(\"Inserted: \", i)\n",
    "#     bst.root.show()"
   ]
  },
  {
   "cell_type": "code",
   "execution_count": null,
   "metadata": {},
   "outputs": [],
   "source": [
    "# bst.root.print_node()"
   ]
  },
  {
   "cell_type": "code",
   "execution_count": null,
   "metadata": {},
   "outputs": [],
   "source": [
    "import math"
   ]
  },
  {
   "cell_type": "code",
   "execution_count": null,
   "metadata": {},
   "outputs": [],
   "source": [
    "n = 1000000\n",
    "print(\"N^2: \", n*n)\n",
    "print(\"nlog(n)\", n*math.log2(n))"
   ]
  },
  {
   "cell_type": "code",
   "execution_count": null,
   "metadata": {},
   "outputs": [],
   "source": [
    "# Q: merge two sorted lists \n",
    "list1 = [1, 3, 5]\n",
    "list2 = [2, 4, 6]\n",
    "def merge(list1, list2):\n",
    "    \n",
    "merge(list1, list2)\n",
    "# result: [1, 2, 3, 4, 5, 6]"
   ]
  },
  {
   "cell_type": "code",
   "execution_count": null,
   "metadata": {},
   "outputs": [],
   "source": [
    "list1 = [1, 3, 5]\n",
    "list2 = [1, 1, 3]\n"
   ]
  },
  {
   "cell_type": "markdown",
   "metadata": {},
   "source": [
    "# Observe the algo in this presentation: Slide # 25 - 40\n",
    "\n",
    "https://docs.google.com/presentation/d/1inITFTHfo8py3htFduzs67lZ_YqkEvqnKyAAYHi8xyE/edit?usp=sharing\n",
    "\n",
    "Code the merge algo."
   ]
  },
  {
   "cell_type": "code",
   "execution_count": null,
   "metadata": {},
   "outputs": [],
   "source": [
    "def merge(list1, list2):\n",
    "    i = 0\n",
    "    j = 0\n",
    "    while i < len(list1)"
   ]
  },
  {
   "cell_type": "code",
   "execution_count": null,
   "metadata": {},
   "outputs": [],
   "source": [
    "# Review the quick sort and merge sort animations and learn to code them.\n",
    "\n",
    "# https://visualgo.net/en/sorting"
   ]
  },
  {
   "cell_type": "code",
   "execution_count": 27,
   "metadata": {},
   "outputs": [],
   "source": [
    "# Understanding the tabs:\n",
    "# Q: Convert tabs into spaces\n",
    "# \"\\t2\" -> \"       2\"\n",
    "# \"\\t1218\" -> \"    1218\"\n",
    "#\"\\t123456789\"-> \"       123456789\""
   ]
  },
  {
   "cell_type": "code",
   "execution_count": 34,
   "metadata": {},
   "outputs": [],
   "source": [
    "# Q: Look at the format string in python"
   ]
  },
  {
   "cell_type": "code",
   "execution_count": 44,
   "metadata": {},
   "outputs": [
    {
     "data": {
      "text/plain": [
       "' 12.5'"
      ]
     },
     "execution_count": 44,
     "metadata": {},
     "output_type": "execute_result"
    }
   ],
   "source": [
    "x = 12.4578\n",
    "\"{:5.3}\".format(x)"
   ]
  },
  {
   "cell_type": "code",
   "execution_count": 48,
   "metadata": {},
   "outputs": [
    {
     "data": {
      "text/plain": [
       "3"
      ]
     },
     "execution_count": 48,
     "metadata": {},
     "output_type": "execute_result"
    }
   ],
   "source": [
    "len(\"A\\tB\")"
   ]
  },
  {
   "cell_type": "code",
   "execution_count": 47,
   "metadata": {},
   "outputs": [
    {
     "name": "stdout",
     "output_type": "stream",
     "text": [
      "\tAB\n"
     ]
    }
   ],
   "source": [
    "print(\"A\\tB\")"
   ]
  },
  {
   "cell_type": "code",
   "execution_count": 50,
   "metadata": {},
   "outputs": [
    {
     "name": "stdout",
     "output_type": "stream",
     "text": [
      "A 65\n",
      "\t 9\n",
      "B 66\n"
     ]
    }
   ],
   "source": [
    "s = \"A\\tB\"\n",
    "for i in s:\n",
    "    print(i, ord(i))"
   ]
  },
  {
   "cell_type": "code",
   "execution_count": 56,
   "metadata": {},
   "outputs": [],
   "source": [
    "# Q: \n",
    "# A = [0, 1, 0, 1]....\n",
    "# sort A in time complexity O(n)?"
   ]
  },
  {
   "cell_type": "code",
   "execution_count": null,
   "metadata": {},
   "outputs": [],
   "source": [
    "# Q: \n",
    "# A = [R, G, R, G, R, G]....\n",
    "# sort A without using extra memory in time complexity O(n)?"
   ]
  },
  {
   "cell_type": "code",
   "execution_count": 4,
   "metadata": {},
   "outputs": [],
   "source": [
    "def sort(A):\n",
    "    i, j = 0, len(A) - 1\n",
    "    while i<j:\n",
    "        if A[i] == 0:\n",
    "            i += 1\n",
    "            continue\n",
    "        if A[j] == 1:\n",
    "            j -= 1\n",
    "            continue\n",
    "        A[i], A[j] = A[j], A[i]\n",
    "        i += 1\n",
    "        j -= 1\n",
    "    return A"
   ]
  },
  {
   "cell_type": "code",
   "execution_count": 5,
   "metadata": {},
   "outputs": [
    {
     "name": "stdout",
     "output_type": "stream",
     "text": [
      "[0, 0, 0, 0, 0, 0, 1, 1, 1, 1]\n"
     ]
    }
   ],
   "source": [
    "A = [0,1, 0, 0 , 0 ,1, 1, 1, 0, 0]\n",
    "sort(A)\n",
    "print(A)"
   ]
  },
  {
   "cell_type": "code",
   "execution_count": 7,
   "metadata": {},
   "outputs": [],
   "source": [
    "# dutch flag problem"
   ]
  },
  {
   "cell_type": "code",
   "execution_count": 6,
   "metadata": {},
   "outputs": [
    {
     "name": "stdout",
     "output_type": "stream",
     "text": [
      "[0, 0, 0, 2, 0, 1, 1, 1, 2, 1]\n"
     ]
    }
   ],
   "source": [
    "# Q: O(n) time complexity and O(1) space complexity\n",
    "A = [0,1, 0, 2 , 0 ,1, 1, 1, 2, 0]\n",
    "sort(A)\n",
    "print(A)"
   ]
  },
  {
   "cell_type": "code",
   "execution_count": 8,
   "metadata": {},
   "outputs": [],
   "source": [
    "# Find minimum element of an array"
   ]
  },
  {
   "cell_type": "code",
   "execution_count": 9,
   "metadata": {},
   "outputs": [],
   "source": [
    "# O(n)\n",
    "def mymin(arr):\n",
    "    if len(arr) == 0:\n",
    "        return None\n",
    "    result = arr[0]\n",
    "    for i in range(1, len(arr)):\n",
    "        if arr[i] < result:\n",
    "            result = arr[i]\n",
    "    return result"
   ]
  },
  {
   "cell_type": "code",
   "execution_count": 12,
   "metadata": {},
   "outputs": [
    {
     "data": {
      "text/plain": [
       "-100"
      ]
     },
     "execution_count": 12,
     "metadata": {},
     "output_type": "execute_result"
    }
   ],
   "source": [
    "mymin([1,2,3, -10, 10, -100, -3, 1])"
   ]
  },
  {
   "cell_type": "code",
   "execution_count": null,
   "metadata": {},
   "outputs": [],
   "source": [
    "def min3(arr):\n",
    "    3 * O(n)"
   ]
  },
  {
   "cell_type": "code",
   "execution_count": 14,
   "metadata": {},
   "outputs": [],
   "source": [
    "def mink(arr, k):\n",
    "    # sort the arr - n * log (n)\n",
    "    # or \n",
    "    # call mymin k times - k * n\n",
    "    # minHeap\n",
    "    pass"
   ]
  },
  {
   "cell_type": "code",
   "execution_count": 17,
   "metadata": {},
   "outputs": [],
   "source": [
    "# Q: we have stocks list - [100, 2, 3, 4, 2, 4, 5, 19, 10, 0, 5]\n",
    "# You can one buy and sell once, how much money can you make at max. \n",
    "# Level 2: Solve it in O(n)"
   ]
  },
  {
   "cell_type": "markdown",
   "metadata": {},
   "source": [
    "```\n",
    "Example 1:\n",
    "\n",
    "Input: prices = [7,1,5,3,6,4]\n",
    "Output: 5\n",
    "Explanation: Buy on day 2 (price = 1) and sell on day 5 (price = 6), profit = 6-1 = 5.\n",
    "Note that buying on day 2 and selling on day 1 is not allowed because you must buy before you sell.\n",
    "Example 2:\n",
    "\n",
    "Input: prices = [7,6,4,3,1]\n",
    "Output: 0\n",
    "Explanation: In this case, no transactions are done and the max profit = 0.\n",
    " \n",
    "\n",
    "Constraints:\n",
    "\n",
    "1 <= prices.length <= 105\n",
    "0 <= prices[i] <= 104\n",
    "```"
   ]
  },
  {
   "cell_type": "code",
   "execution_count": 10,
   "metadata": {},
   "outputs": [],
   "source": [
    "# Q: Compute the time complexity of Merge Sort "
   ]
  },
  {
   "cell_type": "code",
   "execution_count": 29,
   "metadata": {},
   "outputs": [],
   "source": [
    "def merge(A, B): # Time O(n+m), Space O(n+m) \n",
    "    C = []\n",
    "    i, j = 0, 0\n",
    "    while i < len(A) and j < len(B):\n",
    "        if A[i] < B[j]:\n",
    "            C.append(A[i])\n",
    "            i += 1\n",
    "        else:\n",
    "            C.append(B[j])\n",
    "            j += 1\n",
    "    R, r = None, 0\n",
    "    if i < len(A):\n",
    "        R = A\n",
    "        r = i\n",
    "    elif j < len(B):\n",
    "        R = B\n",
    "        r = j\n",
    "    C.extend(R[r:])\n",
    "#     while r < len(R):\n",
    "#         C.append(R[r])\n",
    "#         r += 1\n",
    "    return C"
   ]
  },
  {
   "cell_type": "code",
   "execution_count": 28,
   "metadata": {},
   "outputs": [
    {
     "data": {
      "text/plain": [
       "[1, 2, 3, 3, 4, 4, 5, 5, 6]"
      ]
     },
     "execution_count": 28,
     "metadata": {},
     "output_type": "execute_result"
    }
   ],
   "source": [
    "merge([1, 2, 3, 4, 5], [3, 4, 5, 6])"
   ]
  },
  {
   "cell_type": "code",
   "execution_count": 40,
   "metadata": {},
   "outputs": [],
   "source": [
    "def merge_sort(A):\n",
    "    print(\"Sort: \", A)\n",
    "    if len(A) <= 1:\n",
    "        return A\n",
    "    mid = len(A)//2\n",
    "    A1 = A[:mid]\n",
    "    A2 = A[mid:]\n",
    "    print(f\"A1: {A1}\", f\"A2: {A2}\")\n",
    "    A1 = merge_sort(A1)\n",
    "    A2 = merge_sort(A2)\n",
    "    S = merge(A1, A2)\n",
    "    print(f\"Sorted: {S}\")\n",
    "    return S"
   ]
  },
  {
   "cell_type": "code",
   "execution_count": 43,
   "metadata": {},
   "outputs": [
    {
     "name": "stdout",
     "output_type": "stream",
     "text": [
      "Sort:  [2, 1, 3]\n",
      "A1: [2] A2: [1, 3]\n",
      "Sort:  [2]\n",
      "Sort:  [1, 3]\n",
      "A1: [1] A2: [3]\n",
      "Sort:  [1]\n",
      "Sort:  [3]\n",
      "Sorted: [1, 3]\n",
      "Sorted: [1, 2, 3]\n"
     ]
    },
    {
     "data": {
      "text/plain": [
       "[1, 2, 3]"
      ]
     },
     "execution_count": 43,
     "metadata": {},
     "output_type": "execute_result"
    }
   ],
   "source": [
    "merge_sort([2, 1, 3])"
   ]
  },
  {
   "cell_type": "code",
   "execution_count": 35,
   "metadata": {},
   "outputs": [
    {
     "name": "stdout",
     "output_type": "stream",
     "text": [
      "Sort:  [1, 2, 3, 4, 0, -1, 2, 3]\n",
      "Sort:  [1, 2, 3, 4]\n",
      "Sort:  [1, 2]\n",
      "Sort:  [1]\n",
      "Sort:  [2]\n",
      "Sorted: [1, 2]\n",
      "Sort:  [3, 4]\n",
      "Sort:  [3]\n",
      "Sort:  [4]\n",
      "Sorted: [3, 4]\n",
      "Sorted: [1, 2, 3, 4]\n",
      "Sort:  [0, -1, 2, 3]\n",
      "Sort:  [0, -1]\n",
      "Sort:  [0]\n",
      "Sort:  [-1]\n",
      "Sorted: [-1, 0]\n",
      "Sort:  [2, 3]\n",
      "Sort:  [2]\n",
      "Sort:  [3]\n",
      "Sorted: [2, 3]\n",
      "Sorted: [-1, 0, 2, 3]\n",
      "Sorted: [-1, 0, 1, 2, 2, 3, 3, 4]\n"
     ]
    },
    {
     "data": {
      "text/plain": [
       "[-1, 0, 1, 2, 2, 3, 3, 4]"
      ]
     },
     "execution_count": 35,
     "metadata": {},
     "output_type": "execute_result"
    }
   ],
   "source": [
    "merge_sort([1,2,3,4, 0, -1, 2, 3])"
   ]
  },
  {
   "cell_type": "code",
   "execution_count": 44,
   "metadata": {},
   "outputs": [],
   "source": [
    "# Quick Sort"
   ]
  },
  {
   "cell_type": "code",
   "execution_count": null,
   "metadata": {},
   "outputs": [],
   "source": [
    "If we have to sort a big file\n",
    "- dictionary\n",
    "- merge sort\n",
    "    - split into two equal halves and sorted separately and merge them.\n",
    "- quick sort\n",
    "    - All words starting with k and above go to right and all words upto j to left\n",
    "    - sort them individually\n",
    "    - append them."
   ]
  },
  {
   "cell_type": "code",
   "execution_count": 46,
   "metadata": {},
   "outputs": [],
   "source": [
    "def qs(A):\n",
    "    if len(A) <= 1:\n",
    "        return A\n",
    "    p = A[0]\n",
    "    mid = [p]\n",
    "    left = []\n",
    "    right = []\n",
    "    for e in A[1:]:\n",
    "        if e == p:\n",
    "            mid.append(e)\n",
    "        elif e < p:\n",
    "            left.append(e)\n",
    "        else:\n",
    "            right.append(e)\n",
    "    left = qs(left)\n",
    "    right = qs(right)\n",
    "    return left + mid + right"
   ]
  },
  {
   "cell_type": "code",
   "execution_count": 48,
   "metadata": {},
   "outputs": [
    {
     "data": {
      "text/plain": [
       "[-3, -3, 0, 1, 1, 2, 2]"
      ]
     },
     "execution_count": 48,
     "metadata": {},
     "output_type": "execute_result"
    }
   ],
   "source": [
    "qs([1,2,-3,2,1,- 3, 0])"
   ]
  },
  {
   "cell_type": "code",
   "execution_count": 62,
   "metadata": {},
   "outputs": [],
   "source": [
    "def qs1(A):\n",
    "    if len(A) <= 1:\n",
    "        return A\n",
    "    p = A[0]\n",
    "    left = []\n",
    "    right = []\n",
    "    for e in A[1:]:\n",
    "        if e < p:\n",
    "            left.append(e)\n",
    "        else:\n",
    "            right.append(e)\n",
    "    left = qs1(left)\n",
    "    right = qs1(right)\n",
    "    return left + [p] + right"
   ]
  },
  {
   "cell_type": "code",
   "execution_count": 63,
   "metadata": {},
   "outputs": [
    {
     "data": {
      "text/plain": [
       "[1, 2, 3, 3, 4, 5]"
      ]
     },
     "execution_count": 63,
     "metadata": {},
     "output_type": "execute_result"
    }
   ],
   "source": [
    "qs1([3, 4, 1, 2,3, 5])"
   ]
  },
  {
   "cell_type": "code",
   "execution_count": 49,
   "metadata": {},
   "outputs": [],
   "source": [
    "# Q: Implement Quick Sort with extra memory\n",
    "# Q: Implement Quick Sort without extra memory similar to dutch flag problem"
   ]
  },
  {
   "cell_type": "code",
   "execution_count": 50,
   "metadata": {},
   "outputs": [],
   "source": [
    "# Q: Take a look at the animation of heap sort / heap"
   ]
  },
  {
   "cell_type": "code",
   "execution_count": 2,
   "metadata": {
    "scrolled": true
   },
   "outputs": [
    {
     "name": "stdout",
     "output_type": "stream",
     "text": [
      "0 10\n",
      "1 20\n",
      "2 30\n",
      "3 40\n",
      "4 50\n",
      "5 60\n"
     ]
    }
   ],
   "source": [
    "arr = [10, 20, 30, 40, 50, 60]\n",
    "\n",
    "i = 0\n",
    "while i < len(arr):\n",
    "    v = arr[i]\n",
    "    print(i, v)\n",
    "    i += 1"
   ]
  },
  {
   "cell_type": "code",
   "execution_count": 5,
   "metadata": {},
   "outputs": [
    {
     "name": "stdout",
     "output_type": "stream",
     "text": [
      "0 10\n",
      "1 20\n",
      "2 30\n",
      "3 40\n",
      "4 50\n",
      "5 60\n"
     ]
    }
   ],
   "source": [
    "arr = [10, 20, 30, 40, 50, 60]\n",
    "\n",
    "for i, v in enumerate(arr):\n",
    "    print(i, v)"
   ]
  },
  {
   "cell_type": "code",
   "execution_count": 6,
   "metadata": {},
   "outputs": [
    {
     "name": "stdout",
     "output_type": "stream",
     "text": [
      "10 --> NIL\n",
      "20 --> 10\n",
      "30 --> 10\n",
      "40 --> 20\n",
      "50 --> 20\n",
      "60 --> 30\n"
     ]
    }
   ],
   "source": [
    "arr = [10, 20, 30, 40, 50, 60]\n",
    "for i, v in enumerate(arr):\n",
    "    p = (i - 1)//2\n",
    "    if p < 0:\n",
    "        print(f\"{v} --> NIL\")\n",
    "    else:\n",
    "        print(f\"{v} --> {arr[p]}\")"
   ]
  },
  {
   "cell_type": "code",
   "execution_count": 29,
   "metadata": {},
   "outputs": [],
   "source": [
    "class Tree:\n",
    "    def __init__(self, arr):\n",
    "        self.arr = arr\n",
    "    def get_parent(self, i):\n",
    "        idx = (i-1)//2\n",
    "        return idx\n",
    "    def get_children(self, i):\n",
    "        idx = 2*i+1\n",
    "        return idx, idx + 1\n",
    "#         result = []\n",
    "#         if idx <  len(self.arr):\n",
    "#             result.append(self.arr[idx])\n",
    "#             if idx + 1 < len(self.arr):\n",
    "#                 result.append(self.arr[idx+1])\n",
    "#             else:\n",
    "#                 result.append(None)\n",
    "#         else:\n",
    "#             result.append([None, None])\n",
    "#         return result\n",
    "    def insert(self, num):\n",
    "        arr = self.arr\n",
    "        # Put the num at the end\n",
    "        self.arr.append(num)\n",
    "        idx = len(self.arr) - 1\n",
    "        while True:\n",
    "            pidx = self.get_parent(idx)\n",
    "            if pidx < 0:\n",
    "                break\n",
    "            if arr[pidx] > arr[idx]:\n",
    "                arr[idx], arr[pidx] = arr[pidx], arr[idx]\n",
    "            else:\n",
    "                break\n",
    "            idx = pidx\n",
    "            \n",
    "    def elem(self, i):\n",
    "        return self.arr[i]"
   ]
  },
  {
   "cell_type": "code",
   "execution_count": 14,
   "metadata": {},
   "outputs": [],
   "source": [
    "tree = Tree([10, 20, 30, 40, 50, 60])"
   ]
  },
  {
   "cell_type": "code",
   "execution_count": 17,
   "metadata": {},
   "outputs": [
    {
     "name": "stdout",
     "output_type": "stream",
     "text": [
      "Parent of 10 is None\n",
      "children of 10 is [20, 30]\n",
      "Parent of 20 is 10\n",
      "children of 20 is [40, 50]\n",
      "Parent of 30 is 10\n",
      "children of 30 is [60, None]\n",
      "Parent of 40 is 20\n",
      "children of 40 is [[None, None]]\n",
      "Parent of 50 is 20\n",
      "children of 50 is [[None, None]]\n",
      "Parent of 60 is 30\n",
      "children of 60 is [[None, None]]\n"
     ]
    }
   ],
   "source": [
    "for i in range(len(tree.arr)):\n",
    "    p = tree.get_parent(i)\n",
    "    children = tree.get_children(i)\n",
    "    print(f\"Parent of {tree.arr[i]} is {p}\")\n",
    "    print(f\"children of {tree.arr[i]} is {children}\")"
   ]
  },
  {
   "cell_type": "code",
   "execution_count": 28,
   "metadata": {},
   "outputs": [
    {
     "name": "stdout",
     "output_type": "stream",
     "text": [
      "3\n",
      "3\n",
      "3\n",
      "3\n",
      "3\n",
      "3\n",
      "3\n",
      "3\n"
     ]
    }
   ],
   "source": [
    "import math\n",
    "for i in range(7, 15):\n",
    "    print(int(math.log2(i + 1)))"
   ]
  },
  {
   "cell_type": "code",
   "execution_count": 30,
   "metadata": {},
   "outputs": [],
   "source": [
    "tree = Tree([])\n",
    "for i in [10, 4, 5, 8, 9]:\n",
    "    tree.insert(i)"
   ]
  },
  {
   "cell_type": "code",
   "execution_count": 31,
   "metadata": {},
   "outputs": [
    {
     "data": {
      "text/plain": [
       "[4, 8, 5, 10, 9]"
      ]
     },
     "execution_count": 31,
     "metadata": {},
     "output_type": "execute_result"
    }
   ],
   "source": [
    "tree.arr"
   ]
  },
  {
   "cell_type": "code",
   "execution_count": 32,
   "metadata": {},
   "outputs": [],
   "source": [
    "for i in [10, 4, 5, 8, 9]:\n",
    "    tree.insert(i)"
   ]
  },
  {
   "cell_type": "code",
   "execution_count": 33,
   "metadata": {},
   "outputs": [
    {
     "data": {
      "text/plain": [
       "[4, 5, 4, 8, 9, 10, 5, 10, 8, 9]"
      ]
     },
     "execution_count": 33,
     "metadata": {},
     "output_type": "execute_result"
    }
   ],
   "source": [
    "tree.arr"
   ]
  },
  {
   "cell_type": "code",
   "execution_count": 34,
   "metadata": {},
   "outputs": [],
   "source": [
    "tree.insert(-5)"
   ]
  },
  {
   "cell_type": "code",
   "execution_count": 35,
   "metadata": {},
   "outputs": [
    {
     "data": {
      "text/plain": [
       "[-5, 4, 4, 8, 5, 10, 5, 10, 8, 9, 9]"
      ]
     },
     "execution_count": 35,
     "metadata": {},
     "output_type": "execute_result"
    }
   ],
   "source": [
    "tree.arr"
   ]
  },
  {
   "cell_type": "code",
   "execution_count": 37,
   "metadata": {},
   "outputs": [],
   "source": [
    "# TODO: implement delete(i)\n",
    "# Check: https://visualgo.net/en/heap"
   ]
  },
  {
   "cell_type": "code",
   "execution_count": null,
   "metadata": {},
   "outputs": [],
   "source": [
    "# Imagine you have a m(= 100) sorted lists\n",
    "# You have to merge these m (100) sorted lists to product a overall sorted list\n",
    "\n",
    "# m lists\n",
    "# n size\n",
    "# ---\n",
    "\n",
    "# 1. Pick minimium from all lists - m * 1\n",
    "# 2. Repeat this how many times? - m*n\n",
    "#  Order(m*n*m)\n"
   ]
  },
  {
   "cell_type": "markdown",
   "metadata": {},
   "source": [
    "# Merging two lists at a time\n",
    "# M lists\n",
    "\n",
    "Merging two lists at time: 2*n * m/2 -> n*m\n",
    "\n",
    "We are left m/2 lists and each of these lists of size 2*n\n",
    "\n",
    "Merging two at time again: 2*2*n * m/4 -> n*m\n",
    "\n",
    "m, m/2, m/4,....4, 2, 1\n",
    "How many terms are there in this list? Or How many steps? - log(m)\n",
    "\n",
    "overall complexity n*m*log(m)"
   ]
  },
  {
   "cell_type": "code",
   "execution_count": 1,
   "metadata": {},
   "outputs": [],
   "source": [
    "\n",
    "\n",
    "n = 1024 * 1024 * 1024 * 1024 \n",
    "m = 10000"
   ]
  },
  {
   "cell_type": "code",
   "execution_count": 9,
   "metadata": {},
   "outputs": [
    {
     "data": {
      "text/plain": [
       "109951162777600000000"
      ]
     },
     "execution_count": 9,
     "metadata": {},
     "output_type": "execute_result"
    }
   ],
   "source": [
    "A = m*m*n\n",
    "A"
   ]
  },
  {
   "cell_type": "code",
   "execution_count": 10,
   "metadata": {},
   "outputs": [],
   "source": [
    "from math import log2"
   ]
  },
  {
   "cell_type": "code",
   "execution_count": 11,
   "metadata": {},
   "outputs": [],
   "source": [
    "B = m*n * log2(m)"
   ]
  },
  {
   "cell_type": "code",
   "execution_count": 12,
   "metadata": {},
   "outputs": [
    {
     "data": {
      "text/plain": [
       "1.460999426785772e+17"
      ]
     },
     "execution_count": 12,
     "metadata": {},
     "output_type": "execute_result"
    }
   ],
   "source": [
    "B"
   ]
  },
  {
   "cell_type": "code",
   "execution_count": 14,
   "metadata": {},
   "outputs": [
    {
     "data": {
      "text/plain": [
       "752.574989159953"
      ]
     },
     "execution_count": 14,
     "metadata": {},
     "output_type": "execute_result"
    }
   ],
   "source": [
    "A/B"
   ]
  },
  {
   "cell_type": "code",
   "execution_count": 15,
   "metadata": {},
   "outputs": [],
   "source": [
    "# Sorting big data using minHeap"
   ]
  },
  {
   "cell_type": "code",
   "execution_count": null,
   "metadata": {},
   "outputs": [],
   "source": [
    "# Using MinHeap\n",
    "Complexity: O(n*m*log(m))"
   ]
  },
  {
   "cell_type": "code",
   "execution_count": 16,
   "metadata": {},
   "outputs": [],
   "source": [
    "# Hoffman encoding"
   ]
  },
  {
   "cell_type": "code",
   "execution_count": 20,
   "metadata": {},
   "outputs": [],
   "source": [
    "# Question: Find the restraunts (millions of (x,y)) near you (x, y). \n",
    "# create_tree(list of (x,y))\n",
    "# search(tree, (x, y))\n",
    "\n",
    "# See: https://en.wikipedia.org/wiki/Quadtree"
   ]
  },
  {
   "cell_type": "code",
   "execution_count": 19,
   "metadata": {},
   "outputs": [],
   "source": [
    "# B+Tree"
   ]
  },
  {
   "cell_type": "code",
   "execution_count": null,
   "metadata": {},
   "outputs": [],
   "source": []
  }
 ],
 "metadata": {
  "kernelspec": {
   "display_name": "Python 3 (ipykernel)",
   "language": "python",
   "name": "python3"
  },
  "language_info": {
   "codemirror_mode": {
    "name": "ipython",
    "version": 3
   },
   "file_extension": ".py",
   "mimetype": "text/x-python",
   "name": "python",
   "nbconvert_exporter": "python",
   "pygments_lexer": "ipython3",
   "version": "3.12.3"
  },
  "toc": {
   "base_numbering": 1,
   "nav_menu": {},
   "number_sections": true,
   "sideBar": true,
   "skip_h1_title": false,
   "title_cell": "Table of Contents",
   "title_sidebar": "Contents",
   "toc_cell": false,
   "toc_position": {},
   "toc_section_display": true,
   "toc_window_display": false
  }
 },
 "nbformat": 4,
 "nbformat_minor": 4
}
