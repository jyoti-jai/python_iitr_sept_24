{
 "cells": [
  {
   "cell_type": "code",
   "execution_count": null,
   "id": "ae7630f0",
   "metadata": {},
   "outputs": [],
   "source": [
    "import numpy as np\n",
    "def loss(y_label, m, c, X):\n",
    "    y_pred = m*X + c\n",
    "    return np.sum(np.max(0, 1 - y_label*y_pred))\n",
    "\n",
    "You can use Gradient Descent to find m and c for which loss is minimum.\n"
   ]
  },
  {
   "cell_type": "code",
   "execution_count": null,
   "id": "f77e668d",
   "metadata": {},
   "outputs": [],
   "source": [
    "def relu(x):\n",
    "    return max(0, x)\n",
    "\n",
    "y_label = np.array([1, -1])\n",
    "y_actual = np.array([5, 4])\n",
    "\n",
    "relu(1 - 4*-1) + relu(1 - 5*1)\n",
    "relu(1+4) + relu(-4)\n",
    "\n",
    "5 + 0 = 5"
   ]
  },
  {
   "cell_type": "code",
   "execution_count": null,
   "id": "170b42cd",
   "metadata": {},
   "outputs": [],
   "source": [
    "# 0 and 1 - 1 100%, 0 not pure.\n",
    "def purity(arr):\n",
    "    # return purity\n",
    "    return 0\n",
    "\n",
    "purity([0,0, 1, 1]) - 0\n",
    "purity([1, 1, 1, 1]) > purity([0, 0, 0, 1]) > purity([0, 0, 1, 1])\n"
   ]
  },
  {
   "cell_type": "code",
   "execution_count": null,
   "id": "01880d96",
   "metadata": {},
   "outputs": [],
   "source": [
    "# 0 - pure, 1 - impure\n",
    "def impurity(arr):\n",
    "    # return purity\n",
    "    return 0\n",
    "\n",
    "impurity([0,0, 1, 1]) -> 1\n",
    "impurity([1, 1, 1, 1]) < impurity([0, 0, 0, 1]) < impurity([0, 0, 1, 1])\n",
    "\n",
    "\n",
    "count_0 = 0.5, count_1 = 0.5, impurity = 1\n",
    "count_0 = 0.75, count_1 = 0.25, impurity = 0.5\n",
    "\n",
    "# (0: .5, 1: .5) > (0:.75, 1:.25) > (0: 1, 1:0)\n",
    "def impurity(p0, p1):\n",
    "    return 1 - abs(p0 - p1)\n",
    "\n",
    "def impurity(p0, p1):\n",
    "    return p0*p1/.25\n"
   ]
  },
  {
   "cell_type": "code",
   "execution_count": null,
   "id": "a827159a",
   "metadata": {},
   "outputs": [],
   "source": [
    "X = [13, 4, 8, 9, 15, 26] -> [4, 8, 9, 13, 15, 26]\n",
    "y = [1, 0, 0, 0, 1, 1]    -> [0, 0, 0,  1,  1,   1]\n",
    "\n",
    "# Age = 4\n",
    "X1 = [4], X1 = [8, 9, 13, 15, 26]\n",
    "y1 = [0], y1 = [0, 0,  1,  1,   1]\n",
    "\n",
    "# Age = 8\n",
    "\n",
    "# Age = 9\n",
    "\n",
    "# Age = 13\n",
    "X1 = [4, 8, 9,], X1 = [13, 15, 26]\n",
    "y1 = [0, 0, 0], y1 = [1,  1,   1]\n",
    "\n",
    "#Build it on IRIS.\n",
    "model.fit(X, y)\n"
   ]
  },
  {
   "cell_type": "code",
   "execution_count": 2,
   "id": "d08e53a8",
   "metadata": {},
   "outputs": [],
   "source": [
    "import numpy as np"
   ]
  },
  {
   "cell_type": "code",
   "execution_count": null,
   "id": "cfa3914c",
   "metadata": {},
   "outputs": [],
   "source": [
    "\n",
    "setA = np.array([1,2,1,2, 3])\n",
    "setB = np.array([10, 1, 2, 0, 20])\n",
    "\n",
    "def variance(data):\n",
    "    mean = np.mean(data)\n",
    "    diff = data - mean\n",
    "    sqdiff = diff * diff\n",
    "    total = np.sum(sqdiff)\n",
    "    return total"
   ]
  },
  {
   "cell_type": "code",
   "execution_count": 4,
   "id": "b511bf63",
   "metadata": {},
   "outputs": [
    {
     "data": {
      "text/plain": [
       "(2.8000000000000003, 287.2)"
      ]
     },
     "execution_count": 4,
     "metadata": {},
     "output_type": "execute_result"
    }
   ],
   "source": [
    "variance(setA), variance(setB)"
   ]
  },
  {
   "cell_type": "code",
   "execution_count": null,
   "id": "eb5a8946",
   "metadata": {},
   "outputs": [
    {
     "name": "stdout",
     "output_type": "stream",
     "text": [
      "542.75\n"
     ]
    }
   ],
   "source": [
    "X = [....]\n",
    "y = [1,2, 10, 30]\n",
    "print(variance(data))"
   ]
  },
  {
   "cell_type": "code",
   "execution_count": 9,
   "id": "4b41ef55",
   "metadata": {},
   "outputs": [
    {
     "name": "stdout",
     "output_type": "stream",
     "text": [
      "0.5 5000.0\n"
     ]
    }
   ],
   "source": [
    "left = [1,2]\n",
    "right = [100, 200]\n",
    "print(variance(left), variance(right))\n"
   ]
  },
  {
   "cell_type": "code",
   "execution_count": 11,
   "id": "4ff29f17",
   "metadata": {},
   "outputs": [
    {
     "name": "stdout",
     "output_type": "stream",
     "text": [
      "6468.666666666665 0.0\n"
     ]
    }
   ],
   "source": [
    "left = [1,2, 100]\n",
    "right = [200]\n",
    "print(variance(left), variance(right))\n"
   ]
  },
  {
   "cell_type": "code",
   "execution_count": 12,
   "id": "5e3f8ef7",
   "metadata": {},
   "outputs": [
    {
     "name": "stdout",
     "output_type": "stream",
     "text": [
      "0.0 19602.666666666664\n"
     ]
    }
   ],
   "source": [
    "left = [1]\n",
    "right = [2, 100, 200]\n",
    "print(variance(left), variance(right))\n"
   ]
  },
  {
   "cell_type": "markdown",
   "id": "768a48e9",
   "metadata": {},
   "source": [
    "Question:\n",
    "- Build a decision tree for classification and test ir for iris dataset. Binary Classification\n",
    "- Build a regression tree and test it for housing prices."
   ]
  },
  {
   "cell_type": "markdown",
   "id": "30a3b757",
   "metadata": {},
   "source": []
  }
 ],
 "metadata": {
  "kernelspec": {
   "display_name": "ml",
   "language": "python",
   "name": "python3"
  },
  "language_info": {
   "codemirror_mode": {
    "name": "ipython",
    "version": 3
   },
   "file_extension": ".py",
   "mimetype": "text/x-python",
   "name": "python",
   "nbconvert_exporter": "python",
   "pygments_lexer": "ipython3",
   "version": "3.13.1"
  }
 },
 "nbformat": 4,
 "nbformat_minor": 5
}
