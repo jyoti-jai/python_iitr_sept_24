{
 "cells": [
  {
   "cell_type": "markdown",
   "id": "42df4ebb",
   "metadata": {},
   "source": [
    "Q1:\n",
    "    Using random() generate values from 0 to 50.\n",
    "    random()*50\n",
    "\n",
    "Q2:\n",
    "    Using random() generate values from 10 to 100, only integers.\n",
    "    int(10 + 90*random())\n",
    "\n",
    "Q3:\n",
    "    \n",
    "\n",
    "Q3: Given an array of numbers, split it into train (80%) and test(20%). Use random.random() gives a value between 0 and 1.\n",
    "\n",
    "\n",
    "\n",
    "* Random sample *\n",
    "\n",
    "    def split(arr, test_ratio):\n",
    "        returns two arrays - train and test\n",
    "\n",
    "\n",
    "Q4: Imaging you have list of tuples: \n",
    "[(G1, 10), (G2, 30), (g1, 50)....]\n",
    "\n",
    "    def stratified_sampling(data, test_ratio):\n",
    "        return train and test dataset such that train/test should have the same ratio for each strata\n",
    "        # For example if test_ratio is .2\n",
    "        # train: 0.8 from G1, G2, G3....\n",
    "        # test: 0.2 from G1, G2, G3"
   ]
  },
  {
   "cell_type": "code",
   "execution_count": null,
   "id": "7bff98a8",
   "metadata": {},
   "outputs": [],
   "source": []
  },
  {
   "cell_type": "code",
   "execution_count": null,
   "id": "32398c39",
   "metadata": {},
   "outputs": [
    {
     "data": {
      "text/plain": [
       "0.3461510748466924"
      ]
     },
     "execution_count": 3,
     "metadata": {},
     "output_type": "execute_result"
    }
   ],
   "source": []
  },
  {
   "cell_type": "code",
   "execution_count": 5,
   "id": "08c1e6ed",
   "metadata": {},
   "outputs": [
    {
     "data": {
      "text/plain": [
       "(0.5714025946899135, 0.4288890546751146)"
      ]
     },
     "execution_count": 5,
     "metadata": {},
     "output_type": "execute_result"
    }
   ],
   "source": [
    "random.seed(10)\n",
    "random.random(), random.random()\n"
   ]
  },
  {
   "cell_type": "code",
   "execution_count": 6,
   "id": "ecda9616",
   "metadata": {},
   "outputs": [
    {
     "data": {
      "text/plain": [
       "(0.5714025946899135, 0.4288890546751146)"
      ]
     },
     "execution_count": 6,
     "metadata": {},
     "output_type": "execute_result"
    }
   ],
   "source": [
    "random.seed(10)\n",
    "random.random(), random.random()\n"
   ]
  },
  {
   "cell_type": "code",
   "execution_count": null,
   "id": "d1c03dd0",
   "metadata": {},
   "outputs": [],
   "source": []
  }
 ],
 "metadata": {
  "kernelspec": {
   "display_name": "spider2_env",
   "language": "python",
   "name": "python3"
  },
  "language_info": {
   "codemirror_mode": {
    "name": "ipython",
    "version": 3
   },
   "file_extension": ".py",
   "mimetype": "text/x-python",
   "name": "python",
   "nbconvert_exporter": "python",
   "pygments_lexer": "ipython3",
   "version": "3.12.7"
  }
 },
 "nbformat": 4,
 "nbformat_minor": 5
}
