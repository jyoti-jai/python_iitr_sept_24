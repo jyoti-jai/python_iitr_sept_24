{
 "cells": [
  {
   "cell_type": "markdown",
   "id": "42df4ebb",
   "metadata": {},
   "source": [
    "Q1:\n",
    "    Using random() generate values from 0 to 50.\n",
    "    random()*50\n",
    "\n",
    "Q2:\n",
    "    Using random() generate values from 10 to 100, only integers.\n",
    "    int(10 + 90*random())\n",
    "\n",
    "Q3:\n",
    "    \n",
    "\n",
    "Q3: Given an array of numbers, split it into train (80%) and test(20%). Use random.random() gives a value between 0 and 1.\n",
    "\n",
    "\n",
    "\n",
    "* Random sample *\n",
    "\n",
    "    def split(arr, test_ratio):\n",
    "        returns two arrays - train and test\n",
    "\n",
    "\n",
    "Q4: Imaging you have list of tuples: \n",
    "[(G1, 10), (G2, 30), (g1, 50)....]\n",
    "\n",
    "    def stratified_sampling(data, test_ratio):\n",
    "        return train and test dataset such that train/test should have the same ratio for each strata\n",
    "        # For example if test_ratio is .2\n",
    "        # train: 0.8 from G1, G2, G3....\n",
    "        # test: 0.2 from G1, G2, G3"
   ]
  },
  {
   "cell_type": "code",
   "execution_count": null,
   "id": "40019ae6",
   "metadata": {},
   "outputs": [],
   "source": []
  },
  {
   "cell_type": "code",
   "execution_count": null,
   "id": "7bff98a8",
   "metadata": {},
   "outputs": [],
   "source": [
    "# Q1:\n",
    "#     Using random() generate values from 0 to 50.\n",
    "#     random()*50\n",
    "import random\n",
    "import numpy as np\n",
    "\n",
    "def generate_random_50():\n",
    "    max = 50\n",
    "    count = 50\n",
    "    \n",
    "    arr_check = np.zeros(max, dtype=bool)\n",
    "    arr_result = np.zeros(count, dtype=int)\n",
    "    \n",
    "    for i in range(count):\n",
    "        success = False\n",
    "        while not success:\n",
    "            r = random.random()\n",
    "            num = r * max\n",
    "            if (not arr_check[num]):\n",
    "                success = True\n",
    "                arr_check[num] = 1\n",
    "        \n",
    "        arr_result[i]=num\n",
    "        \n",
    "    print(arr_result.max())\n",
    "    print (arr_result)\n",
    "    print (arr_check)\n",
    "    return arr_result\n",
    "\n",
    "    \n",
    "generate_random_50()\n"
   ]
  },
  {
   "cell_type": "code",
   "execution_count": 1,
   "id": "08c1e6ed",
   "metadata": {},
   "outputs": [
    {
     "name": "stdout",
     "output_type": "stream",
     "text": [
      "99\n",
      "[26 85 62 96 51 50 82 15 24 35 23 25 53 27 40 72 12 88 95 61 39 66 94 20\n",
      " 19 99 98 89 67 48 38 87 68 65 97 84 90 21 29 10 47 36 14 80 60 81 42 57\n",
      " 56 93 45 64 33 83 76 41 17 69 32 49 73 91 58 75 74 63 77 59 86 16 92 54\n",
      " 79 22 11 78 37 55 43 31 13 52 71 30 18 34 70 44 46 28]\n"
     ]
    }
   ],
   "source": [
    "# Q2:\n",
    "#     Using random() generate values from 10 to 100, only integers.\n",
    "#     int(10 + 90*random())\n",
    "import random\n",
    "import numpy as np\n",
    "\n",
    "def generate_random_numbers(min, max, count):\n",
    "    count = count if (max - min) >= count else (max - min)\n",
    "    arr_check = np.zeros(max, dtype=bool)\n",
    "    arr_result = np.zeros(count, dtype=int)\n",
    "    \n",
    "    for i in range(count):\n",
    "        success = False\n",
    "        while not success:\n",
    "            r = random.random()\n",
    "            num = int(min + r * (max-min))\n",
    "            if (not arr_check[num]):\n",
    "                success = True\n",
    "                arr_check[num] = 1\n",
    "        \n",
    "        arr_result[i]=num\n",
    "    return arr_result\n",
    "\n",
    "arr = generate_random_numbers(10,100, 90)\n",
    "print(arr.max())\n",
    "print (arr)"
   ]
  },
  {
   "cell_type": "code",
   "execution_count": 2,
   "id": "ecda9616",
   "metadata": {},
   "outputs": [],
   "source": [
    "# Q3: Given an array of numbers, split it into train (80%) and test(20%). Use random.random() gives a value between 0 and 1.\n",
    "def split(arr, test_ratio):\n",
    "        arr_len = len(arr)\n",
    "        random_idxs= generate_random_numbers(0, arr_len, arr_len)\n",
    "        test_count = round(arr_len * test_ratio )\n",
    "        # print (arr_len)\n",
    "        # print (test_count)\n",
    "        # print (random_idxs)\n",
    "        test_idxs, train_idxs=np.split( random_idxs, [test_count])\n",
    "        test_arr = []\n",
    "        train_arr = []\n",
    "        for idx in test_idxs:\n",
    "                test_arr.append(arr[idx])\n",
    "        for idx in train_idxs:\n",
    "                train_arr.append(arr[idx])\n",
    "        \n",
    "        return np.array(train_arr), np.array(test_arr)\n",
    "        \n",
    "        "
   ]
  },
  {
   "cell_type": "code",
   "execution_count": 119,
   "id": "d1c03dd0",
   "metadata": {},
   "outputs": [
    {
     "name": "stdout",
     "output_type": "stream",
     "text": [
      "['a' 'b' 'c' 'd' 'e' 'f' 'g' 'h' 'i' 'j' 'k' 'l' 'm' 'n' 'o' 'p' 'q' 'r'\n",
      " 's' 't' 'u' 'v' 'w' 'x' 'y' 'z' 'A' 'B' 'C' 'D' 'E' 'F' 'G' 'H' 'I' 'J'\n",
      " 'K' 'L' 'M' 'N' 'O' 'P' 'Q' 'R' 'S' 'T' 'U' 'V' 'W' 'X' 'Y' 'Z']\n",
      "[]\n",
      "['c' 'h' 'b' 'j' 'i' 'f' 'g' 'e' 'a' 'd']\n"
     ]
    }
   ],
   "source": [
    "import string\n",
    "char_array = np.array(list(string.ascii_letters))  # Includes both lowercase and uppercase\n",
    "print(char_array)\n",
    "train_arr, test_arr  = split(char_array[:10\n",
    "                                       ], .0)\n",
    "print(test_arr)\n",
    "print(train_arr)\n"
   ]
  },
  {
   "cell_type": "code",
   "execution_count": 3,
   "id": "ec121275",
   "metadata": {},
   "outputs": [
    {
     "name": "stdout",
     "output_type": "stream",
     "text": [
      "{'G1': [0, 1, 8], 'G2': [2, 9], 'G6': [3, 6, 11], 'G4': [4, 5, 7, 10]}\n",
      "[('G1', 5), ('G1', 50), ('G2', 10), ('G2', 130), ('G6', 419), ('G6', 19), ('G4', 109), ('G4', 310), ('G4', 180)]\n",
      "[('G1', 30), ('G6', 410), ('G4', 11)]\n"
     ]
    }
   ],
   "source": [
    "# # Q4: Imaging you have list of tuples: \n",
    "# # [(G1, 10), (G2, 30), (g1, 50)....]\n",
    "\n",
    "def stratified_sampling(data, test_ratio):\n",
    "    # return train and test dataset such that train/test should have the same ratio for each strata\n",
    "        # For example if test_ratio is .2\n",
    "        # train: 0.8 from G1, G2, G3....\n",
    "        # test: 0.2 from G1, G2, G3\n",
    "    G_dict = {}\n",
    "    idx = 0\n",
    "    for G, val in data:\n",
    "        if G not in G_dict:\n",
    "            G_dict[G] = []\n",
    "        G_dict[G].append(idx)\n",
    "        idx+=1\n",
    "    print (G_dict)\n",
    "    test_arr=[]\n",
    "    train_arr=[]\n",
    "    for key, val in G_dict.items():\n",
    "        G_train_idxs, G_test_idxs = split(val,test_ratio)\n",
    "        # print(G,val, G_test_idxs, G_train_idxs)\n",
    "        # print (G, val, type(val))\n",
    "        for idx in G_test_idxs:\n",
    "            test_arr.append(data[idx])\n",
    "        for idx in G_train_idxs:\n",
    "            train_arr.append(data[idx])\n",
    "    return train_arr, test_arr\n",
    "\n",
    "data = [('G1', 5), ('G1', 30), ('G2', 10), ('G6', 19), ('G4', 11), ('G4', 310), ('G6', 410), \n",
    "        ('G4', 109),('G1', 50), ('G2', 130), ('G4', 180), ('G6', 419)]\n",
    "train_arr, test_arr = stratified_sampling(data, .2)\n",
    "print(train_arr)\n",
    "print(test_arr)"
   ]
  },
  {
   "cell_type": "code",
   "execution_count": null,
   "id": "f8d79c11",
   "metadata": {},
   "outputs": [
    {
     "name": "stdout",
     "output_type": "stream",
     "text": [
      "7\n",
      "[('G6', np.int64(7)), ('G4', np.int64(6)), ('G5', np.int64(1)), ('G3', np.int64(0)), ('G2', np.int64(9)), ('G3', np.int64(3)), ('G2', np.int64(2)), ('G6', np.int64(5)), ('G4', np.int64(8)), ('G5', np.int64(4))]\n",
      "{'G6': [0, 7], 'G4': [1, 8], 'G5': [2, 9], 'G3': [3, 5], 'G2': [4, 6]}\n",
      "[('G6', np.int64(7)), ('G6', np.int64(5)), ('G4', np.int64(6)), ('G4', np.int64(8)), ('G5', np.int64(4)), ('G5', np.int64(1)), ('G3', np.int64(3)), ('G3', np.int64(0)), ('G2', np.int64(2)), ('G2', np.int64(9))]\n",
      "[]\n"
     ]
    }
   ],
   "source": [
    "import string\n",
    "import random\n",
    "\n",
    "# Genberate data\n",
    "groups = ['G1', 'G2', 'G3', 'G4', 'G5', 'G6']\n",
    "random_groups = [random.choice(groups) for _ in range(10)]  # Randomly picks one for each element\n",
    "random_numbers= generate_random_numbers(0,10,10)\n",
    "print((random_numbers[0]))\n",
    "\n",
    "data=[]\n",
    "i=0\n",
    "for val in random_groups:\n",
    "    grp = (val, random_numbers[i])\n",
    "    data.append(grp)\n",
    "    i+=1\n",
    "print (data)\n",
    "    \n",
    "# test stratified sampling with generated data\n",
    "train_arr, test_arr = stratified_sampling(data, .2)\n",
    "print(train_arr)\n",
    "print(test_arr)"
   ]
  },
  {
   "cell_type": "code",
   "execution_count": 95,
   "id": "11be7d58",
   "metadata": {},
   "outputs": [
    {
     "name": "stdout",
     "output_type": "stream",
     "text": [
      "('G1', 10)\n"
     ]
    }
   ],
   "source": [
    "data = [('G1', 10), ('G2', 30), ('G1', 50), ('G6', 19),('G2', 5)]\n",
    "val = data[0]\n",
    "print (val)"
   ]
  },
  {
   "cell_type": "code",
   "execution_count": 100,
   "id": "5f4191fb",
   "metadata": {},
   "outputs": [
    {
     "name": "stdout",
     "output_type": "stream",
     "text": [
      "G1 [0, 2]\n",
      "0\n",
      "G2 [1, 4]\n",
      "1\n",
      "G6 [3]\n",
      "3\n"
     ]
    }
   ],
   "source": [
    "G_dict = {'G1': [0, 2], 'G2': [1, 4], 'G6': [3]}\n",
    "for k, v in G_dict.items():\n",
    "    print (k,v)\n",
    "    print (v[0])"
   ]
  },
  {
   "cell_type": "code",
   "execution_count": 123,
   "id": "ccbf05c5",
   "metadata": {},
   "outputs": [
    {
     "name": "stdout",
     "output_type": "stream",
     "text": [
      "['G4', 'G5', 'G6', 'G1', 'G2', 'G1', 'G2', 'G5', 'G3', 'G3', 'G3', 'G6', 'G3', 'G2', 'G5', 'G4', 'G4', 'G5', 'G6', 'G5', 'G4', 'G5', 'G3', 'G4', 'G5', 'G5', 'G4', 'G3', 'G1', 'G5', 'G2', 'G6', 'G2', 'G5', 'G6', 'G3', 'G6', 'G1', 'G5', 'G6', 'G6', 'G3', 'G4', 'G1', 'G1', 'G2', 'G5', 'G3', 'G3', 'G1']\n"
     ]
    }
   ],
   "source": [
    "import random\n",
    "\n",
    "groups = ['G1', 'G2', 'G3', 'G4', 'G5', 'G6']\n",
    "random_list = [random.choice(groups) for _ in range(50)]  # Randomly picks one for each element\n",
    "\n",
    "print(random_list)\n"
   ]
  }
 ],
 "metadata": {
  "kernelspec": {
   "display_name": "Python (cw_env)",
   "language": "python",
   "name": "cw_env"
  },
  "language_info": {
   "codemirror_mode": {
    "name": "ipython",
    "version": 3
   },
   "file_extension": ".py",
   "mimetype": "text/x-python",
   "name": "python",
   "nbconvert_exporter": "python",
   "pygments_lexer": "ipython3",
   "version": "3.12.3"
  }
 },
 "nbformat": 4,
 "nbformat_minor": 5
}
